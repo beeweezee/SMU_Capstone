{
 "cells": [
  {
   "cell_type": "code",
   "execution_count": 1,
   "metadata": {},
   "outputs": [],
   "source": [
    "import numpy as np\n",
    "import pandas as pd\n",
    "from sklearn.model_selection import cross_val_score\n",
    "import matplotlib.pyplot as plt\n",
    "import warnings\n",
    "warnings.filterwarnings('ignore')\n",
    "%matplotlib inline"
   ]
  },
  {
   "cell_type": "code",
   "execution_count": 22,
   "metadata": {},
   "outputs": [],
   "source": [
    "def plot_confusion_matrix(cm, classes,\n",
    "                          normalize=False,\n",
    "                          title='Confusion matrix',\n",
    "                          cmap=plt.cm.Blues):\n",
    "    \"\"\"\n",
    "    This function prints and plots the confusion matrix.\n",
    "    Normalization can be applied by setting `normalize=True`.\n",
    "    \"\"\"\n",
    "    import itertools\n",
    "    if normalize:\n",
    "        cm = cm.astype('float') / cm.sum(axis=1)[:, np.newaxis]\n",
    "        print(\"Normalized confusion matrix\")\n",
    "    else:\n",
    "        print('Confusion matrix, without normalization')\n",
    "\n",
    "    print(cm)\n",
    "\n",
    "    plt.imshow(cm, interpolation='nearest', cmap=cmap)\n",
    "    plt.title(title)\n",
    "    plt.colorbar()\n",
    "    tick_marks = np.arange(len(classes))\n",
    "    plt.xticks(tick_marks, classes, rotation=45)\n",
    "    plt.yticks(tick_marks, classes)\n",
    "\n",
    "    fmt = '.2f' if normalize else 'd'\n",
    "    thresh = cm.max() / 2.\n",
    "    for i, j in itertools.product(range(cm.shape[0]), range(cm.shape[1])):\n",
    "        plt.text(j, i, format(cm[i, j], fmt),\n",
    "                 horizontalalignment=\"center\",\n",
    "                 color=\"white\" if cm[i, j] > thresh else \"black\")\n",
    "\n",
    "    plt.ylabel('True label')\n",
    "    plt.xlabel('Predicted label')\n",
    "    plt.tight_layout()"
   ]
  },
  {
   "cell_type": "code",
   "execution_count": 28,
   "metadata": {},
   "outputs": [],
   "source": [
    "file_info = \"C:\\\\Users\\\\blgai\\\\OneDrive\\\\Documents\\\\School\\\\SMU\\\\Courses\\\\Fall 2021\\\\Capstone A\\Data\\\\cleaned_chunked_v2.csv\"\n",
    "df = pd.read_csv(file_info, sep='\\t')"
   ]
  },
  {
   "cell_type": "code",
   "execution_count": 29,
   "metadata": {},
   "outputs": [
    {
     "data": {
      "text/html": [
       "<div>\n",
       "<style scoped>\n",
       "    .dataframe tbody tr th:only-of-type {\n",
       "        vertical-align: middle;\n",
       "    }\n",
       "\n",
       "    .dataframe tbody tr th {\n",
       "        vertical-align: top;\n",
       "    }\n",
       "\n",
       "    .dataframe thead th {\n",
       "        text-align: right;\n",
       "    }\n",
       "</style>\n",
       "<table border=\"1\" class=\"dataframe\">\n",
       "  <thead>\n",
       "    <tr style=\"text-align: right;\">\n",
       "      <th></th>\n",
       "      <th>url</th>\n",
       "      <th>code</th>\n",
       "      <th>category</th>\n",
       "      <th>language</th>\n",
       "      <th>title</th>\n",
       "      <th>summary</th>\n",
       "      <th>key_words</th>\n",
       "      <th>content</th>\n",
       "      <th>combined</th>\n",
       "      <th>nouns</th>\n",
       "      <th>compounds</th>\n",
       "      <th>comp_nouns</th>\n",
       "      <th>flat_comp_nouns</th>\n",
       "      <th>clean_comp_nouns</th>\n",
       "    </tr>\n",
       "  </thead>\n",
       "  <tbody>\n",
       "    <tr>\n",
       "      <th>0</th>\n",
       "      <td>*://BLAZINHERB.CA</td>\n",
       "      <td>200</td>\n",
       "      <td>dr</td>\n",
       "      <td>en</td>\n",
       "      <td>Blazin Herb</td>\n",
       "      <td>The Diamond High Crew</td>\n",
       "      <td>Blazin herb</td>\n",
       "      <td>Blazin Herb THC Edibles Concentrates Flower/bu...</td>\n",
       "      <td>Blazin Herb The Diamond High Crew Blazin herb ...</td>\n",
       "      <td>[('Blazin', 0, 6, 'PROPN'), ('Herb', 7, 11, 'P...</td>\n",
       "      <td>[('Blazin Herb', 0, 11, 'COMPOUND'), ('Diamond...</td>\n",
       "      <td>{'Read', 'Picks', 'DIAMOND', 'bud', 'THC', 'So...</td>\n",
       "      <td>{'Read', 'Picks', 'DIAMOND', 'bud', 'THC', 'So...</td>\n",
       "      <td>read picks diamond bud thc social sleep club r...</td>\n",
       "    </tr>\n",
       "    <tr>\n",
       "      <th>1</th>\n",
       "      <td>*://THEHONEYPOTSTORE.CA</td>\n",
       "      <td>200</td>\n",
       "      <td>dr</td>\n",
       "      <td>en</td>\n",
       "      <td>The Honey Pot Cannabis and Medical Marijuana p...</td>\n",
       "      <td>The Honey Pot Hamilton Ontario, provides canna...</td>\n",
       "      <td>The Honey Pot ,Georgia Peach Cannabis and Medi...</td>\n",
       "      <td>The Honey Pot Home About Us F.A.Q.'s About The...</td>\n",
       "      <td>The Honey Pot Cannabis and Medical Marijuana p...</td>\n",
       "      <td>[('Honey', 4, 9, 'PROPN'), ('Pot', 10, 13, 'PR...</td>\n",
       "      <td>[('Honey Pot Cannabis', 4, 22, 'COMPOUND'), ('...</td>\n",
       "      <td>{'appetite', 'Stress', 'Muscle', 'Hepatitis C'...</td>\n",
       "      <td>{'appetite', 'Stress', 'Muscle', 'Hepatitis C'...</td>\n",
       "      <td>appetite stress muscle hepatitis c hamilton hi...</td>\n",
       "    </tr>\n",
       "    <tr>\n",
       "      <th>2</th>\n",
       "      <td>*://AMANTE.CA</td>\n",
       "      <td>200</td>\n",
       "      <td>dr</td>\n",
       "      <td>en</td>\n",
       "      <td>Amante Organics - Licensed Certified Organic C...</td>\n",
       "      <td>np-template-header-footer-from-plugin</td>\n",
       "      <td>Organic Cannabis, Certified Organic, Weed, Org...</td>\n",
       "      <td>Amante Organics LOCAL | ORGANIC | SUSTAINABLE ...</td>\n",
       "      <td>Amante Organics - Licensed Certified Organic C...</td>\n",
       "      <td>[('Amante', 0, 6, 'PROPN'), ('Organics', 7, 15...</td>\n",
       "      <td>[('Amante Organics -', 0, 17, 'COMPOUND'), ('O...</td>\n",
       "      <td>{'nations', 'Rights Reserved', \"a'mante\", 'Lic...</td>\n",
       "      <td>{'nations', 'Rights Reserved', \"a'mante\", 'Lic...</td>\n",
       "      <td>nation rights reserved amante licensed np head...</td>\n",
       "    </tr>\n",
       "    <tr>\n",
       "      <th>3</th>\n",
       "      <td>*://CANNAFLY.CA</td>\n",
       "      <td>200</td>\n",
       "      <td>dr</td>\n",
       "      <td>en</td>\n",
       "      <td>Cannafly</td>\n",
       "      <td>Cannafly</td>\n",
       "      <td>Marijuana, cannabis, medical marijuana, dispen...</td>\n",
       "      <td>Vancouver's Premium Mobile Medicinal Cannabis ...</td>\n",
       "      <td>Cannafly Cannafly Marijuana, cannabis, medical...</td>\n",
       "      <td>[('Cannafly', 0, 8, 'PROPN'), ('Cannafly', 9, ...</td>\n",
       "      <td>[('marijuana legalization', 70, 92, 'COMPOUND'...</td>\n",
       "      <td>{'chilliwack', 'Connoisseurs', 'THC', 'industr...</td>\n",
       "      <td>{'chilliwack', 'Connoisseurs', 'THC', 'industr...</td>\n",
       "      <td>chilliwack connoisseurs thc industry death bub...</td>\n",
       "    </tr>\n",
       "    <tr>\n",
       "      <th>4</th>\n",
       "      <td>*://GRON.VC</td>\n",
       "      <td>200</td>\n",
       "      <td>dr</td>\n",
       "      <td>en</td>\n",
       "      <td>Grøn Ventures</td>\n",
       "      <td>We are backing businesses and brands with pote...</td>\n",
       "      <td>cannabis vc, cannabis venture capital, gron ve...</td>\n",
       "      <td>GRØN VENTURES 4675 MacArthur Ct, 15th Floor, N...</td>\n",
       "      <td>Grøn Ventures We are backing businesses and br...</td>\n",
       "      <td>[('Grøn', 0, 4, 'PROPN'), ('Ventures', 5, 13, ...</td>\n",
       "      <td>[('Grøn Ventures', 0, 13, 'COMPOUND'), ('marke...</td>\n",
       "      <td>{'marijuana', 'Beach', 'Newport', 'ventures', ...</td>\n",
       "      <td>{'marijuana', 'Beach', 'Newport', 'ventures', ...</td>\n",
       "      <td>marijuana beach newport venture ct ventures ma...</td>\n",
       "    </tr>\n",
       "  </tbody>\n",
       "</table>\n",
       "</div>"
      ],
      "text/plain": [
       "                       url  code category language  \\\n",
       "0        *://BLAZINHERB.CA   200       dr       en   \n",
       "1  *://THEHONEYPOTSTORE.CA   200       dr       en   \n",
       "2            *://AMANTE.CA   200       dr       en   \n",
       "3          *://CANNAFLY.CA   200       dr       en   \n",
       "4              *://GRON.VC   200       dr       en   \n",
       "\n",
       "                                               title  \\\n",
       "0                                        Blazin Herb   \n",
       "1  The Honey Pot Cannabis and Medical Marijuana p...   \n",
       "2  Amante Organics - Licensed Certified Organic C...   \n",
       "3                                           Cannafly   \n",
       "4                                      Grøn Ventures   \n",
       "\n",
       "                                             summary  \\\n",
       "0                              The Diamond High Crew   \n",
       "1  The Honey Pot Hamilton Ontario, provides canna...   \n",
       "2              np-template-header-footer-from-plugin   \n",
       "3                                           Cannafly   \n",
       "4  We are backing businesses and brands with pote...   \n",
       "\n",
       "                                           key_words  \\\n",
       "0                                        Blazin herb   \n",
       "1  The Honey Pot ,Georgia Peach Cannabis and Medi...   \n",
       "2  Organic Cannabis, Certified Organic, Weed, Org...   \n",
       "3  Marijuana, cannabis, medical marijuana, dispen...   \n",
       "4  cannabis vc, cannabis venture capital, gron ve...   \n",
       "\n",
       "                                             content  \\\n",
       "0  Blazin Herb THC Edibles Concentrates Flower/bu...   \n",
       "1  The Honey Pot Home About Us F.A.Q.'s About The...   \n",
       "2  Amante Organics LOCAL | ORGANIC | SUSTAINABLE ...   \n",
       "3  Vancouver's Premium Mobile Medicinal Cannabis ...   \n",
       "4  GRØN VENTURES 4675 MacArthur Ct, 15th Floor, N...   \n",
       "\n",
       "                                            combined  \\\n",
       "0  Blazin Herb The Diamond High Crew Blazin herb ...   \n",
       "1  The Honey Pot Cannabis and Medical Marijuana p...   \n",
       "2  Amante Organics - Licensed Certified Organic C...   \n",
       "3  Cannafly Cannafly Marijuana, cannabis, medical...   \n",
       "4  Grøn Ventures We are backing businesses and br...   \n",
       "\n",
       "                                               nouns  \\\n",
       "0  [('Blazin', 0, 6, 'PROPN'), ('Herb', 7, 11, 'P...   \n",
       "1  [('Honey', 4, 9, 'PROPN'), ('Pot', 10, 13, 'PR...   \n",
       "2  [('Amante', 0, 6, 'PROPN'), ('Organics', 7, 15...   \n",
       "3  [('Cannafly', 0, 8, 'PROPN'), ('Cannafly', 9, ...   \n",
       "4  [('Grøn', 0, 4, 'PROPN'), ('Ventures', 5, 13, ...   \n",
       "\n",
       "                                           compounds  \\\n",
       "0  [('Blazin Herb', 0, 11, 'COMPOUND'), ('Diamond...   \n",
       "1  [('Honey Pot Cannabis', 4, 22, 'COMPOUND'), ('...   \n",
       "2  [('Amante Organics -', 0, 17, 'COMPOUND'), ('O...   \n",
       "3  [('marijuana legalization', 70, 92, 'COMPOUND'...   \n",
       "4  [('Grøn Ventures', 0, 13, 'COMPOUND'), ('marke...   \n",
       "\n",
       "                                          comp_nouns  \\\n",
       "0  {'Read', 'Picks', 'DIAMOND', 'bud', 'THC', 'So...   \n",
       "1  {'appetite', 'Stress', 'Muscle', 'Hepatitis C'...   \n",
       "2  {'nations', 'Rights Reserved', \"a'mante\", 'Lic...   \n",
       "3  {'chilliwack', 'Connoisseurs', 'THC', 'industr...   \n",
       "4  {'marijuana', 'Beach', 'Newport', 'ventures', ...   \n",
       "\n",
       "                                     flat_comp_nouns  \\\n",
       "0  {'Read', 'Picks', 'DIAMOND', 'bud', 'THC', 'So...   \n",
       "1  {'appetite', 'Stress', 'Muscle', 'Hepatitis C'...   \n",
       "2  {'nations', 'Rights Reserved', \"a'mante\", 'Lic...   \n",
       "3  {'chilliwack', 'Connoisseurs', 'THC', 'industr...   \n",
       "4  {'marijuana', 'Beach', 'Newport', 'ventures', ...   \n",
       "\n",
       "                                    clean_comp_nouns  \n",
       "0  read picks diamond bud thc social sleep club r...  \n",
       "1  appetite stress muscle hepatitis c hamilton hi...  \n",
       "2  nation rights reserved amante licensed np head...  \n",
       "3  chilliwack connoisseurs thc industry death bub...  \n",
       "4  marijuana beach newport venture ct ventures ma...  "
      ]
     },
     "execution_count": 29,
     "metadata": {},
     "output_type": "execute_result"
    }
   ],
   "source": [
    "df.head()"
   ]
  },
  {
   "cell_type": "code",
   "execution_count": 30,
   "metadata": {},
   "outputs": [
    {
     "data": {
      "text/plain": [
       "category\n",
       "bu    11731\n",
       "dr     1595\n",
       "ed     3894\n",
       "mk     8775\n",
       "os     6789\n",
       "sp     2535\n",
       "sx     6557\n",
       "dtype: int64"
      ]
     },
     "execution_count": 30,
     "metadata": {},
     "output_type": "execute_result"
    }
   ],
   "source": [
    "df.groupby(df.category).size()"
   ]
  },
  {
   "cell_type": "code",
   "execution_count": 31,
   "metadata": {},
   "outputs": [
    {
     "data": {
      "text/plain": [
       "((29302,), (8386,), (4188,))"
      ]
     },
     "execution_count": 31,
     "metadata": {},
     "output_type": "execute_result"
    }
   ],
   "source": [
    "from sklearn.model_selection import train_test_split\n",
    "#get 10% holdout set\n",
    "train_corpus, holdout_corpus, train_label, holdout_label = train_test_split(np.array(df['clean_comp_nouns']), \n",
    "                                                                            np.array(df['category']),\n",
    "                                                                           test_size=.10,random_state=1234)\n",
    "\n",
    "#get 80% train and 20% test sets\n",
    "train_corpus, test_corpus, train_label, test_label = train_test_split(train_corpus,\n",
    "                                                                      train_label,\n",
    "                                                                      test_size=.2225,random_state=1234) #.9 * .2225 = .20\n",
    "\n",
    "train_corpus.shape, test_corpus.shape, holdout_corpus.shape"
   ]
  },
  {
   "cell_type": "code",
   "execution_count": 32,
   "metadata": {},
   "outputs": [
    {
     "name": "stdout",
     "output_type": "stream",
     "text": [
      "TFIDF model:> Train features shape: (29302, 344693) Test features shape: (8386, 344693) Holdout features shape: (4188, 344693)\n"
     ]
    }
   ],
   "source": [
    "from sklearn.feature_extraction.text import TfidfVectorizer\n",
    "\n",
    "#build BOW features on train corpus\n",
    "tv = TfidfVectorizer(use_idf=True, min_df=0.0,max_df=1.0, norm=\"l2\",smooth_idf=True)\n",
    "tv_train_features = tv.fit_transform(train_corpus)\n",
    "#transform test corpus into features\n",
    "tv_test_features = tv.transform(test_corpus)\n",
    "#transform holdout corpus into features\n",
    "tv_holdout_features = tv.transform(holdout_corpus)\n",
    "\n",
    "print('TFIDF model:> Train features shape:',tv_train_features.shape,'Test features shape:',tv_test_features.shape,'Holdout features shape:',tv_holdout_features.shape)"
   ]
  },
  {
   "cell_type": "code",
   "execution_count": 62,
   "metadata": {},
   "outputs": [
    {
     "data": {
      "text/plain": [
       "(29302, 25)"
      ]
     },
     "execution_count": 62,
     "metadata": {},
     "output_type": "execute_result"
    }
   ],
   "source": [
    "#Let's find the top important features and analyze them\n",
    "\n",
    "from sklearn.feature_selection import SelectKBest\n",
    "from sklearn.feature_selection import chi2\n",
    "X_opt=SelectKBest(chi2, k=25)\n",
    "tv_train_features_trimmed = X_opt.fit_transform(tv_train_features, train_label)\n",
    "tv_train_features_trimmed.shape"
   ]
  },
  {
   "cell_type": "code",
   "execution_count": 63,
   "metadata": {},
   "outputs": [
    {
     "data": {
      "text/html": [
       "<div>\n",
       "<style scoped>\n",
       "    .dataframe tbody tr th:only-of-type {\n",
       "        vertical-align: middle;\n",
       "    }\n",
       "\n",
       "    .dataframe tbody tr th {\n",
       "        vertical-align: top;\n",
       "    }\n",
       "\n",
       "    .dataframe thead th {\n",
       "        text-align: right;\n",
       "    }\n",
       "</style>\n",
       "<table border=\"1\" class=\"dataframe\">\n",
       "  <thead>\n",
       "    <tr style=\"text-align: right;\">\n",
       "      <th></th>\n",
       "      <th>Features</th>\n",
       "      <th>Important</th>\n",
       "    </tr>\n",
       "  </thead>\n",
       "  <tbody>\n",
       "    <tr>\n",
       "      <th>3804</th>\n",
       "      <td>adult</td>\n",
       "      <td>True</td>\n",
       "    </tr>\n",
       "    <tr>\n",
       "      <th>18559</th>\n",
       "      <td>ass</td>\n",
       "      <td>True</td>\n",
       "    </tr>\n",
       "    <tr>\n",
       "      <th>26227</th>\n",
       "      <td>basketball</td>\n",
       "      <td>True</td>\n",
       "    </tr>\n",
       "    <tr>\n",
       "      <th>37135</th>\n",
       "      <td>bong</td>\n",
       "      <td>True</td>\n",
       "    </tr>\n",
       "    <tr>\n",
       "      <th>42470</th>\n",
       "      <td>bud</td>\n",
       "      <td>True</td>\n",
       "    </tr>\n",
       "    <tr>\n",
       "      <th>46880</th>\n",
       "      <td>cannabis</td>\n",
       "      <td>True</td>\n",
       "    </tr>\n",
       "    <tr>\n",
       "      <th>110860</th>\n",
       "      <td>football</td>\n",
       "      <td>True</td>\n",
       "    </tr>\n",
       "    <tr>\n",
       "      <th>117819</th>\n",
       "      <td>gay</td>\n",
       "      <td>True</td>\n",
       "    </tr>\n",
       "    <tr>\n",
       "      <th>121523</th>\n",
       "      <td>girl</td>\n",
       "      <td>True</td>\n",
       "    </tr>\n",
       "    <tr>\n",
       "      <th>123625</th>\n",
       "      <td>golf</td>\n",
       "      <td>True</td>\n",
       "    </tr>\n",
       "    <tr>\n",
       "      <th>134022</th>\n",
       "      <td>hemp</td>\n",
       "      <td>True</td>\n",
       "    </tr>\n",
       "    <tr>\n",
       "      <th>173780</th>\n",
       "      <td>league</td>\n",
       "      <td>True</td>\n",
       "    </tr>\n",
       "    <tr>\n",
       "      <th>187999</th>\n",
       "      <td>marijuana</td>\n",
       "      <td>True</td>\n",
       "    </tr>\n",
       "    <tr>\n",
       "      <th>197052</th>\n",
       "      <td>milf</td>\n",
       "      <td>True</td>\n",
       "    </tr>\n",
       "    <tr>\n",
       "      <th>238442</th>\n",
       "      <td>porn</td>\n",
       "      <td>True</td>\n",
       "    </tr>\n",
       "    <tr>\n",
       "      <th>246730</th>\n",
       "      <td>pussy</td>\n",
       "      <td>True</td>\n",
       "    </tr>\n",
       "    <tr>\n",
       "      <th>268184</th>\n",
       "      <td>school</td>\n",
       "      <td>True</td>\n",
       "    </tr>\n",
       "    <tr>\n",
       "      <th>270507</th>\n",
       "      <td>seed</td>\n",
       "      <td>True</td>\n",
       "    </tr>\n",
       "    <tr>\n",
       "      <th>270549</th>\n",
       "      <td>seeds</td>\n",
       "      <td>True</td>\n",
       "    </tr>\n",
       "    <tr>\n",
       "      <th>273007</th>\n",
       "      <td>sex</td>\n",
       "      <td>True</td>\n",
       "    </tr>\n",
       "    <tr>\n",
       "      <th>291914</th>\n",
       "      <td>strain</td>\n",
       "      <td>True</td>\n",
       "    </tr>\n",
       "    <tr>\n",
       "      <th>292933</th>\n",
       "      <td>student</td>\n",
       "      <td>True</td>\n",
       "    </tr>\n",
       "    <tr>\n",
       "      <th>301758</th>\n",
       "      <td>teen</td>\n",
       "      <td>True</td>\n",
       "    </tr>\n",
       "    <tr>\n",
       "      <th>314205</th>\n",
       "      <td>tube</td>\n",
       "      <td>True</td>\n",
       "    </tr>\n",
       "    <tr>\n",
       "      <th>331575</th>\n",
       "      <td>weed</td>\n",
       "      <td>True</td>\n",
       "    </tr>\n",
       "  </tbody>\n",
       "</table>\n",
       "</div>"
      ],
      "text/plain": [
       "          Features  Important\n",
       "3804         adult       True\n",
       "18559          ass       True\n",
       "26227   basketball       True\n",
       "37135         bong       True\n",
       "42470          bud       True\n",
       "46880     cannabis       True\n",
       "110860    football       True\n",
       "117819         gay       True\n",
       "121523        girl       True\n",
       "123625        golf       True\n",
       "134022        hemp       True\n",
       "173780      league       True\n",
       "187999   marijuana       True\n",
       "197052        milf       True\n",
       "238442        porn       True\n",
       "246730       pussy       True\n",
       "268184      school       True\n",
       "270507        seed       True\n",
       "270549       seeds       True\n",
       "273007         sex       True\n",
       "291914      strain       True\n",
       "292933     student       True\n",
       "301758        teen       True\n",
       "314205        tube       True\n",
       "331575        weed       True"
      ]
     },
     "execution_count": 63,
     "metadata": {},
     "output_type": "execute_result"
    }
   ],
   "source": [
    "#create a data frame that includes all features and whether or not they are deemed important by feature_selection\n",
    "feat_imp = pd.DataFrame(list(zip(tv.get_feature_names(),X_opt.get_support().tolist())),columns = ['Features','Important'])\n",
    "feat_imp[feat_imp.Important == True]"
   ]
  },
  {
   "cell_type": "code",
   "execution_count": 64,
   "metadata": {},
   "outputs": [],
   "source": [
    "#Now we can grab the important features so that we can select only the important features from the sparse matrix created by TfidfVectorizer\n",
    "imp_Feats_array = np.array(feat_imp[feat_imp.Important == True].index)"
   ]
  },
  {
   "cell_type": "code",
   "execution_count": 65,
   "metadata": {},
   "outputs": [
    {
     "name": "stdout",
     "output_type": "stream",
     "text": [
      "TFIDF model:> Train features shape: (29302, 25) Test features shape: (8386, 25) Holdout features shape: (4188, 25)\n"
     ]
    }
   ],
   "source": [
    "#Now we can pull only the important features out of the original train, test, and holdout matrices\n",
    "tv_train_features_sub = tv_train_features[:,imp_Feats_array]\n",
    "tv_test_features_sub = tv_test_features[:,imp_Feats_array]\n",
    "tv_holdout_features_sub = tv_holdout_features[:,imp_Feats_array]\n",
    "\n",
    "#Examine the new shapes of the sub-selected features\n",
    "print('TFIDF model:> Train features shape:',tv_train_features_sub.shape,'Test features shape:',tv_test_features_sub.shape,'Holdout features shape:',tv_holdout_features_sub.shape)"
   ]
  },
  {
   "cell_type": "code",
   "execution_count": 59,
   "metadata": {},
   "outputs": [
    {
     "data": {
      "text/plain": [
       "LinearSVC(class_weight={'dr': 8, 'sx': 10}, random_state=1234)"
      ]
     },
     "execution_count": 59,
     "metadata": {},
     "output_type": "execute_result"
    }
   ],
   "source": [
    "#SVM\n",
    "from sklearn.svm import LinearSVC\n",
    "#note I have weighted the drug and sex class to help ensure we do not misclassify sites as these categories \n",
    "#useing the parameter class_weight\n",
    "svm = LinearSVC(penalty='l2',C=1.0,class_weight={'dr':8,'sx':10},random_state=1234)\n",
    "svm.fit(tv_train_features_sub,train_label)"
   ]
  },
  {
   "cell_type": "code",
   "execution_count": 57,
   "metadata": {},
   "outputs": [
    {
     "name": "stdout",
     "output_type": "stream",
     "text": [
      "CV Accuracy (5-fold): [0.83 0.83 0.83 0.84 0.83]\n",
      "Mean CV Accuracy: 0.8335268999163208\n"
     ]
    }
   ],
   "source": [
    "svm_tfidf_cv_scores = cross_val_score(svm,tv_train_features_sub,train_label,cv=5)\n",
    "svm_tfidf_cv_mean_score = np.mean(svm_tfidf_cv_scores)\n",
    "print('CV Accuracy (5-fold):',svm_tfidf_cv_scores)\n",
    "print('Mean CV Accuracy:',svm_tfidf_cv_mean_score)"
   ]
  },
  {
   "cell_type": "code",
   "execution_count": 58,
   "metadata": {},
   "outputs": [
    {
     "name": "stdout",
     "output_type": "stream",
     "text": [
      "Test Accuracy: 0.843906510851419\n"
     ]
    }
   ],
   "source": [
    "svm_tfidf_test_score = svm.score(tv_test_features_sub,test_label)\n",
    "print('Test Accuracy:',svm_tfidf_test_score)"
   ]
  },
  {
   "cell_type": "code",
   "execution_count": 53,
   "metadata": {},
   "outputs": [
    {
     "name": "stdout",
     "output_type": "stream",
     "text": [
      "Accuracy: 0.8437\n",
      "Precision: 0.8449\n",
      "Recall: 0.8437\n",
      "F1 Score: 0.8438\n"
     ]
    }
   ],
   "source": [
    "import model_evaluation_utils as meu\n",
    "svm_predictions = svm.predict(tv_test_features_sub)\n",
    "meu.get_metrics(true_labels=test_label,predicted_labels=svm_predictions)"
   ]
  },
  {
   "cell_type": "code",
   "execution_count": 54,
   "metadata": {},
   "outputs": [
    {
     "name": "stdout",
     "output_type": "stream",
     "text": [
      "              precision    recall  f1-score   support\n",
      "\n",
      "          mk       0.72      0.73      0.72      1709\n",
      "          dr       0.96      0.94      0.95       307\n",
      "          sp       0.90      0.85      0.88       494\n",
      "          os       0.84      0.78      0.81      1393\n",
      "          sx       0.98      0.99      0.99      1345\n",
      "          ed       0.90      0.84      0.87       783\n",
      "          bu       0.82      0.86      0.84      2355\n",
      "\n",
      "    accuracy                           0.84      8386\n",
      "   macro avg       0.87      0.86      0.87      8386\n",
      "weighted avg       0.84      0.84      0.84      8386\n",
      "\n"
     ]
    }
   ],
   "source": [
    "unique_classes = list(set(test_label))\n",
    "meu.display_classification_report(true_labels=test_label,predicted_labels=svm_predictions,classes=unique_classes)"
   ]
  },
  {
   "cell_type": "code",
   "execution_count": 55,
   "metadata": {},
   "outputs": [
    {
     "name": "stdout",
     "output_type": "stream",
     "text": [
      "Confusion matrix, without normalization\n",
      "[[1085   18    7    9  179    7   88]\n",
      " [   6  661    0   10   42    1   63]\n",
      " [   8    0  290    0    5    1    3]\n",
      " [  12   10    0  422   35    6    9]\n",
      " [ 119   20    3   21 1253   10  283]\n",
      " [   1    0    0    1    3 1338    2]\n",
      " [  61   22    1    6  235    4 2026]]\n"
     ]
    },
    {
     "data": {
      "image/png": "[encoded data removed]",
      "text/plain": [
       "<Figure size 432x288 with 2 Axes>"
      ]
     },
     "metadata": {
      "needs_background": "light"
     },
     "output_type": "display_data"
    }
   ],
   "source": [
    "from sklearn.metrics import confusion_matrix\n",
    "cnf_matrix = confusion_matrix(test_label,svm_predictions,labels=['os','ed','dr','sp','mk','sx','bu'])\n",
    "np.set_printoptions(precision=2)\n",
    "\n",
    "# Plot non-normalized confusion matrix\n",
    "plt.figure()\n",
    "plot_confusion_matrix(cnf_matrix, classes=['os','ed','dr','sp','mk','sx','bu'],\n",
    "                      title='Confusion matrix, TFIDF on Clean Chunked')"
   ]
  },
  {
   "cell_type": "code",
   "execution_count": null,
   "metadata": {},
   "outputs": [],
   "source": []
  }
 ],
 "metadata": {
  "kernelspec": {
   "display_name": "Python 3",
   "language": "python",
   "name": "python3"
  },
  "language_info": {
   "codemirror_mode": {
    "name": "ipython",
    "version": 3
   },
   "file_extension": ".py",
   "mimetype": "text/x-python",
   "name": "python",
   "nbconvert_exporter": "python",
   "pygments_lexer": "ipython3",
   "version": "3.8.5"
  }
 },
 "nbformat": 4,
 "nbformat_minor": 4
}
