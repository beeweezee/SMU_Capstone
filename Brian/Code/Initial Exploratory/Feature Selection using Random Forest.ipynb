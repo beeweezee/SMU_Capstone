{
 "cells": [
  {
   "cell_type": "code",
   "execution_count": 2,
   "metadata": {},
   "outputs": [],
   "source": [
    "from ReliefF import ReliefF\n",
    "import numpy as np\n",
    "import text_normalizer as tn\n",
    "import matplotlib.pyplot as plt\n",
    "import pandas as pd\n",
    "import warnings\n",
    "warnings.filterwarnings('ignore')\n",
    "%matplotlib inline"
   ]
  },
  {
   "cell_type": "code",
   "execution_count": 3,
   "metadata": {},
   "outputs": [],
   "source": [
    "file_info = \"C:\\\\Users\\\\blgai\\\\OneDrive\\\\Documents\\\\School\\\\SMU\\\\Courses\\\\Fall 2021\\\\Capstone A\\Data\\\\cleaned_data_v1.csv\"\n",
    "df = pd.read_csv(file_info, sep='\\t')"
   ]
  },
  {
   "cell_type": "code",
   "execution_count": 4,
   "metadata": {},
   "outputs": [
    {
     "data": {
      "text/html": [
       "<div>\n",
       "<style scoped>\n",
       "    .dataframe tbody tr th:only-of-type {\n",
       "        vertical-align: middle;\n",
       "    }\n",
       "\n",
       "    .dataframe tbody tr th {\n",
       "        vertical-align: top;\n",
       "    }\n",
       "\n",
       "    .dataframe thead th {\n",
       "        text-align: right;\n",
       "    }\n",
       "</style>\n",
       "<table border=\"1\" class=\"dataframe\">\n",
       "  <thead>\n",
       "    <tr style=\"text-align: right;\">\n",
       "      <th></th>\n",
       "      <th>url</th>\n",
       "      <th>code</th>\n",
       "      <th>category</th>\n",
       "      <th>language</th>\n",
       "      <th>title</th>\n",
       "      <th>summary</th>\n",
       "      <th>key_words</th>\n",
       "      <th>content</th>\n",
       "      <th>combined</th>\n",
       "      <th>clean_combined</th>\n",
       "    </tr>\n",
       "  </thead>\n",
       "  <tbody>\n",
       "    <tr>\n",
       "      <th>0</th>\n",
       "      <td>*://BLAZINHERB.CA</td>\n",
       "      <td>200</td>\n",
       "      <td>dr</td>\n",
       "      <td>en</td>\n",
       "      <td>Blazin Herb</td>\n",
       "      <td>The Diamond High Crew</td>\n",
       "      <td>Blazin herb</td>\n",
       "      <td>Blazin Herb THC Edibles Concentrates Flower/bu...</td>\n",
       "      <td>Blazin Herb The Diamond High Crew Blazin herb ...</td>\n",
       "      <td>blazin herb diamond high crew blazin herb blaz...</td>\n",
       "    </tr>\n",
       "    <tr>\n",
       "      <th>1</th>\n",
       "      <td>*://THEHONEYPOTSTORE.CA</td>\n",
       "      <td>200</td>\n",
       "      <td>dr</td>\n",
       "      <td>en</td>\n",
       "      <td>The Honey Pot Cannabis and Medical Marijuana p...</td>\n",
       "      <td>The Honey Pot Hamilton Ontario, provides canna...</td>\n",
       "      <td>The Honey Pot ,Georgia Peach Cannabis and Medi...</td>\n",
       "      <td>The Honey Pot Home About Us F.A.Q.'s About The...</td>\n",
       "      <td>The Honey Pot Cannabis and Medical Marijuana p...</td>\n",
       "      <td>honey pot cannabis medical marijuana product s...</td>\n",
       "    </tr>\n",
       "    <tr>\n",
       "      <th>2</th>\n",
       "      <td>*://AMANTE.CA</td>\n",
       "      <td>200</td>\n",
       "      <td>dr</td>\n",
       "      <td>en</td>\n",
       "      <td>Amante Organics - Licensed Certified Organic C...</td>\n",
       "      <td>np-template-header-footer-from-plugin</td>\n",
       "      <td>Organic Cannabis, Certified Organic, Weed, Org...</td>\n",
       "      <td>Amante Organics LOCAL | ORGANIC | SUSTAINABLE ...</td>\n",
       "      <td>Amante Organics - Licensed Certified Organic C...</td>\n",
       "      <td>amante organics licensed certified organic can...</td>\n",
       "    </tr>\n",
       "    <tr>\n",
       "      <th>3</th>\n",
       "      <td>*://CANNAFLY.CA</td>\n",
       "      <td>200</td>\n",
       "      <td>dr</td>\n",
       "      <td>en</td>\n",
       "      <td>Cannafly</td>\n",
       "      <td>Cannafly</td>\n",
       "      <td>Marijuana, cannabis, medical marijuana, dispen...</td>\n",
       "      <td>Vancouver's Premium Mobile Medicinal Cannabis ...</td>\n",
       "      <td>Cannafly Cannafly Marijuana, cannabis, medical...</td>\n",
       "      <td>cannafly cannafly marijuana cannabis medical m...</td>\n",
       "    </tr>\n",
       "    <tr>\n",
       "      <th>4</th>\n",
       "      <td>*://GRON.VC</td>\n",
       "      <td>200</td>\n",
       "      <td>dr</td>\n",
       "      <td>en</td>\n",
       "      <td>Grøn Ventures</td>\n",
       "      <td>We are backing businesses and brands with pote...</td>\n",
       "      <td>cannabis vc, cannabis venture capital, gron ve...</td>\n",
       "      <td>GRØN VENTURES 4675 MacArthur Ct, 15th Floor, N...</td>\n",
       "      <td>Grøn Ventures We are backing businesses and br...</td>\n",
       "      <td>grn ventures back business brand potential mar...</td>\n",
       "    </tr>\n",
       "  </tbody>\n",
       "</table>\n",
       "</div>"
      ],
      "text/plain": [
       "                       url  code category language  \\\n",
       "0        *://BLAZINHERB.CA   200       dr       en   \n",
       "1  *://THEHONEYPOTSTORE.CA   200       dr       en   \n",
       "2            *://AMANTE.CA   200       dr       en   \n",
       "3          *://CANNAFLY.CA   200       dr       en   \n",
       "4              *://GRON.VC   200       dr       en   \n",
       "\n",
       "                                               title  \\\n",
       "0                                        Blazin Herb   \n",
       "1  The Honey Pot Cannabis and Medical Marijuana p...   \n",
       "2  Amante Organics - Licensed Certified Organic C...   \n",
       "3                                           Cannafly   \n",
       "4                                      Grøn Ventures   \n",
       "\n",
       "                                             summary  \\\n",
       "0                              The Diamond High Crew   \n",
       "1  The Honey Pot Hamilton Ontario, provides canna...   \n",
       "2              np-template-header-footer-from-plugin   \n",
       "3                                           Cannafly   \n",
       "4  We are backing businesses and brands with pote...   \n",
       "\n",
       "                                           key_words  \\\n",
       "0                                        Blazin herb   \n",
       "1  The Honey Pot ,Georgia Peach Cannabis and Medi...   \n",
       "2  Organic Cannabis, Certified Organic, Weed, Org...   \n",
       "3  Marijuana, cannabis, medical marijuana, dispen...   \n",
       "4  cannabis vc, cannabis venture capital, gron ve...   \n",
       "\n",
       "                                             content  \\\n",
       "0  Blazin Herb THC Edibles Concentrates Flower/bu...   \n",
       "1  The Honey Pot Home About Us F.A.Q.'s About The...   \n",
       "2  Amante Organics LOCAL | ORGANIC | SUSTAINABLE ...   \n",
       "3  Vancouver's Premium Mobile Medicinal Cannabis ...   \n",
       "4  GRØN VENTURES 4675 MacArthur Ct, 15th Floor, N...   \n",
       "\n",
       "                                            combined  \\\n",
       "0  Blazin Herb The Diamond High Crew Blazin herb ...   \n",
       "1  The Honey Pot Cannabis and Medical Marijuana p...   \n",
       "2  Amante Organics - Licensed Certified Organic C...   \n",
       "3  Cannafly Cannafly Marijuana, cannabis, medical...   \n",
       "4  Grøn Ventures We are backing businesses and br...   \n",
       "\n",
       "                                      clean_combined  \n",
       "0  blazin herb diamond high crew blazin herb blaz...  \n",
       "1  honey pot cannabis medical marijuana product s...  \n",
       "2  amante organics licensed certified organic can...  \n",
       "3  cannafly cannafly marijuana cannabis medical m...  \n",
       "4  grn ventures back business brand potential mar...  "
      ]
     },
     "execution_count": 4,
     "metadata": {},
     "output_type": "execute_result"
    }
   ],
   "source": [
    "df.head()"
   ]
  },
  {
   "cell_type": "code",
   "execution_count": 5,
   "metadata": {},
   "outputs": [
    {
     "data": {
      "text/plain": [
       "((29302,), (8386,), (4188,))"
      ]
     },
     "execution_count": 5,
     "metadata": {},
     "output_type": "execute_result"
    }
   ],
   "source": [
    "from sklearn.model_selection import train_test_split\n",
    "#get 10% holdout set\n",
    "train_corpus, holdout_corpus, train_label, holdout_label = train_test_split(np.array(df['clean_combined']), \n",
    "                                                                            np.array(df['category']),\n",
    "                                                                           test_size=.10,random_state=1234)\n",
    "\n",
    "#get 80% train and 20% test sets\n",
    "train_corpus, test_corpus, train_label, test_label = train_test_split(train_corpus,\n",
    "                                                                      train_label,\n",
    "                                                                      test_size=.2225,random_state=1234) #.9 * .2225 = .20\n",
    "\n",
    "train_corpus.shape, test_corpus.shape, holdout_corpus.shape"
   ]
  },
  {
   "cell_type": "code",
   "execution_count": 6,
   "metadata": {},
   "outputs": [
    {
     "name": "stdout",
     "output_type": "stream",
     "text": [
      "TFIDF model:> Train features shape: (29302, 364296) Test features shape: (8386, 364296) Holdout features shape: (4188, 364296)\n"
     ]
    }
   ],
   "source": [
    "from sklearn.feature_extraction.text import TfidfVectorizer\n",
    "\n",
    "#build BOW features on train corpus\n",
    "tv = TfidfVectorizer(use_idf=True, min_df=0.0,max_df=1.0)\n",
    "tv_train_features = tv.fit_transform(train_corpus)\n",
    "#transform test corpus into features\n",
    "tv_test_features = tv.transform(test_corpus)\n",
    "#transform holdout corpus into features\n",
    "tv_holdout_features = tv.transform(holdout_corpus)\n",
    "\n",
    "print('TFIDF model:> Train features shape:',tv_train_features.shape,'Test features shape:',tv_test_features.shape,'Holdout features shape:',tv_holdout_features.shape)"
   ]
  },
  {
   "cell_type": "code",
   "execution_count": 24,
   "metadata": {},
   "outputs": [
    {
     "data": {
      "text/plain": [
       "SelectFromModel(estimator=RandomForestClassifier(random_state=1234))"
      ]
     },
     "execution_count": 24,
     "metadata": {},
     "output_type": "execute_result"
    }
   ],
   "source": [
    "#feature importance using random forest\n",
    "\n",
    "from sklearn.ensemble import RandomForestClassifier\n",
    "from sklearn.feature_selection import SelectFromModel\n",
    "\n",
    "sel = SelectFromModel(RandomForestClassifier(n_estimators = 100,random_state=1234))\n",
    "sel.fit(tv_train_features, train_label)"
   ]
  },
  {
   "cell_type": "code",
   "execution_count": 37,
   "metadata": {},
   "outputs": [
    {
     "data": {
      "text/plain": [
       "'alston'"
      ]
     },
     "execution_count": 37,
     "metadata": {},
     "output_type": "execute_result"
    }
   ],
   "source": [
    "tv.get_feature_names()[10000]\n"
   ]
  },
  {
   "cell_type": "code",
   "execution_count": 48,
   "metadata": {},
   "outputs": [
    {
     "data": {
      "text/html": [
       "<div>\n",
       "<style scoped>\n",
       "    .dataframe tbody tr th:only-of-type {\n",
       "        vertical-align: middle;\n",
       "    }\n",
       "\n",
       "    .dataframe tbody tr th {\n",
       "        vertical-align: top;\n",
       "    }\n",
       "\n",
       "    .dataframe thead th {\n",
       "        text-align: right;\n",
       "    }\n",
       "</style>\n",
       "<table border=\"1\" class=\"dataframe\">\n",
       "  <thead>\n",
       "    <tr style=\"text-align: right;\">\n",
       "      <th></th>\n",
       "      <th>Features</th>\n",
       "      <th>Important</th>\n",
       "    </tr>\n",
       "  </thead>\n",
       "  <tbody>\n",
       "    <tr>\n",
       "      <th>0</th>\n",
       "      <td>aa</td>\n",
       "      <td>True</td>\n",
       "    </tr>\n",
       "    <tr>\n",
       "      <th>1</th>\n",
       "      <td>aaa</td>\n",
       "      <td>True</td>\n",
       "    </tr>\n",
       "    <tr>\n",
       "      <th>2</th>\n",
       "      <td>aaaa</td>\n",
       "      <td>True</td>\n",
       "    </tr>\n",
       "    <tr>\n",
       "      <th>3</th>\n",
       "      <td>aaaaa</td>\n",
       "      <td>False</td>\n",
       "    </tr>\n",
       "    <tr>\n",
       "      <th>4</th>\n",
       "      <td>aaaaaa</td>\n",
       "      <td>False</td>\n",
       "    </tr>\n",
       "  </tbody>\n",
       "</table>\n",
       "</div>"
      ],
      "text/plain": [
       "  Features  Important\n",
       "0       aa       True\n",
       "1      aaa       True\n",
       "2     aaaa       True\n",
       "3    aaaaa      False\n",
       "4   aaaaaa      False"
      ]
     },
     "execution_count": 48,
     "metadata": {},
     "output_type": "execute_result"
    }
   ],
   "source": [
    "#create a data frame that includes all features and whether or not they are deemed important by feature_selection\n",
    "feat_imp = pd.DataFrame(list(zip(tv.get_feature_names(),sel.get_support().tolist())),columns = ['Features','Important'])\n"
   ]
  },
  {
   "cell_type": "code",
   "execution_count": 54,
   "metadata": {},
   "outputs": [
    {
     "data": {
      "text/plain": [
       "0             aa\n",
       "1            aaa\n",
       "2           aaaa\n",
       "91           aac\n",
       "260          aan\n",
       "           ...  \n",
       "364186    zwolle\n",
       "364190        zx\n",
       "364202        zy\n",
       "364270       zyz\n",
       "364272        zz\n",
       "Name: Features, Length: 20182, dtype: object"
      ]
     },
     "execution_count": 54,
     "metadata": {},
     "output_type": "execute_result"
    }
   ],
   "source": [
    "#Now we can grab the important features so that we can select only the important features from the sparse matrix created by TfidfVectorizer\n",
    "imp_Feats_array = np.array(feat_imp[feat_imp.Important == True].index)"
   ]
  },
  {
   "cell_type": "code",
   "execution_count": 64,
   "metadata": {},
   "outputs": [
    {
     "name": "stdout",
     "output_type": "stream",
     "text": [
      "TFIDF model:> Train features shape: (29302, 20182) Test features shape: (8386, 20182) Holdout features shape: (4188, 20182)\n"
     ]
    }
   ],
   "source": [
    "#Now we can pull only the important features out of the original train, test, and holdout matrices\n",
    "tv_train_features_sub = tv_train_features[:,imp_Feats_array]\n",
    "tv_test_features_sub = tv_test_features[:,imp_Feats_array]\n",
    "tv_holdout_features_sub = tv_holdout_features[:,imp_Feats_array]\n",
    "\n",
    "#Examine the new shapes of the sub-selected features\n",
    "print('TFIDF model:> Train features shape:',tv_train_features_sub.shape,'Test features shape:',tv_test_features_sub.shape,'Holdout features shape:',tv_holdout_features_sub.shape)"
   ]
  },
  {
   "cell_type": "code",
   "execution_count": 65,
   "metadata": {},
   "outputs": [
    {
     "data": {
      "text/plain": [
       "LinearSVC(C=1, random_state=1234)"
      ]
     },
     "execution_count": 65,
     "metadata": {},
     "output_type": "execute_result"
    }
   ],
   "source": [
    "#SVM\n",
    "from sklearn.svm import LinearSVC\n",
    "\n",
    "svm = LinearSVC(penalty='l2',C=1,random_state=1234)\n",
    "svm.fit(tv_train_features_sub,train_label)"
   ]
  },
  {
   "cell_type": "code",
   "execution_count": 67,
   "metadata": {},
   "outputs": [],
   "source": [
    "svm_tfidf_cv_scores = cross_val_score(svm,tv_train_features_sub,train_label,cv=5)"
   ]
  },
  {
   "cell_type": "code",
   "execution_count": 68,
   "metadata": {},
   "outputs": [],
   "source": [
    "svm_tfidf_cv_mean_score = np.mean(svm_tfidf_cv_scores)"
   ]
  },
  {
   "cell_type": "code",
   "execution_count": 69,
   "metadata": {},
   "outputs": [
    {
     "name": "stdout",
     "output_type": "stream",
     "text": [
      "CV Accuracy (5-fold): [0.83910595 0.84883126 0.85307167 0.84982935 0.84744027]\n",
      "Mean CV Accuracy: 0.8476557018016356\n"
     ]
    }
   ],
   "source": [
    "print('CV Accuracy (5-fold):',svm_tfidf_cv_scores)\n",
    "print('Mean CV Accuracy:',svm_tfidf_cv_mean_score)"
   ]
  },
  {
   "cell_type": "code",
   "execution_count": 70,
   "metadata": {},
   "outputs": [
    {
     "name": "stdout",
     "output_type": "stream",
     "text": [
      "Test Accuracy: 0.8560696398759838\n"
     ]
    }
   ],
   "source": [
    "svm_tfidf_test_score = svm.score(tv_test_features_sub,test_label)\n",
    "print('Test Accuracy:',svm_tfidf_test_score)"
   ]
  },
  {
   "cell_type": "code",
   "execution_count": 71,
   "metadata": {},
   "outputs": [
    {
     "name": "stdout",
     "output_type": "stream",
     "text": [
      "Accuracy: 0.8561\n",
      "Precision: 0.8562\n",
      "Recall: 0.8561\n",
      "F1 Score: 0.856\n"
     ]
    }
   ],
   "source": [
    "import model_evaluation_utils as meu\n",
    "svm_predictions = svm.predict(tv_test_features_sub)\n",
    "meu.get_metrics(true_labels=test_label,predicted_labels=svm_predictions)"
   ]
  },
  {
   "cell_type": "code",
   "execution_count": 72,
   "metadata": {},
   "outputs": [
    {
     "name": "stdout",
     "output_type": "stream",
     "text": [
      "              precision    recall  f1-score   support\n",
      "\n",
      "          os       0.82      0.78      0.80      1393\n",
      "          ed       0.90      0.90      0.90       783\n",
      "          dr       0.98      0.93      0.96       307\n",
      "          sp       0.89      0.89      0.89       494\n",
      "          mk       0.75      0.75      0.75      1709\n",
      "          sx       0.99      0.99      0.99      1345\n",
      "          bu       0.84      0.87      0.85      2355\n",
      "\n",
      "    accuracy                           0.86      8386\n",
      "   macro avg       0.88      0.87      0.88      8386\n",
      "weighted avg       0.86      0.86      0.86      8386\n",
      "\n"
     ]
    }
   ],
   "source": [
    "unique_classes = list(set(test_label))\n",
    "meu.display_classification_report(true_labels=test_label,predicted_labels=svm_predictions,classes=unique_classes)"
   ]
  },
  {
   "cell_type": "code",
   "execution_count": 73,
   "metadata": {},
   "outputs": [
    {
     "data": {
      "text/plain": [
       "RandomForestClassifier(n_estimators=10, random_state=1234)"
      ]
     },
     "execution_count": 73,
     "metadata": {},
     "output_type": "execute_result"
    }
   ],
   "source": [
    "#Random Forest\n",
    "from sklearn.ensemble import RandomForestClassifier\n",
    "from sklearn.model_selection import cross_val_score\n",
    "\n",
    "rfc = RandomForestClassifier(n_estimators=10,random_state=1234)\n",
    "rfc.fit(tv_train_features_sub,train_label)\n"
   ]
  },
  {
   "cell_type": "code",
   "execution_count": 74,
   "metadata": {},
   "outputs": [],
   "source": [
    "rfc_tfidf_cv_scores = cross_val_score(rfc,tv_train_features_sub,train_label,cv=5)"
   ]
  },
  {
   "cell_type": "code",
   "execution_count": 75,
   "metadata": {},
   "outputs": [],
   "source": [
    "rfc_tfidf_cv_mean_score = np.mean(rfc_tfidf_cv_scores)"
   ]
  },
  {
   "cell_type": "code",
   "execution_count": 76,
   "metadata": {},
   "outputs": [
    {
     "name": "stdout",
     "output_type": "stream",
     "text": [
      "CV Accuracy (5-fold): [0.75874424 0.75482    0.75989761 0.77440273 0.77372014]\n",
      "Mean CV Accuracy: 0.7643169432000619\n"
     ]
    }
   ],
   "source": [
    "print('CV Accuracy (5-fold):',rfc_tfidf_cv_scores)\n",
    "print('Mean CV Accuracy:',rfc_tfidf_cv_mean_score)"
   ]
  },
  {
   "cell_type": "code",
   "execution_count": 77,
   "metadata": {},
   "outputs": [
    {
     "name": "stdout",
     "output_type": "stream",
     "text": [
      "Test Accuracy: 0.7804674457429048\n"
     ]
    }
   ],
   "source": [
    "rfc_tfidf_test_score = rfc.score(tv_test_features_sub,test_label)\n",
    "print('Test Accuracy:',rfc_tfidf_test_score)"
   ]
  },
  {
   "cell_type": "code",
   "execution_count": 78,
   "metadata": {},
   "outputs": [
    {
     "name": "stdout",
     "output_type": "stream",
     "text": [
      "Accuracy: 0.7805\n",
      "Precision: 0.7895\n",
      "Recall: 0.7805\n",
      "F1 Score: 0.7803\n"
     ]
    }
   ],
   "source": [
    "import model_evaluation_utils as meu\n",
    "rfc_predictions = rfc.predict(tv_test_features_sub)\n",
    "meu.get_metrics(true_labels=test_label,predicted_labels=svm_predictions)"
   ]
  },
  {
   "cell_type": "code",
   "execution_count": 79,
   "metadata": {},
   "outputs": [
    {
     "name": "stdout",
     "output_type": "stream",
     "text": [
      "              precision    recall  f1-score   support\n",
      "\n",
      "          os       0.80      0.71      0.76      1393\n",
      "          ed       0.87      0.73      0.79       783\n",
      "          dr       0.99      0.85      0.91       307\n",
      "          sp       0.91      0.68      0.77       494\n",
      "          mk       0.64      0.61      0.63      1709\n",
      "          sx       0.99      0.98      0.98      1345\n",
      "          bu       0.70      0.86      0.77      2355\n",
      "\n",
      "    accuracy                           0.78      8386\n",
      "   macro avg       0.84      0.77      0.80      8386\n",
      "weighted avg       0.79      0.78      0.78      8386\n",
      "\n"
     ]
    }
   ],
   "source": [
    "unique_classes = list(set(test_label))\n",
    "meu.display_classification_report(true_labels=test_label,predicted_labels=rfc_predictions,classes=unique_classes)"
   ]
  },
  {
   "cell_type": "code",
   "execution_count": 80,
   "metadata": {},
   "outputs": [
    {
     "data": {
      "text/plain": [
       "RandomForestClassifier(random_state=1234)"
      ]
     },
     "execution_count": 80,
     "metadata": {},
     "output_type": "execute_result"
    }
   ],
   "source": [
    "#Let's check Random Forest using more estimators for comparison\n",
    "rfc = RandomForestClassifier(n_estimators=100,random_state=1234)\n",
    "rfc.fit(tv_train_features_sub,train_label)"
   ]
  },
  {
   "cell_type": "code",
   "execution_count": 81,
   "metadata": {},
   "outputs": [],
   "source": [
    "rfc_tfidf_cv_scores = cross_val_score(rfc,tv_train_features_sub,train_label,cv=5)"
   ]
  },
  {
   "cell_type": "code",
   "execution_count": 82,
   "metadata": {},
   "outputs": [],
   "source": [
    "rfc_tfidf_cv_mean_score = np.mean(rfc_tfidf_cv_scores)"
   ]
  },
  {
   "cell_type": "code",
   "execution_count": 83,
   "metadata": {},
   "outputs": [
    {
     "name": "stdout",
     "output_type": "stream",
     "text": [
      "CV Accuracy (5-fold): [0.82255588 0.82886879 0.828157   0.83242321 0.83037543]\n",
      "Mean CV Accuracy: 0.8284760605914144\n"
     ]
    }
   ],
   "source": [
    "print('CV Accuracy (5-fold):',rfc_tfidf_cv_scores)\n",
    "print('Mean CV Accuracy:',rfc_tfidf_cv_mean_score)"
   ]
  },
  {
   "cell_type": "code",
   "execution_count": 84,
   "metadata": {},
   "outputs": [
    {
     "name": "stdout",
     "output_type": "stream",
     "text": [
      "Test Accuracy: 0.8433102790364894\n"
     ]
    }
   ],
   "source": [
    "rfc_tfidf_test_score = rfc.score(tv_test_features_sub,test_label)\n",
    "print('Test Accuracy:',rfc_tfidf_test_score)"
   ]
  },
  {
   "cell_type": "code",
   "execution_count": 85,
   "metadata": {},
   "outputs": [
    {
     "name": "stdout",
     "output_type": "stream",
     "text": [
      "Accuracy: 0.8433\n",
      "Precision: 0.8492\n",
      "Recall: 0.8433\n",
      "F1 Score: 0.8435\n"
     ]
    }
   ],
   "source": [
    "import model_evaluation_utils as meu\n",
    "rfc_predictions = rfc.predict(tv_test_features_sub)\n",
    "meu.get_metrics(true_labels=test_label,predicted_labels=rfc_predictions)"
   ]
  },
  {
   "cell_type": "code",
   "execution_count": 86,
   "metadata": {},
   "outputs": [
    {
     "name": "stdout",
     "output_type": "stream",
     "text": [
      "              precision    recall  f1-score   support\n",
      "\n",
      "          os       0.84      0.79      0.81      1393\n",
      "          ed       0.94      0.79      0.86       783\n",
      "          dr       1.00      0.86      0.92       307\n",
      "          sp       0.94      0.76      0.84       494\n",
      "          mk       0.74      0.73      0.74      1709\n",
      "          sx       0.99      0.99      0.99      1345\n",
      "          bu       0.78      0.91      0.84      2355\n",
      "\n",
      "    accuracy                           0.84      8386\n",
      "   macro avg       0.89      0.83      0.86      8386\n",
      "weighted avg       0.85      0.84      0.84      8386\n",
      "\n"
     ]
    }
   ],
   "source": [
    "unique_classes = list(set(test_label))\n",
    "meu.display_classification_report(true_labels=test_label,predicted_labels=rfc_predictions,classes=unique_classes)"
   ]
  }
 ],
 "metadata": {
  "kernelspec": {
   "display_name": "Python 3",
   "language": "python",
   "name": "python3"
  },
  "language_info": {
   "codemirror_mode": {
    "name": "ipython",
    "version": 3
   },
   "file_extension": ".py",
   "mimetype": "text/x-python",
   "name": "python",
   "nbconvert_exporter": "python",
   "pygments_lexer": "ipython3",
   "version": "3.8.5"
  }
 },
 "nbformat": 4,
 "nbformat_minor": 4
}
