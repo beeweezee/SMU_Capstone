{
 "cells": [
  {
   "cell_type": "code",
   "execution_count": 1,
   "metadata": {},
   "outputs": [],
   "source": [
    "import numpy as np\n",
    "import pandas as pd\n",
    "from sklearn.model_selection import cross_val_score\n",
    "import matplotlib.pyplot as plt\n",
    "import warnings\n",
    "import model_report as mr\n",
    "warnings.filterwarnings('ignore')\n",
    "%matplotlib inline"
   ]
  },
  {
   "cell_type": "code",
   "execution_count": 2,
   "metadata": {},
   "outputs": [],
   "source": [
    "file_info = \"C:\\\\Users\\\\blgai\\\\OneDrive\\\\Documents\\\\School\\\\SMU\\\\Courses\\\\Fall 2021\\\\Capstone A\\Data\\\\cleaned_combined_key_words_v1.csv\"\n",
    "df = pd.read_csv(file_info, sep='\\t')"
   ]
  },
  {
   "cell_type": "code",
   "execution_count": 3,
   "metadata": {},
   "outputs": [
    {
     "data": {
      "text/html": [
       "<div>\n",
       "<style scoped>\n",
       "    .dataframe tbody tr th:only-of-type {\n",
       "        vertical-align: middle;\n",
       "    }\n",
       "\n",
       "    .dataframe tbody tr th {\n",
       "        vertical-align: top;\n",
       "    }\n",
       "\n",
       "    .dataframe thead th {\n",
       "        text-align: right;\n",
       "    }\n",
       "</style>\n",
       "<table border=\"1\" class=\"dataframe\">\n",
       "  <thead>\n",
       "    <tr style=\"text-align: right;\">\n",
       "      <th></th>\n",
       "      <th>url</th>\n",
       "      <th>code</th>\n",
       "      <th>category</th>\n",
       "      <th>language</th>\n",
       "      <th>title</th>\n",
       "      <th>summary</th>\n",
       "      <th>key_words</th>\n",
       "      <th>content</th>\n",
       "      <th>combined</th>\n",
       "      <th>nouns</th>\n",
       "      <th>compounds</th>\n",
       "      <th>comp_nouns</th>\n",
       "      <th>flat_comp_nouns</th>\n",
       "      <th>clean_comp_nouns</th>\n",
       "      <th>clean_combined</th>\n",
       "      <th>clean_key_words</th>\n",
       "    </tr>\n",
       "  </thead>\n",
       "  <tbody>\n",
       "    <tr>\n",
       "      <th>0</th>\n",
       "      <td>*://BLAZINHERB.CA</td>\n",
       "      <td>200</td>\n",
       "      <td>dr</td>\n",
       "      <td>en</td>\n",
       "      <td>Blazin Herb</td>\n",
       "      <td>The Diamond High Crew</td>\n",
       "      <td>('blazin herb', 'high club', 'edibles concentr...</td>\n",
       "      <td>Blazin Herb THC Edibles Concentrates Flower/bu...</td>\n",
       "      <td>Blazin Herb The Diamond High Crew Blazin herb ...</td>\n",
       "      <td>[('Blazin', 0, 6, 'PROPN'), ('Herb', 7, 11, 'P...</td>\n",
       "      <td>[('Blazin Herb', 0, 11, 'COMPOUND'), ('Diamond...</td>\n",
       "      <td>{'Read', 'Picks', 'DIAMOND', 'bud', 'THC', 'So...</td>\n",
       "      <td>{'Read', 'Picks', 'DIAMOND', 'bud', 'THC', 'So...</td>\n",
       "      <td>read picks diamond bud thc social sleep club r...</td>\n",
       "      <td>blazin herb diamond high crew blazin herb blaz...</td>\n",
       "      <td>blazin herb high club edible concentrate flowe...</td>\n",
       "    </tr>\n",
       "    <tr>\n",
       "      <th>1</th>\n",
       "      <td>*://THEHONEYPOTSTORE.CA</td>\n",
       "      <td>200</td>\n",
       "      <td>dr</td>\n",
       "      <td>en</td>\n",
       "      <td>The Honey Pot Cannabis and Medical Marijuana p...</td>\n",
       "      <td>The Honey Pot Hamilton Ontario, provides canna...</td>\n",
       "      <td>('honey pot', 'gift certificate', 'medical mar...</td>\n",
       "      <td>The Honey Pot Home About Us F.A.Q.'s About The...</td>\n",
       "      <td>The Honey Pot Cannabis and Medical Marijuana p...</td>\n",
       "      <td>[('Honey', 4, 9, 'PROPN'), ('Pot', 10, 13, 'PR...</td>\n",
       "      <td>[('Honey Pot Cannabis', 4, 22, 'COMPOUND'), ('...</td>\n",
       "      <td>{'appetite', 'Stress', 'Muscle', 'Hepatitis C'...</td>\n",
       "      <td>{'appetite', 'Stress', 'Muscle', 'Hepatitis C'...</td>\n",
       "      <td>appetite stress muscle hepatitis c hamilton hi...</td>\n",
       "      <td>honey pot cannabis medical marijuana product s...</td>\n",
       "      <td>honey pot gift certificate medical marijuana h...</td>\n",
       "    </tr>\n",
       "    <tr>\n",
       "      <th>2</th>\n",
       "      <td>*://AMANTE.CA</td>\n",
       "      <td>200</td>\n",
       "      <td>dr</td>\n",
       "      <td>en</td>\n",
       "      <td>Amante Organics - Licensed Certified Organic C...</td>\n",
       "      <td>np-template-header-footer-from-plugin</td>\n",
       "      <td>('cannabis producer', 'certified organic', 'pr...</td>\n",
       "      <td>Amante Organics LOCAL | ORGANIC | SUSTAINABLE ...</td>\n",
       "      <td>Amante Organics - Licensed Certified Organic C...</td>\n",
       "      <td>[('Amante', 0, 6, 'PROPN'), ('Organics', 7, 15...</td>\n",
       "      <td>[('Amante Organics -', 0, 17, 'COMPOUND'), ('O...</td>\n",
       "      <td>{'nations', 'Rights Reserved', \"a'mante\", 'Lic...</td>\n",
       "      <td>{'nations', 'Rights Reserved', \"a'mante\", 'Lic...</td>\n",
       "      <td>nation rights reserved amante licensed np head...</td>\n",
       "      <td>amante organics licensed certified organic can...</td>\n",
       "      <td>cannabis producer certify organic producer alb...</td>\n",
       "    </tr>\n",
       "    <tr>\n",
       "      <th>3</th>\n",
       "      <td>*://CANNAFLY.CA</td>\n",
       "      <td>200</td>\n",
       "      <td>dr</td>\n",
       "      <td>en</td>\n",
       "      <td>Cannafly</td>\n",
       "      <td>Cannafly</td>\n",
       "      <td>('minimum order', 'view detail', 'hybrid view'...</td>\n",
       "      <td>Vancouver's Premium Mobile Medicinal Cannabis ...</td>\n",
       "      <td>Cannafly Cannafly Marijuana, cannabis, medical...</td>\n",
       "      <td>[('Cannafly', 0, 8, 'PROPN'), ('Cannafly', 9, ...</td>\n",
       "      <td>[('marijuana legalization', 70, 92, 'COMPOUND'...</td>\n",
       "      <td>{'chilliwack', 'Connoisseurs', 'THC', 'industr...</td>\n",
       "      <td>{'chilliwack', 'Connoisseurs', 'THC', 'industr...</td>\n",
       "      <td>chilliwack connoisseurs thc industry death bub...</td>\n",
       "      <td>cannafly cannafly marijuana cannabis medical m...</td>\n",
       "      <td>minimum order view detail hybrid view hope min...</td>\n",
       "    </tr>\n",
       "    <tr>\n",
       "      <th>4</th>\n",
       "      <td>*://GRON.VC</td>\n",
       "      <td>200</td>\n",
       "      <td>dr</td>\n",
       "      <td>en</td>\n",
       "      <td>Grøn Ventures</td>\n",
       "      <td>We are backing businesses and brands with pote...</td>\n",
       "      <td>('grn ventures', 'back business', 'potential m...</td>\n",
       "      <td>GRØN VENTURES 4675 MacArthur Ct, 15th Floor, N...</td>\n",
       "      <td>Grøn Ventures We are backing businesses and br...</td>\n",
       "      <td>[('Grøn', 0, 4, 'PROPN'), ('Ventures', 5, 13, ...</td>\n",
       "      <td>[('Grøn Ventures', 0, 13, 'COMPOUND'), ('marke...</td>\n",
       "      <td>{'marijuana', 'Beach', 'Newport', 'ventures', ...</td>\n",
       "      <td>{'marijuana', 'Beach', 'Newport', 'ventures', ...</td>\n",
       "      <td>marijuana beach newport venture ct ventures ma...</td>\n",
       "      <td>grn ventures back business brand potential mar...</td>\n",
       "      <td>grn venture back business potential market lea...</td>\n",
       "    </tr>\n",
       "  </tbody>\n",
       "</table>\n",
       "</div>"
      ],
      "text/plain": [
       "                       url  code category language  \\\n",
       "0        *://BLAZINHERB.CA   200       dr       en   \n",
       "1  *://THEHONEYPOTSTORE.CA   200       dr       en   \n",
       "2            *://AMANTE.CA   200       dr       en   \n",
       "3          *://CANNAFLY.CA   200       dr       en   \n",
       "4              *://GRON.VC   200       dr       en   \n",
       "\n",
       "                                               title  \\\n",
       "0                                        Blazin Herb   \n",
       "1  The Honey Pot Cannabis and Medical Marijuana p...   \n",
       "2  Amante Organics - Licensed Certified Organic C...   \n",
       "3                                           Cannafly   \n",
       "4                                      Grøn Ventures   \n",
       "\n",
       "                                             summary  \\\n",
       "0                              The Diamond High Crew   \n",
       "1  The Honey Pot Hamilton Ontario, provides canna...   \n",
       "2              np-template-header-footer-from-plugin   \n",
       "3                                           Cannafly   \n",
       "4  We are backing businesses and brands with pote...   \n",
       "\n",
       "                                           key_words  \\\n",
       "0  ('blazin herb', 'high club', 'edibles concentr...   \n",
       "1  ('honey pot', 'gift certificate', 'medical mar...   \n",
       "2  ('cannabis producer', 'certified organic', 'pr...   \n",
       "3  ('minimum order', 'view detail', 'hybrid view'...   \n",
       "4  ('grn ventures', 'back business', 'potential m...   \n",
       "\n",
       "                                             content  \\\n",
       "0  Blazin Herb THC Edibles Concentrates Flower/bu...   \n",
       "1  The Honey Pot Home About Us F.A.Q.'s About The...   \n",
       "2  Amante Organics LOCAL | ORGANIC | SUSTAINABLE ...   \n",
       "3  Vancouver's Premium Mobile Medicinal Cannabis ...   \n",
       "4  GRØN VENTURES 4675 MacArthur Ct, 15th Floor, N...   \n",
       "\n",
       "                                            combined  \\\n",
       "0  Blazin Herb The Diamond High Crew Blazin herb ...   \n",
       "1  The Honey Pot Cannabis and Medical Marijuana p...   \n",
       "2  Amante Organics - Licensed Certified Organic C...   \n",
       "3  Cannafly Cannafly Marijuana, cannabis, medical...   \n",
       "4  Grøn Ventures We are backing businesses and br...   \n",
       "\n",
       "                                               nouns  \\\n",
       "0  [('Blazin', 0, 6, 'PROPN'), ('Herb', 7, 11, 'P...   \n",
       "1  [('Honey', 4, 9, 'PROPN'), ('Pot', 10, 13, 'PR...   \n",
       "2  [('Amante', 0, 6, 'PROPN'), ('Organics', 7, 15...   \n",
       "3  [('Cannafly', 0, 8, 'PROPN'), ('Cannafly', 9, ...   \n",
       "4  [('Grøn', 0, 4, 'PROPN'), ('Ventures', 5, 13, ...   \n",
       "\n",
       "                                           compounds  \\\n",
       "0  [('Blazin Herb', 0, 11, 'COMPOUND'), ('Diamond...   \n",
       "1  [('Honey Pot Cannabis', 4, 22, 'COMPOUND'), ('...   \n",
       "2  [('Amante Organics -', 0, 17, 'COMPOUND'), ('O...   \n",
       "3  [('marijuana legalization', 70, 92, 'COMPOUND'...   \n",
       "4  [('Grøn Ventures', 0, 13, 'COMPOUND'), ('marke...   \n",
       "\n",
       "                                          comp_nouns  \\\n",
       "0  {'Read', 'Picks', 'DIAMOND', 'bud', 'THC', 'So...   \n",
       "1  {'appetite', 'Stress', 'Muscle', 'Hepatitis C'...   \n",
       "2  {'nations', 'Rights Reserved', \"a'mante\", 'Lic...   \n",
       "3  {'chilliwack', 'Connoisseurs', 'THC', 'industr...   \n",
       "4  {'marijuana', 'Beach', 'Newport', 'ventures', ...   \n",
       "\n",
       "                                     flat_comp_nouns  \\\n",
       "0  {'Read', 'Picks', 'DIAMOND', 'bud', 'THC', 'So...   \n",
       "1  {'appetite', 'Stress', 'Muscle', 'Hepatitis C'...   \n",
       "2  {'nations', 'Rights Reserved', \"a'mante\", 'Lic...   \n",
       "3  {'chilliwack', 'Connoisseurs', 'THC', 'industr...   \n",
       "4  {'marijuana', 'Beach', 'Newport', 'ventures', ...   \n",
       "\n",
       "                                    clean_comp_nouns  \\\n",
       "0  read picks diamond bud thc social sleep club r...   \n",
       "1  appetite stress muscle hepatitis c hamilton hi...   \n",
       "2  nation rights reserved amante licensed np head...   \n",
       "3  chilliwack connoisseurs thc industry death bub...   \n",
       "4  marijuana beach newport venture ct ventures ma...   \n",
       "\n",
       "                                      clean_combined  \\\n",
       "0  blazin herb diamond high crew blazin herb blaz...   \n",
       "1  honey pot cannabis medical marijuana product s...   \n",
       "2  amante organics licensed certified organic can...   \n",
       "3  cannafly cannafly marijuana cannabis medical m...   \n",
       "4  grn ventures back business brand potential mar...   \n",
       "\n",
       "                                     clean_key_words  \n",
       "0  blazin herb high club edible concentrate flowe...  \n",
       "1  honey pot gift certificate medical marijuana h...  \n",
       "2  cannabis producer certify organic producer alb...  \n",
       "3  minimum order view detail hybrid view hope min...  \n",
       "4  grn venture back business potential market lea...  "
      ]
     },
     "execution_count": 3,
     "metadata": {},
     "output_type": "execute_result"
    }
   ],
   "source": [
    "df.head()"
   ]
  },
  {
   "cell_type": "code",
   "execution_count": 4,
   "metadata": {},
   "outputs": [
    {
     "data": {
      "text/plain": [
       "category\n",
       "bu    11731\n",
       "dr     1595\n",
       "ed     3894\n",
       "mk     8775\n",
       "os     6789\n",
       "sp     2535\n",
       "sx     6557\n",
       "dtype: int64"
      ]
     },
     "execution_count": 4,
     "metadata": {},
     "output_type": "execute_result"
    }
   ],
   "source": [
    "df.groupby(df.category).size()"
   ]
  },
  {
   "cell_type": "code",
   "execution_count": 5,
   "metadata": {},
   "outputs": [
    {
     "data": {
      "text/plain": [
       "((29302,), (8386,), (4188,))"
      ]
     },
     "execution_count": 5,
     "metadata": {},
     "output_type": "execute_result"
    }
   ],
   "source": [
    "from sklearn.model_selection import train_test_split\n",
    "#get 10% holdout set\n",
    "train_corpus, holdout_corpus, train_label, holdout_label = train_test_split(df['clean_key_words'], \n",
    "                                                                           df['category'],\n",
    "                                                                           test_size=.10,random_state=1234)\n",
    "\n",
    "#get 80% train and 20% test sets\n",
    "train_corpus, test_corpus, train_label, test_label = train_test_split(train_corpus,\n",
    "                                                                      train_label,\n",
    "                                                                      test_size=.2225,random_state=1234) #.9 * .2225 = .20\n",
    "\n",
    "train_corpus.shape, test_corpus.shape, holdout_corpus.shape"
   ]
  },
  {
   "cell_type": "code",
   "execution_count": 6,
   "metadata": {},
   "outputs": [
    {
     "name": "stdout",
     "output_type": "stream",
     "text": [
      "TFIDF model:> Train features shape: (29302, 2940) Test features shape: (8386, 2940) Holdout features shape: (4188, 2940)\n"
     ]
    }
   ],
   "source": [
    "from sklearn.feature_extraction.text import TfidfVectorizer\n",
    "\n",
    "#build BOW features on train corpus\n",
    "tv = TfidfVectorizer(use_idf=True, min_df=25,max_df=.9, norm=\"l2\",smooth_idf=True)\n",
    "tv_train_features = tv.fit_transform(train_corpus)\n",
    "#transform test corpus into features\n",
    "tv_test_features = tv.transform(test_corpus)\n",
    "#transform holdout corpus into features\n",
    "tv_holdout_features = tv.transform(holdout_corpus)\n",
    "\n",
    "print('TFIDF model:> Train features shape:',tv_train_features.shape,'Test features shape:',tv_test_features.shape,'Holdout features shape:',tv_holdout_features.shape)"
   ]
  },
  {
   "cell_type": "code",
   "execution_count": 7,
   "metadata": {},
   "outputs": [
    {
     "data": {
      "text/plain": [
       "(29302, 2000)"
      ]
     },
     "execution_count": 7,
     "metadata": {},
     "output_type": "execute_result"
    }
   ],
   "source": [
    "#Let's find the top important features and analyze them\n",
    "\n",
    "from sklearn.feature_selection import SelectKBest\n",
    "from sklearn.feature_selection import chi2\n",
    "X_opt=SelectKBest(chi2, k=2000)\n",
    "tv_train_features_trimmed = X_opt.fit_transform(tv_train_features, train_label)\n",
    "tv_train_features_trimmed.shape"
   ]
  },
  {
   "cell_type": "code",
   "execution_count": 8,
   "metadata": {},
   "outputs": [
    {
     "data": {
      "text/html": [
       "<div>\n",
       "<style scoped>\n",
       "    .dataframe tbody tr th:only-of-type {\n",
       "        vertical-align: middle;\n",
       "    }\n",
       "\n",
       "    .dataframe tbody tr th {\n",
       "        vertical-align: top;\n",
       "    }\n",
       "\n",
       "    .dataframe thead th {\n",
       "        text-align: right;\n",
       "    }\n",
       "</style>\n",
       "<table border=\"1\" class=\"dataframe\">\n",
       "  <thead>\n",
       "    <tr style=\"text-align: right;\">\n",
       "      <th></th>\n",
       "      <th>Features</th>\n",
       "      <th>Important</th>\n",
       "    </tr>\n",
       "  </thead>\n",
       "  <tbody>\n",
       "    <tr>\n",
       "      <th>2</th>\n",
       "      <td>abroad</td>\n",
       "      <td>True</td>\n",
       "    </tr>\n",
       "    <tr>\n",
       "      <th>6</th>\n",
       "      <td>academic</td>\n",
       "      <td>True</td>\n",
       "    </tr>\n",
       "    <tr>\n",
       "      <th>7</th>\n",
       "      <td>academy</td>\n",
       "      <td>True</td>\n",
       "    </tr>\n",
       "    <tr>\n",
       "      <th>8</th>\n",
       "      <td>accept</td>\n",
       "      <td>True</td>\n",
       "    </tr>\n",
       "    <tr>\n",
       "      <th>9</th>\n",
       "      <td>access</td>\n",
       "      <td>True</td>\n",
       "    </tr>\n",
       "    <tr>\n",
       "      <th>...</th>\n",
       "      <td>...</td>\n",
       "      <td>...</td>\n",
       "    </tr>\n",
       "    <tr>\n",
       "      <th>2930</th>\n",
       "      <td>yield</td>\n",
       "      <td>True</td>\n",
       "    </tr>\n",
       "    <tr>\n",
       "      <th>2932</th>\n",
       "      <td>york</td>\n",
       "      <td>True</td>\n",
       "    </tr>\n",
       "    <tr>\n",
       "      <th>2933</th>\n",
       "      <td>young</td>\n",
       "      <td>True</td>\n",
       "    </tr>\n",
       "    <tr>\n",
       "      <th>2934</th>\n",
       "      <td>youth</td>\n",
       "      <td>True</td>\n",
       "    </tr>\n",
       "    <tr>\n",
       "      <th>2937</th>\n",
       "      <td>zip</td>\n",
       "      <td>True</td>\n",
       "    </tr>\n",
       "  </tbody>\n",
       "</table>\n",
       "<p>2000 rows × 2 columns</p>\n",
       "</div>"
      ],
      "text/plain": [
       "      Features  Important\n",
       "2       abroad       True\n",
       "6     academic       True\n",
       "7      academy       True\n",
       "8       accept       True\n",
       "9       access       True\n",
       "...        ...        ...\n",
       "2930     yield       True\n",
       "2932      york       True\n",
       "2933     young       True\n",
       "2934     youth       True\n",
       "2937       zip       True\n",
       "\n",
       "[2000 rows x 2 columns]"
      ]
     },
     "execution_count": 8,
     "metadata": {},
     "output_type": "execute_result"
    }
   ],
   "source": [
    "#create a data frame that includes all features and whether or not they are deemed important by feature_selection\n",
    "feat_imp = pd.DataFrame(list(zip(tv.get_feature_names(),X_opt.get_support().tolist())),columns = ['Features','Important'])\n",
    "feat_imp[feat_imp.Important == True]"
   ]
  },
  {
   "cell_type": "code",
   "execution_count": 9,
   "metadata": {},
   "outputs": [],
   "source": [
    "#Now we can grab the important features so that we can select only the important features from the sparse matrix created by TfidfVectorizer\n",
    "imp_Feats_array = np.array(feat_imp[feat_imp.Important == True].index)"
   ]
  },
  {
   "cell_type": "code",
   "execution_count": 10,
   "metadata": {},
   "outputs": [
    {
     "name": "stdout",
     "output_type": "stream",
     "text": [
      "TFIDF model:> Train features shape: (29302, 2000) Test features shape: (8386, 2000) Holdout features shape: (4188, 2000)\n"
     ]
    }
   ],
   "source": [
    "#Now we can pull only the important features out of the original train, test, and holdout matrices\n",
    "tv_train_features_sub = tv_train_features[:,imp_Feats_array]\n",
    "tv_test_features_sub = tv_test_features[:,imp_Feats_array]\n",
    "tv_holdout_features_sub = tv_holdout_features[:,imp_Feats_array]\n",
    "\n",
    "#Examine the new shapes of the sub-selected features\n",
    "print('TFIDF model:> Train features shape:',tv_train_features_sub.shape,'Test features shape:',tv_test_features_sub.shape,'Holdout features shape:',tv_holdout_features_sub.shape)"
   ]
  },
  {
   "cell_type": "code",
   "execution_count": 11,
   "metadata": {},
   "outputs": [
    {
     "name": "stdout",
     "output_type": "stream",
     "text": [
      "Wall time: 3min 44s\n"
     ]
    },
    {
     "data": {
      "text/plain": [
       "SVC(class_weight={'dr': 8, 'sx': 10}, kernel='linear', probability=True,\n",
       "    random_state=1234)"
      ]
     },
     "execution_count": 11,
     "metadata": {},
     "output_type": "execute_result"
    }
   ],
   "source": [
    "%%time\n",
    "\n",
    "from sklearn import svm\n",
    "clf = svm.SVC(kernel='linear', probability=True, C=1.0, class_weight={'dr':8,'sx':10},random_state=1234)\n",
    "clf.fit(tv_train_features_sub,train_label)"
   ]
  },
  {
   "cell_type": "code",
   "execution_count": 12,
   "metadata": {},
   "outputs": [
    {
     "name": "stdout",
     "output_type": "stream",
     "text": [
      "Test Accuracy: 0.7644884331027904\n"
     ]
    }
   ],
   "source": [
    "svm_tfidf_test_score = clf.score(tv_test_features_sub,test_label)\n",
    "print('Test Accuracy:',svm_tfidf_test_score)"
   ]
  },
  {
   "cell_type": "code",
   "execution_count": 13,
   "metadata": {},
   "outputs": [
    {
     "name": "stdout",
     "output_type": "stream",
     "text": [
      "Accuracy: 0.7645\n",
      "Precision: 0.7654\n",
      "Recall: 0.7645\n",
      "F1 Score: 0.7636\n"
     ]
    }
   ],
   "source": [
    "import model_evaluation_utils as meu\n",
    "svm_predictions = clf.predict(tv_test_features_sub)\n",
    "meu.get_metrics(true_labels=test_label,predicted_labels=svm_predictions)"
   ]
  },
  {
   "cell_type": "code",
   "execution_count": 14,
   "metadata": {},
   "outputs": [
    {
     "name": "stdout",
     "output_type": "stream",
     "text": [
      "              precision    recall  f1-score   support\n",
      "\n",
      "          dr       0.87      0.90      0.88       307\n",
      "          os       0.73      0.66      0.69      1393\n",
      "          sx       0.94      0.97      0.95      1345\n",
      "          ed       0.82      0.70      0.76       783\n",
      "          bu       0.74      0.80      0.77      2355\n",
      "          mk       0.64      0.65      0.64      1709\n",
      "          sp       0.81      0.73      0.77       494\n",
      "\n",
      "    accuracy                           0.76      8386\n",
      "   macro avg       0.79      0.77      0.78      8386\n",
      "weighted avg       0.77      0.76      0.76      8386\n",
      "\n"
     ]
    }
   ],
   "source": [
    "unique_classes = list(set(test_label))\n",
    "meu.display_classification_report(true_labels=test_label,predicted_labels=svm_predictions,classes=unique_classes)"
   ]
  },
  {
   "cell_type": "code",
   "execution_count": 15,
   "metadata": {},
   "outputs": [
    {
     "name": "stdout",
     "output_type": "stream",
     "text": [
      "Confusion matrix, without normalization\n",
      "[[ 919   25   17   20  236   18  158]\n",
      " [  17  552    5   21   54   12  122]\n",
      " [  11    0  275    1    4    6   10]\n",
      " [  23   24    4  360   45   11   27]\n",
      " [ 158   30    6   34 1117   19  345]\n",
      " [   8    4    1    0   14 1305   13]\n",
      " [ 118   37    9    6  285   17 1883]]\n"
     ]
    },
    {
     "data": {
      "image/png": "[encoded data removed]",
      "text/plain": [
       "<Figure size 432x288 with 2 Axes>"
      ]
     },
     "metadata": {
      "needs_background": "light"
     },
     "output_type": "display_data"
    }
   ],
   "source": [
    "from sklearn.metrics import confusion_matrix\n",
    "cnf_matrix = confusion_matrix(test_label,svm_predictions,labels=['os','ed','dr','sp','mk','sx','bu'])\n",
    "np.set_printoptions(precision=2)\n",
    "\n",
    "# Plot non-normalized confusion matrix\n",
    "plt.figure()\n",
    "mr.plot_confusion_matrix(cnf_matrix, classes=['os','ed','dr','sp','mk','sx','bu'],\n",
    "                      title='Confusion matrix, TFIDF on Clean Chunked')"
   ]
  },
  {
   "cell_type": "code",
   "execution_count": 16,
   "metadata": {},
   "outputs": [
    {
     "data": {
      "image/png": "[encoded data removed]",
      "text/plain": [
       "<Figure size 1296x648 with 1 Axes>"
      ]
     },
     "metadata": {
      "needs_background": "light"
     },
     "output_type": "display_data"
    }
   ],
   "source": [
    "y_proba = clf.predict_proba(tv_test_features_sub)\n",
    "\n",
    "labels_dict = dict(zip(df.category,df.category))\n",
    "target_names = sorted(list(labels_dict.values()))\n",
    "\n",
    "mr.plot_roc_curve(labels=test_label, predictions=y_proba, x_lim=[0.0,0.5], y_lim=[0.5,1.0], target_names=target_names)"
   ]
  },
  {
   "cell_type": "code",
   "execution_count": 17,
   "metadata": {},
   "outputs": [],
   "source": [
    "df_test_results = pd.DataFrame(list(zip(test_corpus,test_label,svm_predictions, y_proba)),columns = ['terms','category','predicted_label','probability'])\n",
    "df_test_results['match'] = np.where(df_test_results['category']==df_test_results['predicted_label'],1,0)"
   ]
  },
  {
   "cell_type": "code",
   "execution_count": 18,
   "metadata": {},
   "outputs": [
    {
     "data": {
      "text/plain": [
       "{'totalSamples': 8386,\n",
       " 'overallAccuracy': 0.7644884331027904,\n",
       " 'byCategory': {'sx': {'totalSamples': 1345, 'accuracy': 0.9702602230483272},\n",
       "  'dr': {'totalSamples': 307, 'accuracy': 0.8957654723127035},\n",
       "  'bu': {'totalSamples': 2355, 'accuracy': 0.7995753715498939},\n",
       "  'sp': {'totalSamples': 494, 'accuracy': 0.728744939271255},\n",
       "  'ed': {'totalSamples': 783, 'accuracy': 0.7049808429118773},\n",
       "  'os': {'totalSamples': 1393, 'accuracy': 0.659727207465901},\n",
       "  'mk': {'totalSamples': 1709, 'accuracy': 0.6535985956699825}}}"
      ]
     },
     "execution_count": 18,
     "metadata": {},
     "output_type": "execute_result"
    }
   ],
   "source": [
    "rpt = mr.generate_report(df_test_results)\n",
    "rpt"
   ]
  },
  {
   "cell_type": "code",
   "execution_count": 19,
   "metadata": {},
   "outputs": [
    {
     "data": {
      "text/plain": [
       "category\n",
       "bu    17\n",
       "dr     6\n",
       "ed    12\n",
       "mk    19\n",
       "os    18\n",
       "sp    11\n",
       "dtype: int64"
      ]
     },
     "execution_count": 19,
     "metadata": {},
     "output_type": "execute_result"
    }
   ],
   "source": [
    "#here we can see that the misclassifications of sex equate to the counts in the confusion matrix\n",
    "df_test_results[(df_test_results.predicted_label == 'sx') & (df_test_results.match == 0)].groupby('category').size()"
   ]
  },
  {
   "cell_type": "code",
   "execution_count": 20,
   "metadata": {},
   "outputs": [
    {
     "data": {
      "text/html": [
       "<div>\n",
       "<style scoped>\n",
       "    .dataframe tbody tr th:only-of-type {\n",
       "        vertical-align: middle;\n",
       "    }\n",
       "\n",
       "    .dataframe tbody tr th {\n",
       "        vertical-align: top;\n",
       "    }\n",
       "\n",
       "    .dataframe thead th {\n",
       "        text-align: right;\n",
       "    }\n",
       "</style>\n",
       "<table border=\"1\" class=\"dataframe\">\n",
       "  <thead>\n",
       "    <tr style=\"text-align: right;\">\n",
       "      <th></th>\n",
       "      <th>terms</th>\n",
       "      <th>category</th>\n",
       "      <th>predicted_label</th>\n",
       "      <th>probability</th>\n",
       "      <th>match</th>\n",
       "    </tr>\n",
       "  </thead>\n",
       "  <tbody>\n",
       "    <tr>\n",
       "      <th>212</th>\n",
       "      <td>michael kor save michael kor wallet wallet save gia grayson leigh selma tote bedford return friendly copyright www friendly link</td>\n",
       "      <td>os</td>\n",
       "      <td>sx</td>\n",
       "      <td>[0.018972026188006672, 0.015200582474040306, 0.023868870422456428, 0.05046019790007967, 0.5157521292701844, 0.042084725586757306, 0.3336614681584748]</td>\n",
       "      <td>0</td>\n",
       "    </tr>\n",
       "    <tr>\n",
       "      <th>281</th>\n",
       "      <td>share twitter twitter share national holiday holiday vacation offer accredit capetown beauty casauno acrylic include breakfast join night flamboyant</td>\n",
       "      <td>mk</td>\n",
       "      <td>sx</td>\n",
       "      <td>[0.2203293154986314, 0.004380247192669392, 0.1367958567917935, 0.3083543064846232, 0.060097773428089384, 0.07381643017215177, 0.19622607043204116]</td>\n",
       "      <td>0</td>\n",
       "    </tr>\n",
       "    <tr>\n",
       "      <th>332</th>\n",
       "      <td>sex shop shop gravity market carry gold package click submit evaluation form form gold gravity official ultimate sex drug video</td>\n",
       "      <td>os</td>\n",
       "      <td>sx</td>\n",
       "      <td>[0.029188260914235264, 0.04684412563778644, 0.008624707396770697, 0.05279821807022395, 0.2870703903832884, 0.08260898653350196, 0.49286531106419296]</td>\n",
       "      <td>0</td>\n",
       "    </tr>\n",
       "    <tr>\n",
       "      <th>371</th>\n",
       "      <td>prediction term term view continue read winner continue ipl match match hyderabad august july september august technology lockup tag april</td>\n",
       "      <td>sp</td>\n",
       "      <td>sx</td>\n",
       "      <td>[0.17963222125446576, 0.012461927580164362, 0.20250729084552646, 0.07479626230205634, 0.03924126315983829, 0.3270710404829166, 0.16428999437503244]</td>\n",
       "      <td>0</td>\n",
       "    </tr>\n",
       "    <tr>\n",
       "      <th>385</th>\n",
       "      <td>mma fighter clothing mma ufc walkout hoodie headguard anderson silva antonio rogerio forr griffin july june september august phil davis</td>\n",
       "      <td>sp</td>\n",
       "      <td>sx</td>\n",
       "      <td>[0.22124626344860265, 0.09563037092778734, 0.08474129822748645, 0.10496665602043792, 0.10659913638427604, 0.22379495597754848, 0.16302131901386094]</td>\n",
       "      <td>0</td>\n",
       "    </tr>\n",
       "    <tr>\n",
       "      <th>...</th>\n",
       "      <td>...</td>\n",
       "      <td>...</td>\n",
       "      <td>...</td>\n",
       "      <td>...</td>\n",
       "      <td>...</td>\n",
       "    </tr>\n",
       "    <tr>\n",
       "      <th>7868</th>\n",
       "      <td>play passion carovigno brindisi spinelli luca luca infante summerbasketcamp php php httpwww httpwww mediturvillage basket pallacanestro camp estivo</td>\n",
       "      <td>sp</td>\n",
       "      <td>sx</td>\n",
       "      <td>[0.03518153904246292, 0.0020886103679668014, 0.01143039300845912, 0.10940163229518109, 0.3702062530175501, 0.21863245274808987, 0.2530591195202898]</td>\n",
       "      <td>0</td>\n",
       "    </tr>\n",
       "    <tr>\n",
       "      <th>7901</th>\n",
       "      <td>home home ibm skin skin web controller navigation mashup enabler web content viewer jsr collaboration social dynamische vernetzung startseite zjhrgkgoailrfss</td>\n",
       "      <td>bu</td>\n",
       "      <td>sx</td>\n",
       "      <td>[0.34645031726435394, 0.024430990830939373, 0.05236779970690571, 0.10396725539757692, 0.15601241480185887, 0.00794418746003883, 0.30882703453832594]</td>\n",
       "      <td>0</td>\n",
       "    </tr>\n",
       "    <tr>\n",
       "      <th>8115</th>\n",
       "      <td>hour ago post comment student run year mental health night mac language buddy textbook poli week video discussion post</td>\n",
       "      <td>ed</td>\n",
       "      <td>sx</td>\n",
       "      <td>[0.00466966291181794, 0.00042081658746793207, 0.03971864914941792, 0.0062645490822238695, 0.0016761028128729836, 0.05915878870645183, 0.8880914307497476]</td>\n",
       "      <td>0</td>\n",
       "    </tr>\n",
       "    <tr>\n",
       "      <th>8264</th>\n",
       "      <td>notice undefined distribution contact eval code module php tan opalanie opalanie beauty wybor jezyka polska latvija index termheade country world</td>\n",
       "      <td>bu</td>\n",
       "      <td>sx</td>\n",
       "      <td>[0.08381083603927306, 0.006108208207023292, 0.014739338383032248, 0.10875889913492788, 0.07490170250529739, 0.016867901021923506, 0.694813114708523]</td>\n",
       "      <td>0</td>\n",
       "    </tr>\n",
       "    <tr>\n",
       "      <th>8299</th>\n",
       "      <td>michael kor save michael kor jet large brown outlook large hamilton smooth chelsea cynthia cynthia devon devon fulton bedford miranda</td>\n",
       "      <td>os</td>\n",
       "      <td>sx</td>\n",
       "      <td>[0.049890318070140056, 0.018434817794946965, 0.04272547613180339, 0.07174525344988604, 0.31863844888878495, 0.046099959276142084, 0.4524657263882971]</td>\n",
       "      <td>0</td>\n",
       "    </tr>\n",
       "  </tbody>\n",
       "</table>\n",
       "<p>83 rows × 5 columns</p>\n",
       "</div>"
      ],
      "text/plain": [
       "                                                                                                                                                              terms  \\\n",
       "212                                michael kor save michael kor wallet wallet save gia grayson leigh selma tote bedford return friendly copyright www friendly link   \n",
       "281            share twitter twitter share national holiday holiday vacation offer accredit capetown beauty casauno acrylic include breakfast join night flamboyant   \n",
       "332                                 sex shop shop gravity market carry gold package click submit evaluation form form gold gravity official ultimate sex drug video   \n",
       "371                      prediction term term view continue read winner continue ipl match match hyderabad august july september august technology lockup tag april   \n",
       "385                         mma fighter clothing mma ufc walkout hoodie headguard anderson silva antonio rogerio forr griffin july june september august phil davis   \n",
       "...                                                                                                                                                             ...   \n",
       "7868            play passion carovigno brindisi spinelli luca luca infante summerbasketcamp php php httpwww httpwww mediturvillage basket pallacanestro camp estivo   \n",
       "7901  home home ibm skin skin web controller navigation mashup enabler web content viewer jsr collaboration social dynamische vernetzung startseite zjhrgkgoailrfss   \n",
       "8115                                         hour ago post comment student run year mental health night mac language buddy textbook poli week video discussion post   \n",
       "8264              notice undefined distribution contact eval code module php tan opalanie opalanie beauty wybor jezyka polska latvija index termheade country world   \n",
       "8299                          michael kor save michael kor jet large brown outlook large hamilton smooth chelsea cynthia cynthia devon devon fulton bedford miranda   \n",
       "\n",
       "     category predicted_label  \\\n",
       "212        os              sx   \n",
       "281        mk              sx   \n",
       "332        os              sx   \n",
       "371        sp              sx   \n",
       "385        sp              sx   \n",
       "...       ...             ...   \n",
       "7868       sp              sx   \n",
       "7901       bu              sx   \n",
       "8115       ed              sx   \n",
       "8264       bu              sx   \n",
       "8299       os              sx   \n",
       "\n",
       "                                                                                                                                                    probability  \\\n",
       "212       [0.018972026188006672, 0.015200582474040306, 0.023868870422456428, 0.05046019790007967, 0.5157521292701844, 0.042084725586757306, 0.3336614681584748]   \n",
       "281          [0.2203293154986314, 0.004380247192669392, 0.1367958567917935, 0.3083543064846232, 0.060097773428089384, 0.07381643017215177, 0.19622607043204116]   \n",
       "332        [0.029188260914235264, 0.04684412563778644, 0.008624707396770697, 0.05279821807022395, 0.2870703903832884, 0.08260898653350196, 0.49286531106419296]   \n",
       "371         [0.17963222125446576, 0.012461927580164362, 0.20250729084552646, 0.07479626230205634, 0.03924126315983829, 0.3270710404829166, 0.16428999437503244]   \n",
       "385         [0.22124626344860265, 0.09563037092778734, 0.08474129822748645, 0.10496665602043792, 0.10659913638427604, 0.22379495597754848, 0.16302131901386094]   \n",
       "...                                                                                                                                                         ...   \n",
       "7868        [0.03518153904246292, 0.0020886103679668014, 0.01143039300845912, 0.10940163229518109, 0.3702062530175501, 0.21863245274808987, 0.2530591195202898]   \n",
       "7901       [0.34645031726435394, 0.024430990830939373, 0.05236779970690571, 0.10396725539757692, 0.15601241480185887, 0.00794418746003883, 0.30882703453832594]   \n",
       "8115  [0.00466966291181794, 0.00042081658746793207, 0.03971864914941792, 0.0062645490822238695, 0.0016761028128729836, 0.05915878870645183, 0.8880914307497476]   \n",
       "8264       [0.08381083603927306, 0.006108208207023292, 0.014739338383032248, 0.10875889913492788, 0.07490170250529739, 0.016867901021923506, 0.694813114708523]   \n",
       "8299      [0.049890318070140056, 0.018434817794946965, 0.04272547613180339, 0.07174525344988604, 0.31863844888878495, 0.046099959276142084, 0.4524657263882971]   \n",
       "\n",
       "      match  \n",
       "212       0  \n",
       "281       0  \n",
       "332       0  \n",
       "371       0  \n",
       "385       0  \n",
       "...     ...  \n",
       "7868      0  \n",
       "7901      0  \n",
       "8115      0  \n",
       "8264      0  \n",
       "8299      0  \n",
       "\n",
       "[83 rows x 5 columns]"
      ]
     },
     "execution_count": 20,
     "metadata": {},
     "output_type": "execute_result"
    }
   ],
   "source": [
    "#let's look at some of the misclassifications to get an idea of why they were misclassified\n",
    "pd.set_option('display.max_colwidth', None)\n",
    "df_test_results[(df_test_results.predicted_label == 'sx') & (df_test_results.match == 0)]"
   ]
  },
  {
   "cell_type": "markdown",
   "metadata": {},
   "source": [
    "# train svm on clean_comp_nouns"
   ]
  },
  {
   "cell_type": "code",
   "execution_count": 21,
   "metadata": {},
   "outputs": [
    {
     "data": {
      "text/plain": [
       "((29302,), (8386,), (4188,))"
      ]
     },
     "execution_count": 21,
     "metadata": {},
     "output_type": "execute_result"
    }
   ],
   "source": [
    "from sklearn.model_selection import train_test_split\n",
    "#get 10% holdout set\n",
    "train_corpus_ccn, holdout_corpus_ccn, train_label, holdout_label = train_test_split(df['clean_comp_nouns'], \n",
    "                                                                           df['category'],\n",
    "                                                                           test_size=.10,random_state=1234)\n",
    "\n",
    "#get 80% train and 20% test sets\n",
    "train_corpus_ccn, test_corpus_ccn, train_label, test_label = train_test_split(train_corpus_ccn,\n",
    "                                                                      train_label,\n",
    "                                                                      test_size=.2225,random_state=1234) #.9 * .2225 = .20\n",
    "\n",
    "train_corpus_ccn.shape, test_corpus_ccn.shape, holdout_corpus_ccn.shape"
   ]
  },
  {
   "cell_type": "code",
   "execution_count": 22,
   "metadata": {},
   "outputs": [
    {
     "name": "stdout",
     "output_type": "stream",
     "text": [
      "TFIDF model:> Train features shape: (29302, 17587) Test features shape: (8386, 17587) Holdout features shape: (4188, 17587)\n"
     ]
    }
   ],
   "source": [
    "from sklearn.feature_extraction.text import TfidfVectorizer\n",
    "\n",
    "#build BOW features on train corpus\n",
    "tv = TfidfVectorizer(use_idf=True, min_df=25,max_df=.9, norm=\"l2\",smooth_idf=True)\n",
    "tv_train_features_ccn = tv.fit_transform(train_corpus_ccn)\n",
    "#transform test corpus into features\n",
    "tv_test_features_ccn = tv.transform(test_corpus_ccn)\n",
    "#transform holdout corpus into features\n",
    "tv_holdout_features_ccn = tv.transform(holdout_corpus_ccn)\n",
    "\n",
    "print('TFIDF model:> Train features shape:',tv_train_features_ccn.shape,'Test features shape:',tv_test_features_ccn.shape,'Holdout features shape:',tv_holdout_features_ccn.shape)"
   ]
  },
  {
   "cell_type": "code",
   "execution_count": 23,
   "metadata": {},
   "outputs": [
    {
     "data": {
      "text/plain": [
       "(29302, 4100)"
      ]
     },
     "execution_count": 23,
     "metadata": {},
     "output_type": "execute_result"
    }
   ],
   "source": [
    "#Let's find the top important features and analyze them\n",
    "\n",
    "from sklearn.feature_selection import SelectKBest\n",
    "from sklearn.feature_selection import chi2\n",
    "X_opt=SelectKBest(chi2, k=4100)\n",
    "tv_train_features_trimmed_ccn = X_opt.fit_transform(tv_train_features_ccn, train_label)\n",
    "tv_train_features_trimmed_ccn.shape"
   ]
  },
  {
   "cell_type": "code",
   "execution_count": 24,
   "metadata": {},
   "outputs": [],
   "source": [
    "#create a data frame that includes all features and whether or not they are deemed important by feature_selection\n",
    "feat_imp = pd.DataFrame(list(zip(tv.get_feature_names(),X_opt.get_support().tolist())),columns = ['Features','Important'])\n",
    "#Now we can grab the important features so that we can select only the important features from the sparse matrix created by TfidfVectorizer\n",
    "imp_Feats_array = np.array(feat_imp[feat_imp.Important == True].index)"
   ]
  },
  {
   "cell_type": "code",
   "execution_count": 25,
   "metadata": {},
   "outputs": [
    {
     "name": "stdout",
     "output_type": "stream",
     "text": [
      "TFIDF model:> Train features shape: (29302, 4100) Test features shape: (8386, 4100) Holdout features shape: (4188, 4100)\n"
     ]
    }
   ],
   "source": [
    "#Now we can pull only the important features out of the original train, test, and holdout matrices\n",
    "tv_train_features_sub_ccn = tv_train_features_ccn[:,imp_Feats_array]\n",
    "tv_test_features_sub_ccn = tv_test_features_ccn[:,imp_Feats_array]\n",
    "tv_holdout_features_sub_ccn = tv_holdout_features_ccn[:,imp_Feats_array]\n",
    "\n",
    "#Examine the new shapes of the sub-selected features\n",
    "print('TFIDF model:> Train features shape:',tv_train_features_sub_ccn.shape,'Test features shape:',tv_test_features_sub_ccn.shape,'Holdout features shape:',tv_holdout_features_sub_ccn.shape)"
   ]
  },
  {
   "cell_type": "code",
   "execution_count": 26,
   "metadata": {},
   "outputs": [
    {
     "data": {
      "text/plain": [
       "SVC(class_weight={'dr': 8, 'sx': 10}, kernel='linear', probability=True,\n",
       "    random_state=1234)"
      ]
     },
     "execution_count": 26,
     "metadata": {},
     "output_type": "execute_result"
    }
   ],
   "source": [
    "from sklearn import svm\n",
    "clf_ccn = svm.SVC(kernel='linear', probability=True, C=1.0, class_weight={'dr':8,'sx':10},random_state=1234)\n",
    "clf_ccn.fit(tv_train_features_sub_ccn,train_label)"
   ]
  },
  {
   "cell_type": "code",
   "execution_count": 27,
   "metadata": {},
   "outputs": [
    {
     "name": "stdout",
     "output_type": "stream",
     "text": [
      "Test Accuracy: 0.8637014071070832\n"
     ]
    }
   ],
   "source": [
    "svm_ccn_tfidf_test_score = clf_ccn.score(tv_test_features_sub_ccn,test_label)\n",
    "print('Test Accuracy:',svm_ccn_tfidf_test_score)"
   ]
  },
  {
   "cell_type": "code",
   "execution_count": 28,
   "metadata": {},
   "outputs": [
    {
     "name": "stdout",
     "output_type": "stream",
     "text": [
      "Accuracy: 0.8637\n",
      "Precision: 0.8668\n",
      "Recall: 0.8637\n",
      "F1 Score: 0.8645\n"
     ]
    }
   ],
   "source": [
    "import model_evaluation_utils as meu\n",
    "svm_ccn_predictions = clf_ccn.predict(tv_test_features_sub_ccn)\n",
    "meu.get_metrics(true_labels=test_label,predicted_labels=svm_ccn_predictions)"
   ]
  },
  {
   "cell_type": "code",
   "execution_count": 29,
   "metadata": {},
   "outputs": [
    {
     "name": "stdout",
     "output_type": "stream",
     "text": [
      "              precision    recall  f1-score   support\n",
      "\n",
      "          dr       0.98      0.95      0.96       307\n",
      "          os       0.86      0.78      0.82      1393\n",
      "          sx       0.99      0.99      0.99      1345\n",
      "          ed       0.92      0.87      0.90       783\n",
      "          bu       0.86      0.87      0.86      2355\n",
      "          mk       0.73      0.80      0.76      1709\n",
      "          sp       0.91      0.87      0.89       494\n",
      "\n",
      "    accuracy                           0.86      8386\n",
      "   macro avg       0.89      0.88      0.88      8386\n",
      "weighted avg       0.87      0.86      0.86      8386\n",
      "\n"
     ]
    }
   ],
   "source": [
    "unique_classes = list(set(test_label))\n",
    "meu.display_classification_report(true_labels=test_label,predicted_labels=svm_ccn_predictions,classes=unique_classes)"
   ]
  },
  {
   "cell_type": "markdown",
   "metadata": {},
   "source": [
    "# Create svm probability training data using keyword and cleaned compound noun models"
   ]
  },
  {
   "cell_type": "code",
   "execution_count": 30,
   "metadata": {},
   "outputs": [],
   "source": [
    "#get train probabilities\n",
    "y_train_kw_proba = clf.predict_proba(tv_train_features_sub)\n",
    "y_train_ccn_proba = clf_ccn.predict_proba(tv_train_features_sub_ccn)\n",
    "#get test probabilities\n",
    "y_test_kw_proba = clf.predict_proba(tv_test_features_sub)\n",
    "y_test_ccn_proba = clf_ccn.predict_proba(tv_test_features_sub_ccn)"
   ]
  },
  {
   "cell_type": "code",
   "execution_count": 31,
   "metadata": {},
   "outputs": [
    {
     "data": {
      "text/plain": [
       "array(['bu', 'dr', 'ed', 'mk', 'os', 'sp', 'sx'], dtype=object)"
      ]
     },
     "execution_count": 31,
     "metadata": {},
     "output_type": "execute_result"
    }
   ],
   "source": [
    "#mapping of classes for keyword models in probabilities\n",
    "clf.classes_"
   ]
  },
  {
   "cell_type": "code",
   "execution_count": 32,
   "metadata": {},
   "outputs": [
    {
     "data": {
      "text/plain": [
       "array(['bu', 'dr', 'ed', 'mk', 'os', 'sp', 'sx'], dtype=object)"
      ]
     },
     "execution_count": 32,
     "metadata": {},
     "output_type": "execute_result"
    }
   ],
   "source": [
    "#mapping of classes for ccn model in prob\n",
    "clf_ccn.classes_"
   ]
  },
  {
   "cell_type": "code",
   "execution_count": 33,
   "metadata": {},
   "outputs": [],
   "source": [
    "#split training probabilities into separate variables\n",
    "bu_kw_tr,dr_kw_tr,ed_kw_tr,mk_kw_tr,os_kw_tr,sp_kw_tr,sx_kw_tr = zip(*y_train_kw_proba)\n",
    "bu_ccn_tr,dr_ccn_tr,ed_ccn_tr,mk_ccn_tr,os_ccn_tr,sp_ccn_tr,sx_ccn_tr = zip(*y_train_ccn_proba)\n",
    "\n",
    "#split test probabilities into separate variables\n",
    "bu_kw_tst,dr_kw_tst,ed_kw_tst,mk_kw_tst,os_kw_tst,sp_kw_tst,sx_kw_tst = zip(*y_test_kw_proba)\n",
    "bu_ccn_tst,dr_ccn_tst,ed_ccn_tst,mk_ccn_tst,os_ccn_tst,sp_ccn_tst,sx_ccn_tst = zip(*y_test_ccn_proba)"
   ]
  },
  {
   "cell_type": "markdown",
   "metadata": {},
   "source": [
    "# Create probability training df"
   ]
  },
  {
   "cell_type": "code",
   "execution_count": 34,
   "metadata": {},
   "outputs": [
    {
     "data": {
      "text/html": [
       "<div>\n",
       "<style scoped>\n",
       "    .dataframe tbody tr th:only-of-type {\n",
       "        vertical-align: middle;\n",
       "    }\n",
       "\n",
       "    .dataframe tbody tr th {\n",
       "        vertical-align: top;\n",
       "    }\n",
       "\n",
       "    .dataframe thead th {\n",
       "        text-align: right;\n",
       "    }\n",
       "</style>\n",
       "<table border=\"1\" class=\"dataframe\">\n",
       "  <thead>\n",
       "    <tr style=\"text-align: right;\">\n",
       "      <th></th>\n",
       "      <th>bu_kw_prob</th>\n",
       "      <th>dr_kw_prob</th>\n",
       "      <th>ed_kw_prob</th>\n",
       "      <th>mk_kw_prob</th>\n",
       "      <th>os_kw_prob</th>\n",
       "      <th>sp_kw_prob</th>\n",
       "      <th>sx_kw_prob</th>\n",
       "      <th>bu_ccn_prob</th>\n",
       "      <th>dr_ccn_prob</th>\n",
       "      <th>ed_ccn_prob</th>\n",
       "      <th>mk_ccn_prob</th>\n",
       "      <th>os_ccn_prob</th>\n",
       "      <th>sp_ccn_prob</th>\n",
       "      <th>sx_ccn_prob</th>\n",
       "      <th>category</th>\n",
       "    </tr>\n",
       "  </thead>\n",
       "  <tbody>\n",
       "    <tr>\n",
       "      <th>0</th>\n",
       "      <td>7.630141e-01</td>\n",
       "      <td>4.987647e-03</td>\n",
       "      <td>3.698614e-02</td>\n",
       "      <td>1.159004e-01</td>\n",
       "      <td>6.810762e-02</td>\n",
       "      <td>9.098859e-03</td>\n",
       "      <td>1.905209e-03</td>\n",
       "      <td>1.356420e-01</td>\n",
       "      <td>0.005567</td>\n",
       "      <td>3.069385e-01</td>\n",
       "      <td>2.674447e-01</td>\n",
       "      <td>2.570592e-01</td>\n",
       "      <td>2.441288e-02</td>\n",
       "      <td>2.935503e-03</td>\n",
       "      <td>mk</td>\n",
       "    </tr>\n",
       "    <tr>\n",
       "      <th>1</th>\n",
       "      <td>6.790771e-01</td>\n",
       "      <td>1.017361e-02</td>\n",
       "      <td>9.149359e-03</td>\n",
       "      <td>1.722177e-01</td>\n",
       "      <td>1.011876e-01</td>\n",
       "      <td>2.365784e-02</td>\n",
       "      <td>4.536867e-03</td>\n",
       "      <td>1.201537e-01</td>\n",
       "      <td>0.000536</td>\n",
       "      <td>2.650723e-03</td>\n",
       "      <td>7.123347e-01</td>\n",
       "      <td>1.618313e-01</td>\n",
       "      <td>2.198764e-03</td>\n",
       "      <td>2.947843e-04</td>\n",
       "      <td>mk</td>\n",
       "    </tr>\n",
       "    <tr>\n",
       "      <th>2</th>\n",
       "      <td>1.385694e-01</td>\n",
       "      <td>5.447295e-03</td>\n",
       "      <td>2.166294e-02</td>\n",
       "      <td>6.959304e-01</td>\n",
       "      <td>1.129801e-01</td>\n",
       "      <td>1.309928e-02</td>\n",
       "      <td>1.231065e-02</td>\n",
       "      <td>2.541881e-02</td>\n",
       "      <td>0.001283</td>\n",
       "      <td>1.234979e-02</td>\n",
       "      <td>8.682929e-01</td>\n",
       "      <td>5.631654e-02</td>\n",
       "      <td>3.477934e-02</td>\n",
       "      <td>1.559569e-03</td>\n",
       "      <td>mk</td>\n",
       "    </tr>\n",
       "    <tr>\n",
       "      <th>3</th>\n",
       "      <td>1.032916e-01</td>\n",
       "      <td>3.570580e-03</td>\n",
       "      <td>4.135678e-02</td>\n",
       "      <td>7.328696e-01</td>\n",
       "      <td>1.113623e-01</td>\n",
       "      <td>6.880829e-03</td>\n",
       "      <td>6.682892e-04</td>\n",
       "      <td>3.210950e-02</td>\n",
       "      <td>0.000066</td>\n",
       "      <td>3.009986e-04</td>\n",
       "      <td>9.594156e-01</td>\n",
       "      <td>7.696693e-03</td>\n",
       "      <td>3.425794e-04</td>\n",
       "      <td>6.819640e-05</td>\n",
       "      <td>mk</td>\n",
       "    </tr>\n",
       "    <tr>\n",
       "      <th>4</th>\n",
       "      <td>3.243637e-01</td>\n",
       "      <td>7.614658e-03</td>\n",
       "      <td>7.590964e-02</td>\n",
       "      <td>3.411048e-01</td>\n",
       "      <td>9.754368e-02</td>\n",
       "      <td>1.514953e-01</td>\n",
       "      <td>1.968103e-03</td>\n",
       "      <td>2.432004e-01</td>\n",
       "      <td>0.001439</td>\n",
       "      <td>1.916225e-03</td>\n",
       "      <td>5.430214e-01</td>\n",
       "      <td>2.078255e-01</td>\n",
       "      <td>1.571416e-03</td>\n",
       "      <td>1.026406e-03</td>\n",
       "      <td>os</td>\n",
       "    </tr>\n",
       "    <tr>\n",
       "      <th>...</th>\n",
       "      <td>...</td>\n",
       "      <td>...</td>\n",
       "      <td>...</td>\n",
       "      <td>...</td>\n",
       "      <td>...</td>\n",
       "      <td>...</td>\n",
       "      <td>...</td>\n",
       "      <td>...</td>\n",
       "      <td>...</td>\n",
       "      <td>...</td>\n",
       "      <td>...</td>\n",
       "      <td>...</td>\n",
       "      <td>...</td>\n",
       "      <td>...</td>\n",
       "      <td>...</td>\n",
       "    </tr>\n",
       "    <tr>\n",
       "      <th>29297</th>\n",
       "      <td>9.266203e-01</td>\n",
       "      <td>6.943202e-05</td>\n",
       "      <td>2.201356e-03</td>\n",
       "      <td>6.345359e-02</td>\n",
       "      <td>7.389824e-03</td>\n",
       "      <td>1.219393e-04</td>\n",
       "      <td>1.435729e-04</td>\n",
       "      <td>9.970480e-01</td>\n",
       "      <td>0.000002</td>\n",
       "      <td>4.054717e-05</td>\n",
       "      <td>2.558101e-03</td>\n",
       "      <td>3.385814e-04</td>\n",
       "      <td>1.237321e-05</td>\n",
       "      <td>1.604548e-07</td>\n",
       "      <td>bu</td>\n",
       "    </tr>\n",
       "    <tr>\n",
       "      <th>29298</th>\n",
       "      <td>8.794740e-09</td>\n",
       "      <td>1.652584e-09</td>\n",
       "      <td>2.542114e-09</td>\n",
       "      <td>7.275618e-09</td>\n",
       "      <td>5.402941e-09</td>\n",
       "      <td>2.015046e-09</td>\n",
       "      <td>1.000000e+00</td>\n",
       "      <td>3.516958e-04</td>\n",
       "      <td>0.000917</td>\n",
       "      <td>2.230920e-03</td>\n",
       "      <td>8.672427e-04</td>\n",
       "      <td>4.970262e-04</td>\n",
       "      <td>2.720614e-04</td>\n",
       "      <td>9.948644e-01</td>\n",
       "      <td>sx</td>\n",
       "    </tr>\n",
       "    <tr>\n",
       "      <th>29299</th>\n",
       "      <td>1.433208e-08</td>\n",
       "      <td>9.999868e-01</td>\n",
       "      <td>1.285207e-06</td>\n",
       "      <td>1.667319e-06</td>\n",
       "      <td>8.318966e-06</td>\n",
       "      <td>1.430441e-06</td>\n",
       "      <td>4.386415e-07</td>\n",
       "      <td>3.580154e-13</td>\n",
       "      <td>1.000000</td>\n",
       "      <td>2.422649e-08</td>\n",
       "      <td>5.468798e-08</td>\n",
       "      <td>7.556879e-08</td>\n",
       "      <td>1.797631e-08</td>\n",
       "      <td>1.855666e-07</td>\n",
       "      <td>dr</td>\n",
       "    </tr>\n",
       "    <tr>\n",
       "      <th>29300</th>\n",
       "      <td>7.536856e-01</td>\n",
       "      <td>9.204601e-04</td>\n",
       "      <td>4.016859e-03</td>\n",
       "      <td>1.708322e-01</td>\n",
       "      <td>5.598032e-02</td>\n",
       "      <td>1.386158e-02</td>\n",
       "      <td>7.029647e-04</td>\n",
       "      <td>7.478736e-01</td>\n",
       "      <td>0.010599</td>\n",
       "      <td>1.480400e-02</td>\n",
       "      <td>1.218618e-01</td>\n",
       "      <td>9.807241e-02</td>\n",
       "      <td>4.212598e-03</td>\n",
       "      <td>2.576321e-03</td>\n",
       "      <td>bu</td>\n",
       "    </tr>\n",
       "    <tr>\n",
       "      <th>29301</th>\n",
       "      <td>2.110764e-01</td>\n",
       "      <td>6.821073e-04</td>\n",
       "      <td>6.221068e-04</td>\n",
       "      <td>7.117571e-01</td>\n",
       "      <td>7.484117e-02</td>\n",
       "      <td>6.359846e-04</td>\n",
       "      <td>3.850515e-04</td>\n",
       "      <td>2.087806e-01</td>\n",
       "      <td>0.000640</td>\n",
       "      <td>7.792081e-04</td>\n",
       "      <td>6.667183e-01</td>\n",
       "      <td>1.219988e-01</td>\n",
       "      <td>8.078536e-04</td>\n",
       "      <td>2.748140e-04</td>\n",
       "      <td>mk</td>\n",
       "    </tr>\n",
       "  </tbody>\n",
       "</table>\n",
       "<p>29302 rows × 15 columns</p>\n",
       "</div>"
      ],
      "text/plain": [
       "         bu_kw_prob    dr_kw_prob    ed_kw_prob    mk_kw_prob    os_kw_prob  \\\n",
       "0      7.630141e-01  4.987647e-03  3.698614e-02  1.159004e-01  6.810762e-02   \n",
       "1      6.790771e-01  1.017361e-02  9.149359e-03  1.722177e-01  1.011876e-01   \n",
       "2      1.385694e-01  5.447295e-03  2.166294e-02  6.959304e-01  1.129801e-01   \n",
       "3      1.032916e-01  3.570580e-03  4.135678e-02  7.328696e-01  1.113623e-01   \n",
       "4      3.243637e-01  7.614658e-03  7.590964e-02  3.411048e-01  9.754368e-02   \n",
       "...             ...           ...           ...           ...           ...   \n",
       "29297  9.266203e-01  6.943202e-05  2.201356e-03  6.345359e-02  7.389824e-03   \n",
       "29298  8.794740e-09  1.652584e-09  2.542114e-09  7.275618e-09  5.402941e-09   \n",
       "29299  1.433208e-08  9.999868e-01  1.285207e-06  1.667319e-06  8.318966e-06   \n",
       "29300  7.536856e-01  9.204601e-04  4.016859e-03  1.708322e-01  5.598032e-02   \n",
       "29301  2.110764e-01  6.821073e-04  6.221068e-04  7.117571e-01  7.484117e-02   \n",
       "\n",
       "         sp_kw_prob    sx_kw_prob   bu_ccn_prob  dr_ccn_prob   ed_ccn_prob  \\\n",
       "0      9.098859e-03  1.905209e-03  1.356420e-01     0.005567  3.069385e-01   \n",
       "1      2.365784e-02  4.536867e-03  1.201537e-01     0.000536  2.650723e-03   \n",
       "2      1.309928e-02  1.231065e-02  2.541881e-02     0.001283  1.234979e-02   \n",
       "3      6.880829e-03  6.682892e-04  3.210950e-02     0.000066  3.009986e-04   \n",
       "4      1.514953e-01  1.968103e-03  2.432004e-01     0.001439  1.916225e-03   \n",
       "...             ...           ...           ...          ...           ...   \n",
       "29297  1.219393e-04  1.435729e-04  9.970480e-01     0.000002  4.054717e-05   \n",
       "29298  2.015046e-09  1.000000e+00  3.516958e-04     0.000917  2.230920e-03   \n",
       "29299  1.430441e-06  4.386415e-07  3.580154e-13     1.000000  2.422649e-08   \n",
       "29300  1.386158e-02  7.029647e-04  7.478736e-01     0.010599  1.480400e-02   \n",
       "29301  6.359846e-04  3.850515e-04  2.087806e-01     0.000640  7.792081e-04   \n",
       "\n",
       "        mk_ccn_prob   os_ccn_prob   sp_ccn_prob   sx_ccn_prob category  \n",
       "0      2.674447e-01  2.570592e-01  2.441288e-02  2.935503e-03       mk  \n",
       "1      7.123347e-01  1.618313e-01  2.198764e-03  2.947843e-04       mk  \n",
       "2      8.682929e-01  5.631654e-02  3.477934e-02  1.559569e-03       mk  \n",
       "3      9.594156e-01  7.696693e-03  3.425794e-04  6.819640e-05       mk  \n",
       "4      5.430214e-01  2.078255e-01  1.571416e-03  1.026406e-03       os  \n",
       "...             ...           ...           ...           ...      ...  \n",
       "29297  2.558101e-03  3.385814e-04  1.237321e-05  1.604548e-07       bu  \n",
       "29298  8.672427e-04  4.970262e-04  2.720614e-04  9.948644e-01       sx  \n",
       "29299  5.468798e-08  7.556879e-08  1.797631e-08  1.855666e-07       dr  \n",
       "29300  1.218618e-01  9.807241e-02  4.212598e-03  2.576321e-03       bu  \n",
       "29301  6.667183e-01  1.219988e-01  8.078536e-04  2.748140e-04       mk  \n",
       "\n",
       "[29302 rows x 15 columns]"
      ]
     },
     "execution_count": 34,
     "metadata": {},
     "output_type": "execute_result"
    }
   ],
   "source": [
    "df_train_probs = pd.DataFrame(list(zip(bu_kw_tr,dr_kw_tr,ed_kw_tr,mk_kw_tr,os_kw_tr,sp_kw_tr,sx_kw_tr,bu_ccn_tr,dr_ccn_tr,ed_ccn_tr,mk_ccn_tr,os_ccn_tr,sp_ccn_tr,sx_ccn_tr,train_label)),\n",
    "                              columns = ['bu_kw_prob','dr_kw_prob','ed_kw_prob','mk_kw_prob','os_kw_prob','sp_kw_prob','sx_kw_prob','bu_ccn_prob','dr_ccn_prob','ed_ccn_prob','mk_ccn_prob','os_ccn_prob','sp_ccn_prob','sx_ccn_prob','category'])\n",
    "df_train_probs"
   ]
  },
  {
   "cell_type": "markdown",
   "metadata": {},
   "source": [
    "# Create probability test df"
   ]
  },
  {
   "cell_type": "code",
   "execution_count": 35,
   "metadata": {},
   "outputs": [
    {
     "data": {
      "text/html": [
       "<div>\n",
       "<style scoped>\n",
       "    .dataframe tbody tr th:only-of-type {\n",
       "        vertical-align: middle;\n",
       "    }\n",
       "\n",
       "    .dataframe tbody tr th {\n",
       "        vertical-align: top;\n",
       "    }\n",
       "\n",
       "    .dataframe thead th {\n",
       "        text-align: right;\n",
       "    }\n",
       "</style>\n",
       "<table border=\"1\" class=\"dataframe\">\n",
       "  <thead>\n",
       "    <tr style=\"text-align: right;\">\n",
       "      <th></th>\n",
       "      <th>bu_kw_prob</th>\n",
       "      <th>dr_kw_prob</th>\n",
       "      <th>ed_kw_prob</th>\n",
       "      <th>mk_kw_prob</th>\n",
       "      <th>os_kw_prob</th>\n",
       "      <th>sp_kw_prob</th>\n",
       "      <th>sx_kw_prob</th>\n",
       "      <th>bu_ccn_prob</th>\n",
       "      <th>dr_ccn_prob</th>\n",
       "      <th>ed_ccn_prob</th>\n",
       "      <th>mk_ccn_prob</th>\n",
       "      <th>os_ccn_prob</th>\n",
       "      <th>sp_ccn_prob</th>\n",
       "      <th>sx_ccn_prob</th>\n",
       "      <th>category</th>\n",
       "    </tr>\n",
       "  </thead>\n",
       "  <tbody>\n",
       "    <tr>\n",
       "      <th>0</th>\n",
       "      <td>9.963382e-08</td>\n",
       "      <td>2.690955e-08</td>\n",
       "      <td>5.939038e-08</td>\n",
       "      <td>1.232002e-07</td>\n",
       "      <td>1.087461e-07</td>\n",
       "      <td>3.968268e-08</td>\n",
       "      <td>1.000000</td>\n",
       "      <td>4.721761e-12</td>\n",
       "      <td>2.808680e-12</td>\n",
       "      <td>4.216967e-12</td>\n",
       "      <td>9.113487e-12</td>\n",
       "      <td>7.094323e-12</td>\n",
       "      <td>3.363506e-12</td>\n",
       "      <td>1.000000e+00</td>\n",
       "      <td>sx</td>\n",
       "    </tr>\n",
       "    <tr>\n",
       "      <th>1</th>\n",
       "      <td>7.448138e-14</td>\n",
       "      <td>1.786432e-14</td>\n",
       "      <td>4.407118e-14</td>\n",
       "      <td>6.894339e-14</td>\n",
       "      <td>6.791122e-14</td>\n",
       "      <td>2.096091e-14</td>\n",
       "      <td>1.000000</td>\n",
       "      <td>2.088906e-13</td>\n",
       "      <td>7.865687e-14</td>\n",
       "      <td>1.231975e-13</td>\n",
       "      <td>2.736735e-13</td>\n",
       "      <td>2.939254e-13</td>\n",
       "      <td>1.099646e-13</td>\n",
       "      <td>1.000000e+00</td>\n",
       "      <td>sx</td>\n",
       "    </tr>\n",
       "    <tr>\n",
       "      <th>2</th>\n",
       "      <td>8.394415e-02</td>\n",
       "      <td>8.227781e-04</td>\n",
       "      <td>1.104163e-02</td>\n",
       "      <td>3.033933e-01</td>\n",
       "      <td>5.994266e-01</td>\n",
       "      <td>1.225848e-03</td>\n",
       "      <td>0.000146</td>\n",
       "      <td>3.354234e-01</td>\n",
       "      <td>5.342940e-05</td>\n",
       "      <td>7.065421e-04</td>\n",
       "      <td>5.819701e-01</td>\n",
       "      <td>8.117259e-02</td>\n",
       "      <td>6.426692e-04</td>\n",
       "      <td>3.130233e-05</td>\n",
       "      <td>bu</td>\n",
       "    </tr>\n",
       "    <tr>\n",
       "      <th>3</th>\n",
       "      <td>2.060900e-01</td>\n",
       "      <td>1.196996e-03</td>\n",
       "      <td>3.181649e-02</td>\n",
       "      <td>7.275754e-01</td>\n",
       "      <td>1.593274e-02</td>\n",
       "      <td>1.700173e-02</td>\n",
       "      <td>0.000387</td>\n",
       "      <td>5.555159e-01</td>\n",
       "      <td>6.279326e-04</td>\n",
       "      <td>1.605180e-02</td>\n",
       "      <td>3.813572e-01</td>\n",
       "      <td>3.559498e-02</td>\n",
       "      <td>9.061724e-03</td>\n",
       "      <td>1.790447e-03</td>\n",
       "      <td>bu</td>\n",
       "    </tr>\n",
       "    <tr>\n",
       "      <th>4</th>\n",
       "      <td>1.581631e-01</td>\n",
       "      <td>4.724916e-03</td>\n",
       "      <td>4.545758e-01</td>\n",
       "      <td>2.758358e-01</td>\n",
       "      <td>1.646901e-02</td>\n",
       "      <td>6.436510e-02</td>\n",
       "      <td>0.025866</td>\n",
       "      <td>2.405779e-07</td>\n",
       "      <td>1.351413e-07</td>\n",
       "      <td>9.999977e-01</td>\n",
       "      <td>1.871143e-07</td>\n",
       "      <td>1.521522e-07</td>\n",
       "      <td>1.477604e-06</td>\n",
       "      <td>6.991123e-08</td>\n",
       "      <td>ed</td>\n",
       "    </tr>\n",
       "    <tr>\n",
       "      <th>...</th>\n",
       "      <td>...</td>\n",
       "      <td>...</td>\n",
       "      <td>...</td>\n",
       "      <td>...</td>\n",
       "      <td>...</td>\n",
       "      <td>...</td>\n",
       "      <td>...</td>\n",
       "      <td>...</td>\n",
       "      <td>...</td>\n",
       "      <td>...</td>\n",
       "      <td>...</td>\n",
       "      <td>...</td>\n",
       "      <td>...</td>\n",
       "      <td>...</td>\n",
       "      <td>...</td>\n",
       "    </tr>\n",
       "    <tr>\n",
       "      <th>8381</th>\n",
       "      <td>6.308766e-01</td>\n",
       "      <td>5.539229e-04</td>\n",
       "      <td>5.147393e-03</td>\n",
       "      <td>3.312558e-01</td>\n",
       "      <td>3.127990e-02</td>\n",
       "      <td>6.871573e-04</td>\n",
       "      <td>0.000199</td>\n",
       "      <td>5.257536e-01</td>\n",
       "      <td>1.140790e-04</td>\n",
       "      <td>3.365517e-04</td>\n",
       "      <td>4.719062e-01</td>\n",
       "      <td>1.820437e-03</td>\n",
       "      <td>6.077266e-05</td>\n",
       "      <td>8.332329e-06</td>\n",
       "      <td>bu</td>\n",
       "    </tr>\n",
       "    <tr>\n",
       "      <th>8382</th>\n",
       "      <td>2.505807e-03</td>\n",
       "      <td>1.859418e-03</td>\n",
       "      <td>2.677259e-04</td>\n",
       "      <td>2.607476e-03</td>\n",
       "      <td>5.841436e-03</td>\n",
       "      <td>4.037083e-04</td>\n",
       "      <td>0.986514</td>\n",
       "      <td>1.099579e-04</td>\n",
       "      <td>5.026625e-04</td>\n",
       "      <td>9.995976e-04</td>\n",
       "      <td>6.477450e-04</td>\n",
       "      <td>1.913351e-04</td>\n",
       "      <td>9.360552e-04</td>\n",
       "      <td>9.966126e-01</td>\n",
       "      <td>sx</td>\n",
       "    </tr>\n",
       "    <tr>\n",
       "      <th>8383</th>\n",
       "      <td>4.437778e-02</td>\n",
       "      <td>6.360838e-04</td>\n",
       "      <td>1.420950e-03</td>\n",
       "      <td>1.598051e-01</td>\n",
       "      <td>7.425266e-01</td>\n",
       "      <td>5.077377e-02</td>\n",
       "      <td>0.000460</td>\n",
       "      <td>9.312368e-03</td>\n",
       "      <td>5.996300e-04</td>\n",
       "      <td>2.195000e-03</td>\n",
       "      <td>7.216948e-01</td>\n",
       "      <td>2.469989e-01</td>\n",
       "      <td>1.884496e-02</td>\n",
       "      <td>3.543830e-04</td>\n",
       "      <td>mk</td>\n",
       "    </tr>\n",
       "    <tr>\n",
       "      <th>8384</th>\n",
       "      <td>5.249777e-03</td>\n",
       "      <td>6.807320e-04</td>\n",
       "      <td>3.413925e-03</td>\n",
       "      <td>8.399209e-01</td>\n",
       "      <td>1.418906e-01</td>\n",
       "      <td>8.114478e-03</td>\n",
       "      <td>0.000730</td>\n",
       "      <td>8.840614e-03</td>\n",
       "      <td>2.561891e-04</td>\n",
       "      <td>6.058033e-03</td>\n",
       "      <td>9.622624e-01</td>\n",
       "      <td>1.960732e-02</td>\n",
       "      <td>2.320350e-03</td>\n",
       "      <td>6.550883e-04</td>\n",
       "      <td>mk</td>\n",
       "    </tr>\n",
       "    <tr>\n",
       "      <th>8385</th>\n",
       "      <td>5.270963e-10</td>\n",
       "      <td>2.147060e-10</td>\n",
       "      <td>2.794019e-10</td>\n",
       "      <td>5.296461e-10</td>\n",
       "      <td>6.694560e-10</td>\n",
       "      <td>7.167978e-10</td>\n",
       "      <td>1.000000</td>\n",
       "      <td>1.081922e-08</td>\n",
       "      <td>3.028286e-09</td>\n",
       "      <td>4.873166e-09</td>\n",
       "      <td>1.219570e-08</td>\n",
       "      <td>1.074115e-08</td>\n",
       "      <td>6.162741e-09</td>\n",
       "      <td>1.000000e+00</td>\n",
       "      <td>sx</td>\n",
       "    </tr>\n",
       "  </tbody>\n",
       "</table>\n",
       "<p>8386 rows × 15 columns</p>\n",
       "</div>"
      ],
      "text/plain": [
       "        bu_kw_prob    dr_kw_prob    ed_kw_prob    mk_kw_prob    os_kw_prob  \\\n",
       "0     9.963382e-08  2.690955e-08  5.939038e-08  1.232002e-07  1.087461e-07   \n",
       "1     7.448138e-14  1.786432e-14  4.407118e-14  6.894339e-14  6.791122e-14   \n",
       "2     8.394415e-02  8.227781e-04  1.104163e-02  3.033933e-01  5.994266e-01   \n",
       "3     2.060900e-01  1.196996e-03  3.181649e-02  7.275754e-01  1.593274e-02   \n",
       "4     1.581631e-01  4.724916e-03  4.545758e-01  2.758358e-01  1.646901e-02   \n",
       "...            ...           ...           ...           ...           ...   \n",
       "8381  6.308766e-01  5.539229e-04  5.147393e-03  3.312558e-01  3.127990e-02   \n",
       "8382  2.505807e-03  1.859418e-03  2.677259e-04  2.607476e-03  5.841436e-03   \n",
       "8383  4.437778e-02  6.360838e-04  1.420950e-03  1.598051e-01  7.425266e-01   \n",
       "8384  5.249777e-03  6.807320e-04  3.413925e-03  8.399209e-01  1.418906e-01   \n",
       "8385  5.270963e-10  2.147060e-10  2.794019e-10  5.296461e-10  6.694560e-10   \n",
       "\n",
       "        sp_kw_prob  sx_kw_prob   bu_ccn_prob   dr_ccn_prob   ed_ccn_prob  \\\n",
       "0     3.968268e-08    1.000000  4.721761e-12  2.808680e-12  4.216967e-12   \n",
       "1     2.096091e-14    1.000000  2.088906e-13  7.865687e-14  1.231975e-13   \n",
       "2     1.225848e-03    0.000146  3.354234e-01  5.342940e-05  7.065421e-04   \n",
       "3     1.700173e-02    0.000387  5.555159e-01  6.279326e-04  1.605180e-02   \n",
       "4     6.436510e-02    0.025866  2.405779e-07  1.351413e-07  9.999977e-01   \n",
       "...            ...         ...           ...           ...           ...   \n",
       "8381  6.871573e-04    0.000199  5.257536e-01  1.140790e-04  3.365517e-04   \n",
       "8382  4.037083e-04    0.986514  1.099579e-04  5.026625e-04  9.995976e-04   \n",
       "8383  5.077377e-02    0.000460  9.312368e-03  5.996300e-04  2.195000e-03   \n",
       "8384  8.114478e-03    0.000730  8.840614e-03  2.561891e-04  6.058033e-03   \n",
       "8385  7.167978e-10    1.000000  1.081922e-08  3.028286e-09  4.873166e-09   \n",
       "\n",
       "       mk_ccn_prob   os_ccn_prob   sp_ccn_prob   sx_ccn_prob category  \n",
       "0     9.113487e-12  7.094323e-12  3.363506e-12  1.000000e+00       sx  \n",
       "1     2.736735e-13  2.939254e-13  1.099646e-13  1.000000e+00       sx  \n",
       "2     5.819701e-01  8.117259e-02  6.426692e-04  3.130233e-05       bu  \n",
       "3     3.813572e-01  3.559498e-02  9.061724e-03  1.790447e-03       bu  \n",
       "4     1.871143e-07  1.521522e-07  1.477604e-06  6.991123e-08       ed  \n",
       "...            ...           ...           ...           ...      ...  \n",
       "8381  4.719062e-01  1.820437e-03  6.077266e-05  8.332329e-06       bu  \n",
       "8382  6.477450e-04  1.913351e-04  9.360552e-04  9.966126e-01       sx  \n",
       "8383  7.216948e-01  2.469989e-01  1.884496e-02  3.543830e-04       mk  \n",
       "8384  9.622624e-01  1.960732e-02  2.320350e-03  6.550883e-04       mk  \n",
       "8385  1.219570e-08  1.074115e-08  6.162741e-09  1.000000e+00       sx  \n",
       "\n",
       "[8386 rows x 15 columns]"
      ]
     },
     "execution_count": 35,
     "metadata": {},
     "output_type": "execute_result"
    }
   ],
   "source": [
    "df_test_probs = pd.DataFrame(list(zip(bu_kw_tst,dr_kw_tst,ed_kw_tst,mk_kw_tst,os_kw_tst,sp_kw_tst,sx_kw_tst,bu_ccn_tst,dr_ccn_tst,ed_ccn_tst,mk_ccn_tst,os_ccn_tst,sp_ccn_tst,sx_ccn_tst,test_label)),\n",
    "                              columns = ['bu_kw_prob','dr_kw_prob','ed_kw_prob','mk_kw_prob','os_kw_prob','sp_kw_prob','sx_kw_prob','bu_ccn_prob','dr_ccn_prob','ed_ccn_prob','mk_ccn_prob','os_ccn_prob','sp_ccn_prob','sx_ccn_prob','category'])\n",
    "df_test_probs"
   ]
  },
  {
   "cell_type": "markdown",
   "metadata": {},
   "source": [
    "# train xgboost model on training set probabilities"
   ]
  },
  {
   "cell_type": "code",
   "execution_count": 36,
   "metadata": {},
   "outputs": [],
   "source": [
    "#set up training data\n",
    "X_train = df_train_probs[['bu_kw_prob','dr_kw_prob','ed_kw_prob','mk_kw_prob','os_kw_prob','sp_kw_prob','sx_kw_prob','bu_ccn_prob','dr_ccn_prob','ed_ccn_prob','mk_ccn_prob','os_ccn_prob','sp_ccn_prob','sx_ccn_prob']].values\n",
    "Y_train = df_train_probs[['category']].values\n",
    "#set up test data\n",
    "X_test = df_test_probs[['bu_kw_prob','dr_kw_prob','ed_kw_prob','mk_kw_prob','os_kw_prob','sp_kw_prob','sx_kw_prob','bu_ccn_prob','dr_ccn_prob','ed_ccn_prob','mk_ccn_prob','os_ccn_prob','sp_ccn_prob','sx_ccn_prob']].values\n",
    "Y_test = df_test_probs[['category']].values"
   ]
  },
  {
   "cell_type": "code",
   "execution_count": 37,
   "metadata": {},
   "outputs": [
    {
     "name": "stdout",
     "output_type": "stream",
     "text": [
      "29302\n",
      "29302\n",
      "8386\n",
      "8386\n"
     ]
    }
   ],
   "source": [
    "print(len(X_train))\n",
    "print(len(Y_train))\n",
    "print(len(X_test))\n",
    "print(len(Y_test))"
   ]
  },
  {
   "cell_type": "code",
   "execution_count": 38,
   "metadata": {},
   "outputs": [
    {
     "name": "stdout",
     "output_type": "stream",
     "text": [
      "[22:07:53] WARNING: C:/Users/Administrator/workspace/xgboost-win64_release_1.3.0/src/learner.cc:541: \n",
      "Parameters: { scale_pos_weight, silent } might not be used.\n",
      "\n",
      "  This may not be accurate due to some parameters are only used in language bindings but\n",
      "  passed down to XGBoost core.  Or some parameters are not used but slip through this\n",
      "  verification. Please open an issue if you find above cases.\n",
      "\n",
      "\n",
      "[22:07:53] WARNING: C:/Users/Administrator/workspace/xgboost-win64_release_1.3.0/src/learner.cc:1061: Starting in XGBoost 1.3.0, the default evaluation metric used with the objective 'multi:softprob' was changed from 'merror' to 'mlogloss'. Explicitly set eval_metric if you'd like to restore the old behavior.\n"
     ]
    },
    {
     "data": {
      "text/plain": [
       "XGBClassifier(base_score=0.5, booster='gbtree', colsample_bylevel=1,\n",
       "              colsample_bynode=1, colsample_bytree=0.4, gamma=1, gpu_id=-1,\n",
       "              importance_type='gain', interaction_constraints='',\n",
       "              learning_rate=0.01, max_delta_step=0, max_depth=4,\n",
       "              min_child_weight=1, missing=nan, monotone_constraints='()',\n",
       "              n_estimators=500, n_jobs=8, num_parallel_tree=1,\n",
       "              objective='multi:softprob', random_state=0, reg_alpha=0.3,\n",
       "              reg_lambda=1, scale_pos_weight=1, silent=False, subsample=0.8,\n",
       "              tree_method='exact', validate_parameters=1, verbosity=None)"
      ]
     },
     "execution_count": 38,
     "metadata": {},
     "output_type": "execute_result"
    }
   ],
   "source": [
    "from xgboost import XGBClassifier\n",
    "clf_xgb = XGBClassifier(silent=False,\n",
    "                        scale_pos_weight=1,\n",
    "                        learning_rate=0.01,\n",
    "                        colsample_bytree = 0.4,\n",
    "                        subsample = 0.8,\n",
    "                        objective='multi:softprob',\n",
    "                        n_estimators=500,\n",
    "                        reg_alpha = 0.3,\n",
    "                        max_depth=4,\n",
    "                        gamma=1)\n",
    "clf_xgb.fit(X_train, Y_train)"
   ]
  },
  {
   "cell_type": "code",
   "execution_count": 39,
   "metadata": {},
   "outputs": [
    {
     "name": "stdout",
     "output_type": "stream",
     "text": [
      "Accuracy: 0.8602\n",
      "Precision: 0.8618\n",
      "Recall: 0.8602\n",
      "F1 Score: 0.8608\n"
     ]
    }
   ],
   "source": [
    "xgb_predictions = clf_xgb.predict(X_test)\n",
    "meu.get_metrics(true_labels=test_label, predicted_labels=xgb_predictions)"
   ]
  },
  {
   "cell_type": "code",
   "execution_count": 40,
   "metadata": {},
   "outputs": [
    {
     "name": "stdout",
     "output_type": "stream",
     "text": [
      "              precision    recall  f1-score   support\n",
      "\n",
      "          dr       1.00      0.90      0.95       307\n",
      "          os       0.82      0.80      0.81      1393\n",
      "          sx       1.00      0.97      0.99      1345\n",
      "          ed       0.89      0.91      0.90       783\n",
      "          bu       0.86      0.86      0.86      2355\n",
      "          mk       0.75      0.77      0.76      1709\n",
      "          sp       0.88      0.89      0.89       494\n",
      "\n",
      "    accuracy                           0.86      8386\n",
      "   macro avg       0.88      0.87      0.88      8386\n",
      "weighted avg       0.86      0.86      0.86      8386\n",
      "\n"
     ]
    }
   ],
   "source": [
    "unique_classes = list(set(test_label))\n",
    "meu.display_classification_report(true_labels=test_label,predicted_labels=xgb_predictions,classes=unique_classes)"
   ]
  },
  {
   "cell_type": "code",
   "execution_count": 41,
   "metadata": {},
   "outputs": [
    {
     "name": "stdout",
     "output_type": "stream",
     "text": [
      "Confusion matrix, without normalization\n",
      "[[1121   20    1   13  158    0   80]\n",
      " [   8  710    0   11   18    0   36]\n",
      " [  22    1  277    0    5    0    2]\n",
      " [  13   12    0  442   24    1    2]\n",
      " [ 128   20    0   29 1324    0  208]\n",
      " [   6    6    0    3   17 1311    2]\n",
      " [  70   32    0    5  219    0 2029]]\n"
     ]
    },
    {
     "data": {
      "image/png": "[encoded data removed]",
      "text/plain": [
       "<Figure size 432x288 with 2 Axes>"
      ]
     },
     "metadata": {
      "needs_background": "light"
     },
     "output_type": "display_data"
    }
   ],
   "source": [
    "from sklearn.metrics import confusion_matrix\n",
    "cnf_matrix = confusion_matrix(test_label,xgb_predictions,labels=['os','ed','dr','sp','mk','sx','bu'])\n",
    "np.set_printoptions(precision=2)\n",
    "\n",
    "# Plot non-normalized confusion matrix\n",
    "plt.figure()\n",
    "mr.plot_confusion_matrix(cnf_matrix, classes=['os','ed','dr','sp','mk','sx','bu'],\n",
    "                      title='Confusion matrix, XGboost on kw and cnn svm probabilities')"
   ]
  },
  {
   "cell_type": "code",
   "execution_count": 42,
   "metadata": {},
   "outputs": [
    {
     "data": {
      "image/png": "[encoded data removed]",
      "text/plain": [
       "<Figure size 1296x648 with 1 Axes>"
      ]
     },
     "metadata": {
      "needs_background": "light"
     },
     "output_type": "display_data"
    }
   ],
   "source": [
    "y_proba = clf_xgb.predict_proba(X_test)\n",
    "\n",
    "labels_dict = dict(zip(df.category,df.category))\n",
    "target_names = sorted(list(labels_dict.values()))\n",
    "\n",
    "mr.plot_roc_curve(labels=test_label, predictions=y_proba, x_lim=[0.0,0.5], y_lim=[0.5,1.0], target_names=target_names)"
   ]
  },
  {
   "cell_type": "code",
   "execution_count": 43,
   "metadata": {},
   "outputs": [],
   "source": [
    "df_test_results = pd.DataFrame(list(zip(test_corpus,test_label,xgb_predictions, y_proba)),columns = ['terms','category','predicted_label','probability'])\n",
    "df_test_results['match'] = np.where(df_test_results['category']==df_test_results['predicted_label'],1,0)"
   ]
  },
  {
   "cell_type": "code",
   "execution_count": 44,
   "metadata": {},
   "outputs": [
    {
     "data": {
      "text/plain": [
       "{'totalSamples': 8386,\n",
       " 'overallAccuracy': 0.8602432625804913,\n",
       " 'byCategory': {'sx': {'totalSamples': 1345, 'accuracy': 0.9747211895910781},\n",
       "  'ed': {'totalSamples': 783, 'accuracy': 0.9067688378033205},\n",
       "  'dr': {'totalSamples': 307, 'accuracy': 0.9022801302931596},\n",
       "  'sp': {'totalSamples': 494, 'accuracy': 0.8947368421052632},\n",
       "  'bu': {'totalSamples': 2355, 'accuracy': 0.8615711252653928},\n",
       "  'os': {'totalSamples': 1393, 'accuracy': 0.8047379755922469},\n",
       "  'mk': {'totalSamples': 1709, 'accuracy': 0.7747220596840257}}}"
      ]
     },
     "execution_count": 44,
     "metadata": {},
     "output_type": "execute_result"
    }
   ],
   "source": [
    "rpt = mr.generate_report(df_test_results)\n",
    "rpt"
   ]
  },
  {
   "cell_type": "code",
   "execution_count": 45,
   "metadata": {},
   "outputs": [],
   "source": [
    "#pickle the key words model\n",
    "import pickle\n",
    "\n",
    "filename = 'svm_keywords_v1.sav'\n",
    "pickle.dump(clf,open(filename,'wb'))"
   ]
  }
 ],
 "metadata": {
  "kernelspec": {
   "display_name": "Python 3",
   "language": "python",
   "name": "python3"
  },
  "language_info": {
   "codemirror_mode": {
    "name": "ipython",
    "version": 3
   },
   "file_extension": ".py",
   "mimetype": "text/x-python",
   "name": "python",
   "nbconvert_exporter": "python",
   "pygments_lexer": "ipython3",
   "version": "3.8.5"
  }
 },
 "nbformat": 4,
 "nbformat_minor": 4
}
