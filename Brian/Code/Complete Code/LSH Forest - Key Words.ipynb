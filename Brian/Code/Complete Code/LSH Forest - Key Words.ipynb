{
 "cells": [
  {
   "cell_type": "code",
   "execution_count": 1,
   "metadata": {},
   "outputs": [],
   "source": [
    "import numpy as np\n",
    "import pandas as pd\n",
    "import re\n",
    "import time\n",
    "from datasketch import MinHash, MinHashLSHForest\n",
    "from sklearn.model_selection import cross_val_score\n",
    "import matplotlib.pyplot as plt\n",
    "import warnings\n",
    "import model_report as mr\n",
    "warnings.filterwarnings('ignore')\n",
    "%matplotlib inline"
   ]
  },
  {
   "cell_type": "code",
   "execution_count": 2,
   "metadata": {},
   "outputs": [],
   "source": [
    "file_info = \"C:\\\\Users\\\\blgai\\\\OneDrive\\\\Documents\\\\School\\\\SMU\\\\Courses\\\\Fall 2021\\\\Capstone A\\Data\\\\cleaned_combined_key_words_v1.csv\"\n",
    "df = pd.read_csv(file_info, sep='\\t')"
   ]
  },
  {
   "cell_type": "code",
   "execution_count": 3,
   "metadata": {},
   "outputs": [],
   "source": [
    "#balance classes\n",
    "g = df.groupby('category')\n",
    "df = pd.DataFrame(g.apply(lambda x: x.sample(g.size().min()).reset_index(drop=True)))"
   ]
  },
  {
   "cell_type": "code",
   "execution_count": 4,
   "metadata": {},
   "outputs": [
    {
     "data": {
      "text/html": [
       "<div>\n",
       "<style scoped>\n",
       "    .dataframe tbody tr th:only-of-type {\n",
       "        vertical-align: middle;\n",
       "    }\n",
       "\n",
       "    .dataframe tbody tr th {\n",
       "        vertical-align: top;\n",
       "    }\n",
       "\n",
       "    .dataframe thead th {\n",
       "        text-align: right;\n",
       "    }\n",
       "</style>\n",
       "<table border=\"1\" class=\"dataframe\">\n",
       "  <thead>\n",
       "    <tr style=\"text-align: right;\">\n",
       "      <th></th>\n",
       "      <th></th>\n",
       "      <th>url</th>\n",
       "      <th>code</th>\n",
       "      <th>category</th>\n",
       "      <th>language</th>\n",
       "      <th>title</th>\n",
       "      <th>summary</th>\n",
       "      <th>key_words</th>\n",
       "      <th>content</th>\n",
       "      <th>combined</th>\n",
       "      <th>nouns</th>\n",
       "      <th>compounds</th>\n",
       "      <th>comp_nouns</th>\n",
       "      <th>flat_comp_nouns</th>\n",
       "      <th>clean_comp_nouns</th>\n",
       "      <th>clean_combined</th>\n",
       "      <th>clean_key_words</th>\n",
       "    </tr>\n",
       "    <tr>\n",
       "      <th>category</th>\n",
       "      <th></th>\n",
       "      <th></th>\n",
       "      <th></th>\n",
       "      <th></th>\n",
       "      <th></th>\n",
       "      <th></th>\n",
       "      <th></th>\n",
       "      <th></th>\n",
       "      <th></th>\n",
       "      <th></th>\n",
       "      <th></th>\n",
       "      <th></th>\n",
       "      <th></th>\n",
       "      <th></th>\n",
       "      <th></th>\n",
       "      <th></th>\n",
       "      <th></th>\n",
       "    </tr>\n",
       "  </thead>\n",
       "  <tbody>\n",
       "    <tr>\n",
       "      <th rowspan=\"5\" valign=\"top\">bu</th>\n",
       "      <th>0</th>\n",
       "      <td>*://WWW.BKIDEAS.COM</td>\n",
       "      <td>200</td>\n",
       "      <td>bu</td>\n",
       "      <td>en</td>\n",
       "      <td>BKI</td>\n",
       "      <td>World Class Foodservice Industry Equipment</td>\n",
       "      <td>('food service', 'service equipment', 'solutio...</td>\n",
       "      <td>Home Products cooking solutions Fryers, Tables...</td>\n",
       "      <td>BKI World Class Foodservice Industry Equipment...</td>\n",
       "      <td>[('BKI', 0, 3, 'PROPN'), ('World', 4, 9, 'PROP...</td>\n",
       "      <td>[('BKI World Class Foodservice Industry Equipm...</td>\n",
       "      <td>{'Hot', 'Sales', 'World', 'industry', 'wells',...</td>\n",
       "      <td>{'Hot', 'Sales', 'World', 'industry', 'wells',...</td>\n",
       "      <td>hot sales world industry well part product lin...</td>\n",
       "      <td>bki world class foodservice industry equipment...</td>\n",
       "      <td>food service service equipment solution group ...</td>\n",
       "    </tr>\n",
       "    <tr>\n",
       "      <th>1</th>\n",
       "      <td>*://1085447.MARKETPLACE.TOPS.STONE.CC</td>\n",
       "      <td>200</td>\n",
       "      <td>bu</td>\n",
       "      <td>en</td>\n",
       "      <td>Crema Valencia - Exporters, Manufacturers, Sup...</td>\n",
       "      <td>Crema Valencia - Exporters, Manufacturers, Sup...</td>\n",
       "      <td>('crema valencia', 'valencia crema', 'granite ...</td>\n",
       "      <td>1085447.Marketplace.Tops.stone.m.biz Granite M...</td>\n",
       "      <td>Crema Valencia - Exporters, Manufacturers, Sup...</td>\n",
       "      <td>[('Crema', 0, 5, 'PROPN'), ('Valencia', 6, 14,...</td>\n",
       "      <td>[('Crema Valencia -', 0, 16, 'COMPOUND'), ('Co...</td>\n",
       "      <td>{'M.Biz', 'Pattern', 'Kitchen', 'slab', 'Compa...</td>\n",
       "      <td>{'M.Biz', 'Pattern', 'Kitchen', 'slab', 'Compa...</td>\n",
       "      <td>biz pattern kitchen slab companies crema valen...</td>\n",
       "      <td>crema valencia exporters manufacturers supplie...</td>\n",
       "      <td>crema valencia valencia crema granite granite ...</td>\n",
       "    </tr>\n",
       "    <tr>\n",
       "      <th>2</th>\n",
       "      <td>*://betaeducation.org</td>\n",
       "      <td>200</td>\n",
       "      <td>bu</td>\n",
       "      <td>en</td>\n",
       "      <td>IIT Foundation programme,Olympiad Course,VI to...</td>\n",
       "      <td>IIT Foundation programme,Olympiad Course,VI to...</td>\n",
       "      <td>('iit foundation', 'programme olympiad', 'clas...</td>\n",
       "      <td>IIT Foundation programme,Olympiad Course,VI to...</td>\n",
       "      <td>IIT Foundation programme,Olympiad Course,VI to...</td>\n",
       "      <td>[('IIT', 0, 3, 'PROPN'), ('Foundation', 4, 14,...</td>\n",
       "      <td>[('IIT Foundation programme', 0, 24, 'COMPOUND...</td>\n",
       "      <td>{'Faculties', 'Enrichment', 'Designing', 'I', ...</td>\n",
       "      <td>{'Faculties', 'Enrichment', 'Designing', 'I', ...</td>\n",
       "      <td>faculty enrichment designing school management...</td>\n",
       "      <td>iit foundation programme olympiad course vi x ...</td>\n",
       "      <td>iit foundation programme olympiad class acer e...</td>\n",
       "    </tr>\n",
       "    <tr>\n",
       "      <th>3</th>\n",
       "      <td>*://WWW.BAYPOINTLEGAL.COM</td>\n",
       "      <td>200</td>\n",
       "      <td>bu</td>\n",
       "      <td>en</td>\n",
       "      <td>Bay Point Legal Service - Process Servers in S...</td>\n",
       "      <td>Bay Point Legal offers a wide variety of servi...</td>\n",
       "      <td>('point legal', 'bay point', 'service process'...</td>\n",
       "      <td>Bay Point Legal Service Fast and Effective Pro...</td>\n",
       "      <td>Bay Point Legal Service - Process Servers in S...</td>\n",
       "      <td>[('Bay', 0, 3, 'PROPN'), ('Point', 4, 9, 'PROP...</td>\n",
       "      <td>[('Bay Point Legal Service -', 0, 25, 'COMPOUN...</td>\n",
       "      <td>{'answers', 'Social', 'Process', 'Park Row', '...</td>\n",
       "      <td>{'answers', 'Social', 'Process', 'Park Row', '...</td>\n",
       "      <td>answer social process park row pi row btnlearn...</td>\n",
       "      <td>bay point legal service process servers salina...</td>\n",
       "      <td>point legal bay point service process legal of...</td>\n",
       "    </tr>\n",
       "    <tr>\n",
       "      <th>4</th>\n",
       "      <td>*://WWW.KITTELSONCARPO.COM</td>\n",
       "      <td>200</td>\n",
       "      <td>bu</td>\n",
       "      <td>en</td>\n",
       "      <td>Doing Business in the Philippines | Business R...</td>\n",
       "      <td>Kittelson &amp; Carpo Consulting is a consulting f...</td>\n",
       "      <td>('kittelson carpo', 'carpo consulting', 'busin...</td>\n",
       "      <td>Kittelson &amp; Carpo Consulting Logo Flag PH (+63...</td>\n",
       "      <td>Doing Business in the Philippines | Business R...</td>\n",
       "      <td>[('Business', 6, 14, 'PROPN'), ('Philippines',...</td>\n",
       "      <td>[('Philippines |', 22, 35, 'COMPOUND'), ('Busi...</td>\n",
       "      <td>{'entry', 'Rights Reserved', 'Space', 'No', '+...</td>\n",
       "      <td>{'entry', 'Rights Reserved', 'Space', 'No', '+...</td>\n",
       "      <td>entry rights reserved space no address complia...</td>\n",
       "      <td>business philippines business registration kit...</td>\n",
       "      <td>kittelson carpo carpo consulting business regi...</td>\n",
       "    </tr>\n",
       "  </tbody>\n",
       "</table>\n",
       "</div>"
      ],
      "text/plain": [
       "                                              url  code category language  \\\n",
       "category                                                                    \n",
       "bu       0                    *://WWW.BKIDEAS.COM   200       bu       en   \n",
       "         1  *://1085447.MARKETPLACE.TOPS.STONE.CC   200       bu       en   \n",
       "         2                  *://betaeducation.org   200       bu       en   \n",
       "         3              *://WWW.BAYPOINTLEGAL.COM   200       bu       en   \n",
       "         4             *://WWW.KITTELSONCARPO.COM   200       bu       en   \n",
       "\n",
       "                                                        title  \\\n",
       "category                                                        \n",
       "bu       0                                                BKI   \n",
       "         1  Crema Valencia - Exporters, Manufacturers, Sup...   \n",
       "         2  IIT Foundation programme,Olympiad Course,VI to...   \n",
       "         3  Bay Point Legal Service - Process Servers in S...   \n",
       "         4  Doing Business in the Philippines | Business R...   \n",
       "\n",
       "                                                      summary  \\\n",
       "category                                                        \n",
       "bu       0         World Class Foodservice Industry Equipment   \n",
       "         1  Crema Valencia - Exporters, Manufacturers, Sup...   \n",
       "         2  IIT Foundation programme,Olympiad Course,VI to...   \n",
       "         3  Bay Point Legal offers a wide variety of servi...   \n",
       "         4  Kittelson & Carpo Consulting is a consulting f...   \n",
       "\n",
       "                                                    key_words  \\\n",
       "category                                                        \n",
       "bu       0  ('food service', 'service equipment', 'solutio...   \n",
       "         1  ('crema valencia', 'valencia crema', 'granite ...   \n",
       "         2  ('iit foundation', 'programme olympiad', 'clas...   \n",
       "         3  ('point legal', 'bay point', 'service process'...   \n",
       "         4  ('kittelson carpo', 'carpo consulting', 'busin...   \n",
       "\n",
       "                                                      content  \\\n",
       "category                                                        \n",
       "bu       0  Home Products cooking solutions Fryers, Tables...   \n",
       "         1  1085447.Marketplace.Tops.stone.m.biz Granite M...   \n",
       "         2  IIT Foundation programme,Olympiad Course,VI to...   \n",
       "         3  Bay Point Legal Service Fast and Effective Pro...   \n",
       "         4  Kittelson & Carpo Consulting Logo Flag PH (+63...   \n",
       "\n",
       "                                                     combined  \\\n",
       "category                                                        \n",
       "bu       0  BKI World Class Foodservice Industry Equipment...   \n",
       "         1  Crema Valencia - Exporters, Manufacturers, Sup...   \n",
       "         2  IIT Foundation programme,Olympiad Course,VI to...   \n",
       "         3  Bay Point Legal Service - Process Servers in S...   \n",
       "         4  Doing Business in the Philippines | Business R...   \n",
       "\n",
       "                                                        nouns  \\\n",
       "category                                                        \n",
       "bu       0  [('BKI', 0, 3, 'PROPN'), ('World', 4, 9, 'PROP...   \n",
       "         1  [('Crema', 0, 5, 'PROPN'), ('Valencia', 6, 14,...   \n",
       "         2  [('IIT', 0, 3, 'PROPN'), ('Foundation', 4, 14,...   \n",
       "         3  [('Bay', 0, 3, 'PROPN'), ('Point', 4, 9, 'PROP...   \n",
       "         4  [('Business', 6, 14, 'PROPN'), ('Philippines',...   \n",
       "\n",
       "                                                    compounds  \\\n",
       "category                                                        \n",
       "bu       0  [('BKI World Class Foodservice Industry Equipm...   \n",
       "         1  [('Crema Valencia -', 0, 16, 'COMPOUND'), ('Co...   \n",
       "         2  [('IIT Foundation programme', 0, 24, 'COMPOUND...   \n",
       "         3  [('Bay Point Legal Service -', 0, 25, 'COMPOUN...   \n",
       "         4  [('Philippines |', 22, 35, 'COMPOUND'), ('Busi...   \n",
       "\n",
       "                                                   comp_nouns  \\\n",
       "category                                                        \n",
       "bu       0  {'Hot', 'Sales', 'World', 'industry', 'wells',...   \n",
       "         1  {'M.Biz', 'Pattern', 'Kitchen', 'slab', 'Compa...   \n",
       "         2  {'Faculties', 'Enrichment', 'Designing', 'I', ...   \n",
       "         3  {'answers', 'Social', 'Process', 'Park Row', '...   \n",
       "         4  {'entry', 'Rights Reserved', 'Space', 'No', '+...   \n",
       "\n",
       "                                              flat_comp_nouns  \\\n",
       "category                                                        \n",
       "bu       0  {'Hot', 'Sales', 'World', 'industry', 'wells',...   \n",
       "         1  {'M.Biz', 'Pattern', 'Kitchen', 'slab', 'Compa...   \n",
       "         2  {'Faculties', 'Enrichment', 'Designing', 'I', ...   \n",
       "         3  {'answers', 'Social', 'Process', 'Park Row', '...   \n",
       "         4  {'entry', 'Rights Reserved', 'Space', 'No', '+...   \n",
       "\n",
       "                                             clean_comp_nouns  \\\n",
       "category                                                        \n",
       "bu       0  hot sales world industry well part product lin...   \n",
       "         1  biz pattern kitchen slab companies crema valen...   \n",
       "         2  faculty enrichment designing school management...   \n",
       "         3  answer social process park row pi row btnlearn...   \n",
       "         4  entry rights reserved space no address complia...   \n",
       "\n",
       "                                               clean_combined  \\\n",
       "category                                                        \n",
       "bu       0  bki world class foodservice industry equipment...   \n",
       "         1  crema valencia exporters manufacturers supplie...   \n",
       "         2  iit foundation programme olympiad course vi x ...   \n",
       "         3  bay point legal service process servers salina...   \n",
       "         4  business philippines business registration kit...   \n",
       "\n",
       "                                              clean_key_words  \n",
       "category                                                       \n",
       "bu       0  food service service equipment solution group ...  \n",
       "         1  crema valencia valencia crema granite granite ...  \n",
       "         2  iit foundation programme olympiad class acer e...  \n",
       "         3  point legal bay point service process legal of...  \n",
       "         4  kittelson carpo carpo consulting business regi...  "
      ]
     },
     "execution_count": 4,
     "metadata": {},
     "output_type": "execute_result"
    }
   ],
   "source": [
    "df.head()"
   ]
  },
  {
   "cell_type": "code",
   "execution_count": 5,
   "metadata": {},
   "outputs": [
    {
     "data": {
      "text/plain": [
       "category\n",
       "bu    1595\n",
       "dr    1595\n",
       "ed    1595\n",
       "mk    1595\n",
       "os    1595\n",
       "sp    1595\n",
       "sx    1595\n",
       "dtype: int64"
      ]
     },
     "execution_count": 5,
     "metadata": {},
     "output_type": "execute_result"
    }
   ],
   "source": [
    "df.groupby(df.category).size()"
   ]
  },
  {
   "cell_type": "code",
   "execution_count": 7,
   "metadata": {},
   "outputs": [
    {
     "data": {
      "text/plain": [
       "((7812,), (2236,), (1117,))"
      ]
     },
     "execution_count": 7,
     "metadata": {},
     "output_type": "execute_result"
    }
   ],
   "source": [
    "from sklearn.model_selection import train_test_split\n",
    "#get 10% holdout set\n",
    "train_corpus, holdout_corpus, train_label, holdout_label = train_test_split(df['clean_key_words'], \n",
    "                                                                           df['category'],\n",
    "                                                                           test_size=.10,random_state=1234)\n",
    "\n",
    "#get 80% train and 20% test sets\n",
    "train_corpus, test_corpus, train_label, test_label = train_test_split(train_corpus,\n",
    "                                                                      train_label,\n",
    "                                                                      test_size=.2225,random_state=1234) #.9 * .2225 = .20\n",
    "\n",
    "train_corpus.shape, test_corpus.shape, holdout_corpus.shape"
   ]
  },
  {
   "cell_type": "code",
   "execution_count": 8,
   "metadata": {},
   "outputs": [],
   "source": [
    "df_train = pd.DataFrame(zip(train_corpus,train_label),columns=[\"clean_key_words\",\"label\"])\n",
    "df_test = pd.DataFrame(zip(test_corpus,test_label),columns=[\"clean_key_words\",\"label\"])\n",
    "df_holdout = pd.DataFrame(zip(holdout_corpus,holdout_label),columns=[\"clean_key_words\",\"label\"])"
   ]
  },
  {
   "cell_type": "code",
   "execution_count": 9,
   "metadata": {},
   "outputs": [
    {
     "data": {
      "text/html": [
       "<div>\n",
       "<style scoped>\n",
       "    .dataframe tbody tr th:only-of-type {\n",
       "        vertical-align: middle;\n",
       "    }\n",
       "\n",
       "    .dataframe tbody tr th {\n",
       "        vertical-align: top;\n",
       "    }\n",
       "\n",
       "    .dataframe thead th {\n",
       "        text-align: right;\n",
       "    }\n",
       "</style>\n",
       "<table border=\"1\" class=\"dataframe\">\n",
       "  <thead>\n",
       "    <tr style=\"text-align: right;\">\n",
       "      <th></th>\n",
       "      <th>clean_key_words</th>\n",
       "      <th>label</th>\n",
       "    </tr>\n",
       "  </thead>\n",
       "  <tbody>\n",
       "    <tr>\n",
       "      <th>0</th>\n",
       "      <td>business plan financial support level comprehe...</td>\n",
       "      <td>bu</td>\n",
       "    </tr>\n",
       "    <tr>\n",
       "      <th>1</th>\n",
       "      <td>english honey honey english active manuka summ...</td>\n",
       "      <td>os</td>\n",
       "    </tr>\n",
       "    <tr>\n",
       "      <th>2</th>\n",
       "      <td>thai massage sen line call sen massage focus b...</td>\n",
       "      <td>mk</td>\n",
       "    </tr>\n",
       "    <tr>\n",
       "      <th>3</th>\n",
       "      <td>accurace timing time service cross country hig...</td>\n",
       "      <td>bu</td>\n",
       "    </tr>\n",
       "    <tr>\n",
       "      <th>4</th>\n",
       "      <td>medical technology europe middle east africa v...</td>\n",
       "      <td>bu</td>\n",
       "    </tr>\n",
       "  </tbody>\n",
       "</table>\n",
       "</div>"
      ],
      "text/plain": [
       "                                     clean_key_words label\n",
       "0  business plan financial support level comprehe...    bu\n",
       "1  english honey honey english active manuka summ...    os\n",
       "2  thai massage sen line call sen massage focus b...    mk\n",
       "3  accurace timing time service cross country hig...    bu\n",
       "4  medical technology europe middle east africa v...    bu"
      ]
     },
     "execution_count": 9,
     "metadata": {},
     "output_type": "execute_result"
    }
   ],
   "source": [
    "df_train.head()"
   ]
  },
  {
   "cell_type": "code",
   "execution_count": 10,
   "metadata": {},
   "outputs": [],
   "source": [
    "#Number of Permutations\n",
    "permutations = 256\n"
   ]
  },
  {
   "cell_type": "code",
   "execution_count": 11,
   "metadata": {},
   "outputs": [],
   "source": [
    "def preprocess(text):\n",
    "    text = re.sub(r'[^\\w\\s]','',text)\n",
    "    tokens = text.lower()\n",
    "    tokens = tokens.split()\n",
    "    return tokens"
   ]
  },
  {
   "cell_type": "code",
   "execution_count": 12,
   "metadata": {},
   "outputs": [],
   "source": [
    "def get_forest(data,perms):\n",
    "    start_time = time.time()\n",
    "    minhash = []\n",
    "    for text in data['clean_key_words']:\n",
    "        tokens = preprocess(text)\n",
    "        m = MinHash(num_perm=perms)\n",
    "        for s in tokens:\n",
    "            m.update(s.encode('utf8'))\n",
    "        minhash.append(m)\n",
    "        \n",
    "    forest = MinHashLSHForest(num_perm=perms)\n",
    "    \n",
    "    for i,m in enumerate(minhash):\n",
    "        forest.add(i,m)\n",
    "    \n",
    "    forest.index()\n",
    "    \n",
    "    print('It took %s seconds to build forest.' %(time.time()-start_time))\n",
    "    \n",
    "    return forest"
   ]
  },
  {
   "cell_type": "code",
   "execution_count": 19,
   "metadata": {},
   "outputs": [],
   "source": [
    "def get_cosine(list1,list2):\n",
    "    from collections import Counter\n",
    "\n",
    "    # count word occurrences\n",
    "    a_vals = Counter(list1)\n",
    "    b_vals = Counter(list2)\n",
    "\n",
    "    # convert to word-vectors\n",
    "    words  = list(a_vals.keys() | b_vals.keys())\n",
    "    a_vect = [a_vals.get(word, 0) for word in words]        \n",
    "    b_vect = [b_vals.get(word, 0) for word in words]        \n",
    "\n",
    "    # find cosine\n",
    "    len_a  = sum(av*av for av in a_vect) ** 0.5             \n",
    "    len_b  = sum(bv*bv for bv in b_vect) ** 0.5             \n",
    "    dot    = sum(av*bv for av,bv in zip(a_vect, b_vect))    \n",
    "    cosine = dot / (len_a * len_b)                          \n",
    "    \n",
    "    return cosine"
   ]
  },
  {
   "cell_type": "code",
   "execution_count": 20,
   "metadata": {},
   "outputs": [],
   "source": [
    "def get_similars(test_item, database, perms, num_results, forest):\n",
    "        \n",
    "    tokens = preprocess(test_item)\n",
    "    m = MinHash(num_perm=perms)\n",
    "    for s in tokens:\n",
    "        m.update(s.encode('utf8'))\n",
    "    \n",
    "    idx_array = np.array(forest.query(m, num_results))\n",
    "    if len(idx_array) == 0:\n",
    "        return None #if query is empty, return none\n",
    "    \n",
    "    #label = database.iloc[idx_array]['label']\n",
    "    #text = database.iloc[idx_array]['clean_comp_nouns']\n",
    "    df_results = pd.DataFrame(database.iloc[idx_array][['clean_key_words','label']])\n",
    "    \n",
    "    return df_results"
   ]
  },
  {
   "cell_type": "code",
   "execution_count": 21,
   "metadata": {},
   "outputs": [],
   "source": [
    "def predict(test_item, database, perms, num_results, forest):\n",
    "    df_pred = get_similars(test_item,df_train,permutations,num_similars,forest)\n",
    "    df_pred['cos_dist'] = df_pred.apply(lambda x: get_cosine(preprocess(x['clean_key_words']),text),axis=1)\n",
    "    \n",
    "    return df_pred.sort_values('cos_dist',ascending=False)\n",
    "    "
   ]
  },
  {
   "cell_type": "code",
   "execution_count": 22,
   "metadata": {},
   "outputs": [],
   "source": [
    "def predict_one(test_item, database, perms, num_results, forest):\n",
    "    df_pred_one = predict(test_item, database, perms, num_results, forest)\n",
    "    #get most similar item based on cosine distance\n",
    "    cat = None\n",
    "    try:\n",
    "        cat = df_pred_one.iloc[1, 1]\n",
    "    except:\n",
    "        cat = 'ed'\n",
    "    \n",
    "    return cat\n",
    "    "
   ]
  },
  {
   "cell_type": "code",
   "execution_count": 23,
   "metadata": {},
   "outputs": [],
   "source": [
    "def predict_mod(test_item, database, perms, num_results, forest):\n",
    "    label = None\n",
    "    try:\n",
    "        df_pred_mod = get_similars(test_item,df_train,permutations,num_similars,forest)\n",
    "        label = df_pred_mod['label'].value_counts()[:1].index.tolist()[0]\n",
    "    except:\n",
    "        return None\n",
    "    return label"
   ]
  },
  {
   "cell_type": "code",
   "execution_count": 17,
   "metadata": {},
   "outputs": [
    {
     "name": "stdout",
     "output_type": "stream",
     "text": [
      "It took 16.288270711898804 seconds to build forest.\n"
     ]
    }
   ],
   "source": [
    "#build lsh forest using training data\n",
    "forest = get_forest(df_train,permutations)"
   ]
  },
  {
   "cell_type": "code",
   "execution_count": 24,
   "metadata": {},
   "outputs": [
    {
     "name": "stdout",
     "output_type": "stream",
     "text": [
      "actual label:  ed\n",
      "mod similar:  mk\n",
      "closest similar:  mk\n",
      "All similars:                                          clean_key_words label  cos_dist\n",
      "2305  hot tub spa hot tub care expect par hard knowl...    os       0.0\n",
      "2405  gillingham dorset lick stick kennel gillingham...    mk       0.0\n",
      "4683  asugsv summit start october education innovati...    bu       0.0\n",
      "2516  long term term disability insurance denial add...    bu       0.0\n",
      "1624  pet sitting winnipeg dog dog walk manitoba pet...    bu       0.0\n",
      "6617  samsung medison medison samsung enhance premiu...    bu       0.0\n",
      "3672  princeton public public school john witherspoo...    ed       0.0\n",
      "6621  koi pond pond water garden fish spring koi fis...    os       0.0\n",
      "2014  office general removal company furniture offic...    mk       0.0\n",
      "3962  toxicology school education toxicology college...    ed       0.0\n",
      "5089  view detail detail view point program zap zoni...    os       0.0\n",
      "6115  child care slide show resource referral ccrr c...    ed       0.0\n",
      "4858  health care study faculty college virginia phy...    ed       0.0\n",
      "5378  golf rise rise animal cat adoption animal emer...    mk       0.0\n",
      "2792  skin care vera skin care product buy online pr...    os       0.0\n",
      "4457  slide slide care assessment autonomic nervous ...    bu       0.0\n",
      "234   hemp seed noni juice guide hemp skin care make...    dr       0.0\n",
      "2027  lincoln center center education skill critical...    ed       0.0\n",
      "6509  baldwin park park landscaping service baldwin ...    mk       0.0\n",
      "7409  student care education agent british council c...    ed       0.0\n",
      "2419  child care plasp child outdoors week week acti...    ed       0.0\n",
      "2675  aquatic construction mexico texas colorado ari...    mk       0.0\n",
      "501   clean product household cleaning product goo m...    os       0.0\n",
      "6899  www jackherer hemp seed cannabis college fibre...    dr       0.0\n",
      "7751  gas electric pacific gas care rebate program s...    mk       0.0\n",
      "446   continue legal legal education apexcle online ...    ed       0.0\n",
      "3135  jefferson lab element nitrogen table element s...    ed       0.0\n",
      "2110  arborilogical service shumard red steve houser...    mk       0.0\n",
      "3330  www jackherer hemp seed cannabis college fibre...    dr       0.0\n",
      "1541  child care care eden kinderberry hill woodbury...    ed       0.0\n",
      "1164  mainan anak care shop lego mainan boneka huruf...    os       0.0\n",
      "6540  car care poly steel hobby diy cleaning product...    mk       0.0\n",
      "5388  contact lense lense contact bifocal multifocal...    os       0.0\n",
      "2063  euro kid child care kid india map child progra...    ed       0.0\n",
      "656   elderly transportation door door ohio elderly ...    mk       0.0\n",
      "1173  pool spa island pool martha vineyard spa build...    mk       0.0\n",
      "3740  nri service home care facility management serv...    mk       0.0\n",
      "6174  hair care care product moroccanoil official pr...    os       0.0\n",
      "6181  pet care shop sandton care exotic accessory pe...    mk       0.0\n",
      "41    preschool education education center baptist t...    ed       0.0\n",
      "1705  salvia divinorum diviner sage buy salvia plant...    dr       0.0\n",
      "4009  tree care milling tree hedge trimming producti...    mk       0.0\n",
      "4147  charlotte care pet sitting service contact new...    mk       0.0\n",
      "6071  super food body care hemp super cannabis distr...    dr       0.0\n",
      "2231  personal care polymer detergent care specialty...    bu       0.0\n",
      "5048  personal care flame retardant biocide flame au...    bu       0.0\n",
      "3896  www jackherer hemp seed cannabis college fibre...    dr       0.0\n",
      "7738  www jackherer hemp seed cannabis college fibre...    dr       0.0\n",
      "6588  doha academy academy primary admission curricu...    ed       0.0\n",
      "3834  medical marijuana health alternative bring peo...    dr       0.0\n"
     ]
    },
    {
     "data": {
      "text/plain": [
       "'puchong kindergarten bukit puchong open day bandar bukit memory map education super preschool child mrc subject day session care hour'"
      ]
     },
     "execution_count": 24,
     "metadata": {},
     "output_type": "execute_result"
    }
   ],
   "source": [
    "#Number of similars to return\n",
    "num_similars = 50\n",
    "test_item = 5\n",
    "text = df_test['clean_key_words'][test_item]\n",
    "#query the forest\n",
    "df_predict = predict(text,df_train,permutations,num_similars,forest)\n",
    "print('actual label: ',df_test['label'][test_item])\n",
    "print('mod similar: ',predict_mod(text,df_train,permutations,num_similars,forest))\n",
    "print('closest similar: ',predict_one(text,df_train,permutations,num_similars,forest))\n",
    "print('All similars: ',predict(text,df_train,permutations,num_similars,forest))\n",
    "text"
   ]
  },
  {
   "cell_type": "code",
   "execution_count": 25,
   "metadata": {},
   "outputs": [],
   "source": [
    "df_results = pd.DataFrame(list(zip(df_test['clean_key_words'],df_test['label'])),columns=['terms','category'])\n",
    "df_results['lsh_predict'] = df_results.apply(lambda x: predict_mod(x['terms'],df_train,permutations,num_similars,forest),axis=1)\n",
    "df_results['match'] = np.where(df_results['category']==df_results['lsh_predict'],1,0)"
   ]
  },
  {
   "cell_type": "code",
   "execution_count": 26,
   "metadata": {},
   "outputs": [
    {
     "data": {
      "text/html": [
       "<div>\n",
       "<style scoped>\n",
       "    .dataframe tbody tr th:only-of-type {\n",
       "        vertical-align: middle;\n",
       "    }\n",
       "\n",
       "    .dataframe tbody tr th {\n",
       "        vertical-align: top;\n",
       "    }\n",
       "\n",
       "    .dataframe thead th {\n",
       "        text-align: right;\n",
       "    }\n",
       "</style>\n",
       "<table border=\"1\" class=\"dataframe\">\n",
       "  <thead>\n",
       "    <tr style=\"text-align: right;\">\n",
       "      <th></th>\n",
       "      <th>terms</th>\n",
       "      <th>category</th>\n",
       "      <th>lsh_predict</th>\n",
       "      <th>match</th>\n",
       "    </tr>\n",
       "  </thead>\n",
       "  <tbody>\n",
       "  </tbody>\n",
       "</table>\n",
       "</div>"
      ],
      "text/plain": [
       "Empty DataFrame\n",
       "Columns: [terms, category, lsh_predict, match]\n",
       "Index: []"
      ]
     },
     "execution_count": 26,
     "metadata": {},
     "output_type": "execute_result"
    }
   ],
   "source": [
    "df_results[df_results['lsh_predict'].isna()]"
   ]
  },
  {
   "cell_type": "code",
   "execution_count": 27,
   "metadata": {},
   "outputs": [
    {
     "data": {
      "text/plain": [
       "{'totalSamples': 2236,\n",
       " 'overallAccuracy': 0.5053667262969589,\n",
       " 'byCategory': {'sx': {'totalSamples': 332, 'accuracy': 0.8283132530120482},\n",
       "  'dr': {'totalSamples': 331, 'accuracy': 0.6737160120845922},\n",
       "  'sp': {'totalSamples': 318, 'accuracy': 0.5408805031446541},\n",
       "  'ed': {'totalSamples': 330, 'accuracy': 0.45151515151515154},\n",
       "  'bu': {'totalSamples': 311, 'accuracy': 0.3762057877813505},\n",
       "  'mk': {'totalSamples': 300, 'accuracy': 0.35333333333333333},\n",
       "  'os': {'totalSamples': 314, 'accuracy': 0.2802547770700637}}}"
      ]
     },
     "execution_count": 27,
     "metadata": {},
     "output_type": "execute_result"
    }
   ],
   "source": [
    "rpt = mr.generate_report(df_results)\n",
    "rpt"
   ]
  },
  {
   "cell_type": "code",
   "execution_count": 28,
   "metadata": {},
   "outputs": [
    {
     "name": "stdout",
     "output_type": "stream",
     "text": [
      "Confusion matrix, without normalization\n",
      "[[ 88  21  32  37  69  25  42]\n",
      " [ 18 149  16  46  43  17  41]\n",
      " [ 16  23 223  22  21   7  19]\n",
      " [ 24  38  13 172  29  26  16]\n",
      " [ 41  34  18  42 106  16  43]\n",
      " [  8  13   7  13  13 275   3]\n",
      " [ 33  49  24  29  52   7 117]]\n"
     ]
    },
    {
     "data": {
      "image/png": "[encoded data removed]",
      "text/plain": [
       "<Figure size 432x288 with 2 Axes>"
      ]
     },
     "metadata": {
      "needs_background": "light"
     },
     "output_type": "display_data"
    }
   ],
   "source": [
    "from sklearn.metrics import confusion_matrix\n",
    "cnf_matrix = confusion_matrix(df_results['category'],df_results['lsh_predict'],labels=['os','ed','dr','sp','mk','sx','bu'])\n",
    "np.set_printoptions(precision=2)\n",
    "\n",
    "# Plot non-normalized confusion matrix\n",
    "plt.figure()\n",
    "mr.plot_confusion_matrix(cnf_matrix, classes=['os','ed','dr','sp','mk','sx','bu'],\n",
    "                      title='Confusion matrix, LSH Forest')"
   ]
  }
 ],
 "metadata": {
  "kernelspec": {
   "display_name": "Python 3",
   "language": "python",
   "name": "python3"
  },
  "language_info": {
   "codemirror_mode": {
    "name": "ipython",
    "version": 3
   },
   "file_extension": ".py",
   "mimetype": "text/x-python",
   "name": "python",
   "nbconvert_exporter": "python",
   "pygments_lexer": "ipython3",
   "version": "3.8.5"
  }
 },
 "nbformat": 4,
 "nbformat_minor": 4
}
