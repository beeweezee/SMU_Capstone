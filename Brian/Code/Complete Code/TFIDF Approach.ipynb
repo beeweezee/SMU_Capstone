{
 "cells": [
  {
   "cell_type": "code",
   "execution_count": 1,
   "metadata": {},
   "outputs": [],
   "source": [
    "import numpy as np\n",
    "import text_normalizer as tn\n",
    "import matplotlib.pyplot as plt\n",
    "import pandas as pd\n",
    "import warnings\n",
    "warnings.filterwarnings('ignore')\n",
    "%matplotlib inline"
   ]
  },
  {
   "cell_type": "code",
   "execution_count": 2,
   "metadata": {},
   "outputs": [],
   "source": [
    "file_info = \"C:\\\\Users\\\\blgai\\\\OneDrive\\\\Documents\\\\School\\\\SMU\\\\Courses\\\\Fall 2021\\\\Capstone A\\Data\\\\cleaned_data_v1.csv\"\n",
    "df = pd.read_csv(file_info, sep='\\t')"
   ]
  },
  {
   "cell_type": "code",
   "execution_count": 3,
   "metadata": {},
   "outputs": [
    {
     "data": {
      "text/html": [
       "<div>\n",
       "<style scoped>\n",
       "    .dataframe tbody tr th:only-of-type {\n",
       "        vertical-align: middle;\n",
       "    }\n",
       "\n",
       "    .dataframe tbody tr th {\n",
       "        vertical-align: top;\n",
       "    }\n",
       "\n",
       "    .dataframe thead th {\n",
       "        text-align: right;\n",
       "    }\n",
       "</style>\n",
       "<table border=\"1\" class=\"dataframe\">\n",
       "  <thead>\n",
       "    <tr style=\"text-align: right;\">\n",
       "      <th></th>\n",
       "      <th>url</th>\n",
       "      <th>code</th>\n",
       "      <th>category</th>\n",
       "      <th>language</th>\n",
       "      <th>title</th>\n",
       "      <th>summary</th>\n",
       "      <th>key_words</th>\n",
       "      <th>content</th>\n",
       "      <th>combined</th>\n",
       "      <th>clean_combined</th>\n",
       "    </tr>\n",
       "  </thead>\n",
       "  <tbody>\n",
       "    <tr>\n",
       "      <th>0</th>\n",
       "      <td>*://BLAZINHERB.CA</td>\n",
       "      <td>200</td>\n",
       "      <td>dr</td>\n",
       "      <td>en</td>\n",
       "      <td>Blazin Herb</td>\n",
       "      <td>The Diamond High Crew</td>\n",
       "      <td>Blazin herb</td>\n",
       "      <td>Blazin Herb THC Edibles Concentrates Flower/bu...</td>\n",
       "      <td>Blazin Herb The Diamond High Crew Blazin herb ...</td>\n",
       "      <td>blazin herb diamond high crew blazin herb blaz...</td>\n",
       "    </tr>\n",
       "    <tr>\n",
       "      <th>1</th>\n",
       "      <td>*://THEHONEYPOTSTORE.CA</td>\n",
       "      <td>200</td>\n",
       "      <td>dr</td>\n",
       "      <td>en</td>\n",
       "      <td>The Honey Pot Cannabis and Medical Marijuana p...</td>\n",
       "      <td>The Honey Pot Hamilton Ontario, provides canna...</td>\n",
       "      <td>The Honey Pot ,Georgia Peach Cannabis and Medi...</td>\n",
       "      <td>The Honey Pot Home About Us F.A.Q.'s About The...</td>\n",
       "      <td>The Honey Pot Cannabis and Medical Marijuana p...</td>\n",
       "      <td>honey pot cannabis medical marijuana product s...</td>\n",
       "    </tr>\n",
       "    <tr>\n",
       "      <th>2</th>\n",
       "      <td>*://AMANTE.CA</td>\n",
       "      <td>200</td>\n",
       "      <td>dr</td>\n",
       "      <td>en</td>\n",
       "      <td>Amante Organics - Licensed Certified Organic C...</td>\n",
       "      <td>np-template-header-footer-from-plugin</td>\n",
       "      <td>Organic Cannabis, Certified Organic, Weed, Org...</td>\n",
       "      <td>Amante Organics LOCAL | ORGANIC | SUSTAINABLE ...</td>\n",
       "      <td>Amante Organics - Licensed Certified Organic C...</td>\n",
       "      <td>amante organics licensed certified organic can...</td>\n",
       "    </tr>\n",
       "    <tr>\n",
       "      <th>3</th>\n",
       "      <td>*://CANNAFLY.CA</td>\n",
       "      <td>200</td>\n",
       "      <td>dr</td>\n",
       "      <td>en</td>\n",
       "      <td>Cannafly</td>\n",
       "      <td>Cannafly</td>\n",
       "      <td>Marijuana, cannabis, medical marijuana, dispen...</td>\n",
       "      <td>Vancouver's Premium Mobile Medicinal Cannabis ...</td>\n",
       "      <td>Cannafly Cannafly Marijuana, cannabis, medical...</td>\n",
       "      <td>cannafly cannafly marijuana cannabis medical m...</td>\n",
       "    </tr>\n",
       "    <tr>\n",
       "      <th>4</th>\n",
       "      <td>*://GRON.VC</td>\n",
       "      <td>200</td>\n",
       "      <td>dr</td>\n",
       "      <td>en</td>\n",
       "      <td>Grøn Ventures</td>\n",
       "      <td>We are backing businesses and brands with pote...</td>\n",
       "      <td>cannabis vc, cannabis venture capital, gron ve...</td>\n",
       "      <td>GRØN VENTURES 4675 MacArthur Ct, 15th Floor, N...</td>\n",
       "      <td>Grøn Ventures We are backing businesses and br...</td>\n",
       "      <td>grn ventures back business brand potential mar...</td>\n",
       "    </tr>\n",
       "  </tbody>\n",
       "</table>\n",
       "</div>"
      ],
      "text/plain": [
       "                       url  code category language  \\\n",
       "0        *://BLAZINHERB.CA   200       dr       en   \n",
       "1  *://THEHONEYPOTSTORE.CA   200       dr       en   \n",
       "2            *://AMANTE.CA   200       dr       en   \n",
       "3          *://CANNAFLY.CA   200       dr       en   \n",
       "4              *://GRON.VC   200       dr       en   \n",
       "\n",
       "                                               title  \\\n",
       "0                                        Blazin Herb   \n",
       "1  The Honey Pot Cannabis and Medical Marijuana p...   \n",
       "2  Amante Organics - Licensed Certified Organic C...   \n",
       "3                                           Cannafly   \n",
       "4                                      Grøn Ventures   \n",
       "\n",
       "                                             summary  \\\n",
       "0                              The Diamond High Crew   \n",
       "1  The Honey Pot Hamilton Ontario, provides canna...   \n",
       "2              np-template-header-footer-from-plugin   \n",
       "3                                           Cannafly   \n",
       "4  We are backing businesses and brands with pote...   \n",
       "\n",
       "                                           key_words  \\\n",
       "0                                        Blazin herb   \n",
       "1  The Honey Pot ,Georgia Peach Cannabis and Medi...   \n",
       "2  Organic Cannabis, Certified Organic, Weed, Org...   \n",
       "3  Marijuana, cannabis, medical marijuana, dispen...   \n",
       "4  cannabis vc, cannabis venture capital, gron ve...   \n",
       "\n",
       "                                             content  \\\n",
       "0  Blazin Herb THC Edibles Concentrates Flower/bu...   \n",
       "1  The Honey Pot Home About Us F.A.Q.'s About The...   \n",
       "2  Amante Organics LOCAL | ORGANIC | SUSTAINABLE ...   \n",
       "3  Vancouver's Premium Mobile Medicinal Cannabis ...   \n",
       "4  GRØN VENTURES 4675 MacArthur Ct, 15th Floor, N...   \n",
       "\n",
       "                                            combined  \\\n",
       "0  Blazin Herb The Diamond High Crew Blazin herb ...   \n",
       "1  The Honey Pot Cannabis and Medical Marijuana p...   \n",
       "2  Amante Organics - Licensed Certified Organic C...   \n",
       "3  Cannafly Cannafly Marijuana, cannabis, medical...   \n",
       "4  Grøn Ventures We are backing businesses and br...   \n",
       "\n",
       "                                      clean_combined  \n",
       "0  blazin herb diamond high crew blazin herb blaz...  \n",
       "1  honey pot cannabis medical marijuana product s...  \n",
       "2  amante organics licensed certified organic can...  \n",
       "3  cannafly cannafly marijuana cannabis medical m...  \n",
       "4  grn ventures back business brand potential mar...  "
      ]
     },
     "execution_count": 3,
     "metadata": {},
     "output_type": "execute_result"
    }
   ],
   "source": [
    "df.head()"
   ]
  },
  {
   "cell_type": "code",
   "execution_count": 4,
   "metadata": {},
   "outputs": [
    {
     "data": {
      "text/plain": [
       "category\n",
       "bu    11731\n",
       "dr     1595\n",
       "ed     3894\n",
       "mk     8775\n",
       "os     6789\n",
       "sp     2535\n",
       "sx     6557\n",
       "dtype: int64"
      ]
     },
     "execution_count": 4,
     "metadata": {},
     "output_type": "execute_result"
    }
   ],
   "source": [
    "df.groupby(df.category).size()"
   ]
  },
  {
   "cell_type": "code",
   "execution_count": 5,
   "metadata": {},
   "outputs": [
    {
     "data": {
      "text/plain": [
       "((29302,), (8386,), (4188,))"
      ]
     },
     "execution_count": 5,
     "metadata": {},
     "output_type": "execute_result"
    }
   ],
   "source": [
    "from sklearn.model_selection import train_test_split\n",
    "#get 10% holdout set\n",
    "train_corpus, holdout_corpus, train_label, holdout_label = train_test_split(np.array(df['clean_combined']), \n",
    "                                                                            np.array(df['category']),\n",
    "                                                                           test_size=.10,random_state=1234)\n",
    "\n",
    "#get 80% train and 20% test sets\n",
    "train_corpus, test_corpus, train_label, test_label = train_test_split(train_corpus,\n",
    "                                                                      train_label,\n",
    "                                                                      test_size=.2225,random_state=1234) #.9 * .2225 = .20\n",
    "\n",
    "train_corpus.shape, test_corpus.shape, holdout_corpus.shape"
   ]
  },
  {
   "cell_type": "code",
   "execution_count": 6,
   "metadata": {},
   "outputs": [
    {
     "data": {
      "text/html": [
       "<div>\n",
       "<style scoped>\n",
       "    .dataframe tbody tr th:only-of-type {\n",
       "        vertical-align: middle;\n",
       "    }\n",
       "\n",
       "    .dataframe tbody tr th {\n",
       "        vertical-align: top;\n",
       "    }\n",
       "\n",
       "    .dataframe thead th {\n",
       "        text-align: right;\n",
       "    }\n",
       "</style>\n",
       "<table border=\"1\" class=\"dataframe\">\n",
       "  <thead>\n",
       "    <tr style=\"text-align: right;\">\n",
       "      <th></th>\n",
       "      <th>Target Label</th>\n",
       "      <th>Train Count</th>\n",
       "      <th>Test Count</th>\n",
       "      <th>Holdout Count</th>\n",
       "    </tr>\n",
       "  </thead>\n",
       "  <tbody>\n",
       "    <tr>\n",
       "      <th>2</th>\n",
       "      <td>bu</td>\n",
       "      <td>8187</td>\n",
       "      <td>2355</td>\n",
       "      <td>1189</td>\n",
       "    </tr>\n",
       "    <tr>\n",
       "      <th>0</th>\n",
       "      <td>mk</td>\n",
       "      <td>6177</td>\n",
       "      <td>1709</td>\n",
       "      <td>889</td>\n",
       "    </tr>\n",
       "    <tr>\n",
       "      <th>1</th>\n",
       "      <td>os</td>\n",
       "      <td>4743</td>\n",
       "      <td>1393</td>\n",
       "      <td>653</td>\n",
       "    </tr>\n",
       "    <tr>\n",
       "      <th>5</th>\n",
       "      <td>sx</td>\n",
       "      <td>4544</td>\n",
       "      <td>1345</td>\n",
       "      <td>668</td>\n",
       "    </tr>\n",
       "    <tr>\n",
       "      <th>6</th>\n",
       "      <td>ed</td>\n",
       "      <td>2723</td>\n",
       "      <td>783</td>\n",
       "      <td>388</td>\n",
       "    </tr>\n",
       "    <tr>\n",
       "      <th>4</th>\n",
       "      <td>sp</td>\n",
       "      <td>1783</td>\n",
       "      <td>494</td>\n",
       "      <td>258</td>\n",
       "    </tr>\n",
       "    <tr>\n",
       "      <th>3</th>\n",
       "      <td>dr</td>\n",
       "      <td>1145</td>\n",
       "      <td>307</td>\n",
       "      <td>143</td>\n",
       "    </tr>\n",
       "  </tbody>\n",
       "</table>\n",
       "</div>"
      ],
      "text/plain": [
       "  Target Label  Train Count  Test Count  Holdout Count\n",
       "2           bu         8187        2355           1189\n",
       "0           mk         6177        1709            889\n",
       "1           os         4743        1393            653\n",
       "5           sx         4544        1345            668\n",
       "6           ed         2723         783            388\n",
       "4           sp         1783         494            258\n",
       "3           dr         1145         307            143"
      ]
     },
     "execution_count": 6,
     "metadata": {},
     "output_type": "execute_result"
    }
   ],
   "source": [
    "from collections import Counter\n",
    "trd = dict(Counter(train_label))\n",
    "tsd = dict(Counter(test_label))\n",
    "tvd = dict(Counter(holdout_label))\n",
    "\n",
    "(pd.DataFrame([[key,trd[key],tsd[key],tvd[key]] for key in trd],columns=['Target Label','Train Count','Test Count','Holdout Count']).sort_values(by=['Train Count','Test Count','Holdout Count'],ascending=False))"
   ]
  },
  {
   "cell_type": "code",
   "execution_count": 7,
   "metadata": {},
   "outputs": [
    {
     "name": "stdout",
     "output_type": "stream",
     "text": [
      "TFIDF model:> Train features shape: (29302, 364296) Test features shape: (8386, 364296) Holdout features shape: (4188, 364296)\n"
     ]
    }
   ],
   "source": [
    "from sklearn.feature_extraction.text import TfidfVectorizer\n",
    "\n",
    "#build BOW features on train corpus\n",
    "tv = TfidfVectorizer(use_idf=True, min_df=0.0,max_df=1.0)\n",
    "tv_train_features = tv.fit_transform(train_corpus)\n",
    "#transform test corpus into features\n",
    "tv_test_features = tv.transform(test_corpus)\n",
    "#transform holdout corpus into features\n",
    "tv_holdout_features = tv.transform(holdout_corpus)\n",
    "\n",
    "print('TFIDF model:> Train features shape:',tv_train_features.shape,'Test features shape:',tv_test_features.shape,'Holdout features shape:',tv_holdout_features.shape)"
   ]
  },
  {
   "cell_type": "code",
   "execution_count": 10,
   "metadata": {},
   "outputs": [
    {
     "data": {
      "text/plain": [
       "RandomForestClassifier(n_estimators=10, random_state=1234)"
      ]
     },
     "execution_count": 10,
     "metadata": {},
     "output_type": "execute_result"
    }
   ],
   "source": [
    "#Random Forest\n",
    "from sklearn.ensemble import RandomForestClassifier\n",
    "from sklearn.model_selection import cross_val_score\n",
    "\n",
    "rfc = RandomForestClassifier(n_estimators=10,random_state=1234)\n",
    "rfc.fit(tv_train_features,train_label)\n"
   ]
  },
  {
   "cell_type": "code",
   "execution_count": 11,
   "metadata": {},
   "outputs": [],
   "source": [
    "rfc_tfidf_cv_scores = cross_val_score(rfc,tv_train_features,train_label,cv=5)"
   ]
  },
  {
   "cell_type": "code",
   "execution_count": 12,
   "metadata": {},
   "outputs": [],
   "source": [
    "rfc_tfidf_cv_mean_score = np.mean(rfc_tfidf_cv_scores)"
   ]
  },
  {
   "cell_type": "code",
   "execution_count": 13,
   "metadata": {},
   "outputs": [
    {
     "name": "stdout",
     "output_type": "stream",
     "text": [
      "CV Accuracy (5-fold): [0.72769152 0.7177956  0.72372014 0.73668942 0.73412969]\n",
      "Mean CV Accuracy: 0.7280052734771931\n"
     ]
    }
   ],
   "source": [
    "print('CV Accuracy (5-fold):',rfc_tfidf_cv_scores)\n",
    "print('Mean CV Accuracy:',rfc_tfidf_cv_mean_score)"
   ]
  },
  {
   "cell_type": "code",
   "execution_count": 14,
   "metadata": {},
   "outputs": [
    {
     "name": "stdout",
     "output_type": "stream",
     "text": [
      "Test Accuracy: 0.7356308132601955\n"
     ]
    }
   ],
   "source": [
    "rfc_tfidf_test_score = rfc.score(tv_test_features,test_label)\n",
    "print('Test Accuracy:',rfc_tfidf_test_score)"
   ]
  },
  {
   "cell_type": "code",
   "execution_count": 15,
   "metadata": {},
   "outputs": [
    {
     "data": {
      "text/plain": [
       "LinearSVC(C=1, random_state=1234)"
      ]
     },
     "execution_count": 15,
     "metadata": {},
     "output_type": "execute_result"
    }
   ],
   "source": [
    "#SVM\n",
    "from sklearn.svm import LinearSVC\n",
    "\n",
    "svm = LinearSVC(penalty='l2',C=1,random_state=1234)\n",
    "svm.fit(tv_train_features,train_label)"
   ]
  },
  {
   "cell_type": "code",
   "execution_count": 16,
   "metadata": {},
   "outputs": [],
   "source": [
    "svm_tfidf_cv_scores = cross_val_score(svm,tv_train_features,train_label,cv=5)"
   ]
  },
  {
   "cell_type": "code",
   "execution_count": 17,
   "metadata": {},
   "outputs": [],
   "source": [
    "svm_tfidf_cv_mean_score = np.mean(svm_tfidf_cv_scores)"
   ]
  },
  {
   "cell_type": "code",
   "execution_count": 18,
   "metadata": {},
   "outputs": [
    {
     "name": "stdout",
     "output_type": "stream",
     "text": [
      "CV Accuracy (5-fold): [0.84268896 0.84576011 0.85153584 0.84931741 0.84539249]\n",
      "Mean CV Accuracy: 0.8469389607825896\n"
     ]
    }
   ],
   "source": [
    "print('CV Accuracy (5-fold):',svm_tfidf_cv_scores)\n",
    "print('Mean CV Accuracy:',svm_tfidf_cv_mean_score)"
   ]
  },
  {
   "cell_type": "code",
   "execution_count": 19,
   "metadata": {},
   "outputs": [
    {
     "name": "stdout",
     "output_type": "stream",
     "text": [
      "Test Accuracy: 0.8578583353207727\n"
     ]
    }
   ],
   "source": [
    "svm_tfidf_test_score = svm.score(tv_test_features,test_label)\n",
    "print('Test Accuracy:',svm_tfidf_test_score)"
   ]
  },
  {
   "cell_type": "code",
   "execution_count": 20,
   "metadata": {},
   "outputs": [
    {
     "data": {
      "text/plain": [
       "MultinomialNB(alpha=1)"
      ]
     },
     "execution_count": 20,
     "metadata": {},
     "output_type": "execute_result"
    }
   ],
   "source": [
    "#Naive Bayes\n",
    "from sklearn.naive_bayes import MultinomialNB\n",
    "\n",
    "mnb = MultinomialNB(alpha=1)\n",
    "mnb.fit(tv_train_features,train_label)\n"
   ]
  },
  {
   "cell_type": "code",
   "execution_count": 21,
   "metadata": {},
   "outputs": [],
   "source": [
    "mnb_tfidf_cv_scores = cross_val_score(mnb,tv_train_features,train_label,cv=5)"
   ]
  },
  {
   "cell_type": "code",
   "execution_count": 22,
   "metadata": {},
   "outputs": [],
   "source": [
    "mnb_tfidf_cv_mean_score = np.mean(mnb_tfidf_cv_scores)"
   ]
  },
  {
   "cell_type": "code",
   "execution_count": 23,
   "metadata": {},
   "outputs": [
    {
     "name": "stdout",
     "output_type": "stream",
     "text": [
      "CV Accuracy (5-fold): [0.66353865 0.66985156 0.66143345 0.66962457 0.67116041]\n",
      "Mean CV Accuracy: 0.6671217272967083\n"
     ]
    }
   ],
   "source": [
    "print('CV Accuracy (5-fold):',mnb_tfidf_cv_scores)\n",
    "print('Mean CV Accuracy:',mnb_tfidf_cv_mean_score)"
   ]
  },
  {
   "cell_type": "code",
   "execution_count": 25,
   "metadata": {},
   "outputs": [
    {
     "name": "stdout",
     "output_type": "stream",
     "text": [
      "Test Accuracy: 0.6819699499165276\n"
     ]
    }
   ],
   "source": [
    "nmb_tfidf_test_score = mnb.score(tv_test_features,test_label)\n",
    "print('Test Accuracy:',nmb_tfidf_test_score)"
   ]
  },
  {
   "cell_type": "code",
   "execution_count": 26,
   "metadata": {},
   "outputs": [
    {
     "name": "stdout",
     "output_type": "stream",
     "text": [
      "Accuracy: 0.8579\n",
      "Precision: 0.8584\n",
      "Recall: 0.8579\n",
      "F1 Score: 0.858\n"
     ]
    }
   ],
   "source": [
    "import model_evaluation_utils as meu\n",
    "svm_predictions = svm.predict(tv_test_features)\n",
    "meu.get_metrics(true_labels=test_label,predicted_labels=svm_predictions)"
   ]
  },
  {
   "cell_type": "code",
   "execution_count": 28,
   "metadata": {},
   "outputs": [
    {
     "name": "stdout",
     "output_type": "stream",
     "text": [
      "              precision    recall  f1-score   support\n",
      "\n",
      "          bu       0.85      0.86      0.86      2355\n",
      "          dr       0.99      0.94      0.96       307\n",
      "          sp       0.90      0.88      0.89       494\n",
      "          mk       0.75      0.76      0.75      1709\n",
      "          sx       0.99      0.99      0.99      1345\n",
      "          os       0.82      0.79      0.80      1393\n",
      "          ed       0.91      0.90      0.90       783\n",
      "\n",
      "    accuracy                           0.86      8386\n",
      "   macro avg       0.89      0.87      0.88      8386\n",
      "weighted avg       0.86      0.86      0.86      8386\n",
      "\n"
     ]
    }
   ],
   "source": [
    "unique_classes = list(set(test_label))\n",
    "meu.display_classification_report(true_labels=test_label,predicted_labels=svm_predictions,classes=unique_classes)"
   ]
  },
  {
   "cell_type": "code",
   "execution_count": 29,
   "metadata": {},
   "outputs": [
    {
     "ename": "TypeError",
     "evalue": "__new__() got an unexpected keyword argument 'labels'",
     "output_type": "error",
     "traceback": [
      "\u001b[1;31m---------------------------------------------------------------------------\u001b[0m",
      "\u001b[1;31mTypeError\u001b[0m                                 Traceback (most recent call last)",
      "\u001b[1;32m<ipython-input-29-dc6f5db19ab8>\u001b[0m in \u001b[0;36m<module>\u001b[1;34m\u001b[0m\n\u001b[1;32m----> 1\u001b[1;33m \u001b[0mmeu\u001b[0m\u001b[1;33m.\u001b[0m\u001b[0mdisplay_confusion_matrix\u001b[0m\u001b[1;33m(\u001b[0m\u001b[0mtrue_labels\u001b[0m\u001b[1;33m=\u001b[0m\u001b[0mtest_label\u001b[0m\u001b[1;33m,\u001b[0m\u001b[0mpredicted_labels\u001b[0m\u001b[1;33m=\u001b[0m\u001b[0msvm_predictions\u001b[0m\u001b[1;33m,\u001b[0m\u001b[0mclasses\u001b[0m\u001b[1;33m=\u001b[0m\u001b[0munique_classes\u001b[0m\u001b[1;33m)\u001b[0m\u001b[1;33m\u001b[0m\u001b[1;33m\u001b[0m\u001b[0m\n\u001b[0m",
      "\u001b[1;32m~\\OneDrive\\Documents\\School\\SMU\\Courses\\Fall 2021\\Capstone A\\Code\\model_evaluation_utils.py\u001b[0m in \u001b[0;36mdisplay_confusion_matrix\u001b[1;34m(true_labels, predicted_labels, classes)\u001b[0m\n\u001b[0;32m     59\u001b[0m                                   labels=classes)\n\u001b[0;32m     60\u001b[0m     cm_frame = pd.DataFrame(data=cm, \n\u001b[1;32m---> 61\u001b[1;33m                             columns=pd.MultiIndex(levels=[['Predicted:'], classes], \n\u001b[0m\u001b[0;32m     62\u001b[0m                                                   labels=level_labels), \n\u001b[0;32m     63\u001b[0m                             index=pd.MultiIndex(levels=[['Actual:'], classes], \n",
      "\u001b[1;31mTypeError\u001b[0m: __new__() got an unexpected keyword argument 'labels'"
     ]
    }
   ],
   "source": [
    "meu.display_confusion_matrix(true_labels=test_label,predicted_labels=svm_predictions,classes=unique_classes)"
   ]
  }
 ],
 "metadata": {
  "kernelspec": {
   "display_name": "Python 3",
   "language": "python",
   "name": "python3"
  },
  "language_info": {
   "codemirror_mode": {
    "name": "ipython",
    "version": 3
   },
   "file_extension": ".py",
   "mimetype": "text/x-python",
   "name": "python",
   "nbconvert_exporter": "python",
   "pygments_lexer": "ipython3",
   "version": "3.8.5"
  }
 },
 "nbformat": 4,
 "nbformat_minor": 4
}
