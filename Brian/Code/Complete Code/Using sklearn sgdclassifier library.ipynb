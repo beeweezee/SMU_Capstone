{
 "cells": [
  {
   "cell_type": "code",
   "execution_count": 1,
   "metadata": {},
   "outputs": [],
   "source": [
    "import numpy as np\n",
    "import pandas as pd\n",
    "from sklearn.model_selection import cross_val_score\n",
    "import matplotlib.pyplot as plt\n",
    "import warnings\n",
    "import model_report as mr\n",
    "warnings.filterwarnings('ignore')\n",
    "%matplotlib inline"
   ]
  },
  {
   "cell_type": "code",
   "execution_count": 2,
   "metadata": {},
   "outputs": [],
   "source": [
    "file_info = \"C:\\\\Users\\\\blgai\\\\OneDrive\\\\Documents\\\\School\\\\SMU\\\\Courses\\\\Fall 2021\\\\Capstone A\\Data\\\\cleaned_chunked_v2.csv\"\n",
    "df = pd.read_csv(file_info, sep='\\t')"
   ]
  },
  {
   "cell_type": "code",
   "execution_count": 3,
   "metadata": {},
   "outputs": [
    {
     "data": {
      "text/html": [
       "<div>\n",
       "<style scoped>\n",
       "    .dataframe tbody tr th:only-of-type {\n",
       "        vertical-align: middle;\n",
       "    }\n",
       "\n",
       "    .dataframe tbody tr th {\n",
       "        vertical-align: top;\n",
       "    }\n",
       "\n",
       "    .dataframe thead th {\n",
       "        text-align: right;\n",
       "    }\n",
       "</style>\n",
       "<table border=\"1\" class=\"dataframe\">\n",
       "  <thead>\n",
       "    <tr style=\"text-align: right;\">\n",
       "      <th></th>\n",
       "      <th>url</th>\n",
       "      <th>code</th>\n",
       "      <th>category</th>\n",
       "      <th>language</th>\n",
       "      <th>title</th>\n",
       "      <th>summary</th>\n",
       "      <th>key_words</th>\n",
       "      <th>content</th>\n",
       "      <th>combined</th>\n",
       "      <th>nouns</th>\n",
       "      <th>compounds</th>\n",
       "      <th>comp_nouns</th>\n",
       "      <th>flat_comp_nouns</th>\n",
       "      <th>clean_comp_nouns</th>\n",
       "    </tr>\n",
       "  </thead>\n",
       "  <tbody>\n",
       "    <tr>\n",
       "      <th>0</th>\n",
       "      <td>*://BLAZINHERB.CA</td>\n",
       "      <td>200</td>\n",
       "      <td>dr</td>\n",
       "      <td>en</td>\n",
       "      <td>Blazin Herb</td>\n",
       "      <td>The Diamond High Crew</td>\n",
       "      <td>Blazin herb</td>\n",
       "      <td>Blazin Herb THC Edibles Concentrates Flower/bu...</td>\n",
       "      <td>Blazin Herb The Diamond High Crew Blazin herb ...</td>\n",
       "      <td>[('Blazin', 0, 6, 'PROPN'), ('Herb', 7, 11, 'P...</td>\n",
       "      <td>[('Blazin Herb', 0, 11, 'COMPOUND'), ('Diamond...</td>\n",
       "      <td>{'Read', 'Picks', 'DIAMOND', 'bud', 'THC', 'So...</td>\n",
       "      <td>{'Read', 'Picks', 'DIAMOND', 'bud', 'THC', 'So...</td>\n",
       "      <td>read picks diamond bud thc social sleep club r...</td>\n",
       "    </tr>\n",
       "    <tr>\n",
       "      <th>1</th>\n",
       "      <td>*://THEHONEYPOTSTORE.CA</td>\n",
       "      <td>200</td>\n",
       "      <td>dr</td>\n",
       "      <td>en</td>\n",
       "      <td>The Honey Pot Cannabis and Medical Marijuana p...</td>\n",
       "      <td>The Honey Pot Hamilton Ontario, provides canna...</td>\n",
       "      <td>The Honey Pot ,Georgia Peach Cannabis and Medi...</td>\n",
       "      <td>The Honey Pot Home About Us F.A.Q.'s About The...</td>\n",
       "      <td>The Honey Pot Cannabis and Medical Marijuana p...</td>\n",
       "      <td>[('Honey', 4, 9, 'PROPN'), ('Pot', 10, 13, 'PR...</td>\n",
       "      <td>[('Honey Pot Cannabis', 4, 22, 'COMPOUND'), ('...</td>\n",
       "      <td>{'appetite', 'Stress', 'Muscle', 'Hepatitis C'...</td>\n",
       "      <td>{'appetite', 'Stress', 'Muscle', 'Hepatitis C'...</td>\n",
       "      <td>appetite stress muscle hepatitis c hamilton hi...</td>\n",
       "    </tr>\n",
       "    <tr>\n",
       "      <th>2</th>\n",
       "      <td>*://AMANTE.CA</td>\n",
       "      <td>200</td>\n",
       "      <td>dr</td>\n",
       "      <td>en</td>\n",
       "      <td>Amante Organics - Licensed Certified Organic C...</td>\n",
       "      <td>np-template-header-footer-from-plugin</td>\n",
       "      <td>Organic Cannabis, Certified Organic, Weed, Org...</td>\n",
       "      <td>Amante Organics LOCAL | ORGANIC | SUSTAINABLE ...</td>\n",
       "      <td>Amante Organics - Licensed Certified Organic C...</td>\n",
       "      <td>[('Amante', 0, 6, 'PROPN'), ('Organics', 7, 15...</td>\n",
       "      <td>[('Amante Organics -', 0, 17, 'COMPOUND'), ('O...</td>\n",
       "      <td>{'nations', 'Rights Reserved', \"a'mante\", 'Lic...</td>\n",
       "      <td>{'nations', 'Rights Reserved', \"a'mante\", 'Lic...</td>\n",
       "      <td>nation rights reserved amante licensed np head...</td>\n",
       "    </tr>\n",
       "    <tr>\n",
       "      <th>3</th>\n",
       "      <td>*://CANNAFLY.CA</td>\n",
       "      <td>200</td>\n",
       "      <td>dr</td>\n",
       "      <td>en</td>\n",
       "      <td>Cannafly</td>\n",
       "      <td>Cannafly</td>\n",
       "      <td>Marijuana, cannabis, medical marijuana, dispen...</td>\n",
       "      <td>Vancouver's Premium Mobile Medicinal Cannabis ...</td>\n",
       "      <td>Cannafly Cannafly Marijuana, cannabis, medical...</td>\n",
       "      <td>[('Cannafly', 0, 8, 'PROPN'), ('Cannafly', 9, ...</td>\n",
       "      <td>[('marijuana legalization', 70, 92, 'COMPOUND'...</td>\n",
       "      <td>{'chilliwack', 'Connoisseurs', 'THC', 'industr...</td>\n",
       "      <td>{'chilliwack', 'Connoisseurs', 'THC', 'industr...</td>\n",
       "      <td>chilliwack connoisseurs thc industry death bub...</td>\n",
       "    </tr>\n",
       "    <tr>\n",
       "      <th>4</th>\n",
       "      <td>*://GRON.VC</td>\n",
       "      <td>200</td>\n",
       "      <td>dr</td>\n",
       "      <td>en</td>\n",
       "      <td>Grøn Ventures</td>\n",
       "      <td>We are backing businesses and brands with pote...</td>\n",
       "      <td>cannabis vc, cannabis venture capital, gron ve...</td>\n",
       "      <td>GRØN VENTURES 4675 MacArthur Ct, 15th Floor, N...</td>\n",
       "      <td>Grøn Ventures We are backing businesses and br...</td>\n",
       "      <td>[('Grøn', 0, 4, 'PROPN'), ('Ventures', 5, 13, ...</td>\n",
       "      <td>[('Grøn Ventures', 0, 13, 'COMPOUND'), ('marke...</td>\n",
       "      <td>{'marijuana', 'Beach', 'Newport', 'ventures', ...</td>\n",
       "      <td>{'marijuana', 'Beach', 'Newport', 'ventures', ...</td>\n",
       "      <td>marijuana beach newport venture ct ventures ma...</td>\n",
       "    </tr>\n",
       "  </tbody>\n",
       "</table>\n",
       "</div>"
      ],
      "text/plain": [
       "                       url  code category language  \\\n",
       "0        *://BLAZINHERB.CA   200       dr       en   \n",
       "1  *://THEHONEYPOTSTORE.CA   200       dr       en   \n",
       "2            *://AMANTE.CA   200       dr       en   \n",
       "3          *://CANNAFLY.CA   200       dr       en   \n",
       "4              *://GRON.VC   200       dr       en   \n",
       "\n",
       "                                               title  \\\n",
       "0                                        Blazin Herb   \n",
       "1  The Honey Pot Cannabis and Medical Marijuana p...   \n",
       "2  Amante Organics - Licensed Certified Organic C...   \n",
       "3                                           Cannafly   \n",
       "4                                      Grøn Ventures   \n",
       "\n",
       "                                             summary  \\\n",
       "0                              The Diamond High Crew   \n",
       "1  The Honey Pot Hamilton Ontario, provides canna...   \n",
       "2              np-template-header-footer-from-plugin   \n",
       "3                                           Cannafly   \n",
       "4  We are backing businesses and brands with pote...   \n",
       "\n",
       "                                           key_words  \\\n",
       "0                                        Blazin herb   \n",
       "1  The Honey Pot ,Georgia Peach Cannabis and Medi...   \n",
       "2  Organic Cannabis, Certified Organic, Weed, Org...   \n",
       "3  Marijuana, cannabis, medical marijuana, dispen...   \n",
       "4  cannabis vc, cannabis venture capital, gron ve...   \n",
       "\n",
       "                                             content  \\\n",
       "0  Blazin Herb THC Edibles Concentrates Flower/bu...   \n",
       "1  The Honey Pot Home About Us F.A.Q.'s About The...   \n",
       "2  Amante Organics LOCAL | ORGANIC | SUSTAINABLE ...   \n",
       "3  Vancouver's Premium Mobile Medicinal Cannabis ...   \n",
       "4  GRØN VENTURES 4675 MacArthur Ct, 15th Floor, N...   \n",
       "\n",
       "                                            combined  \\\n",
       "0  Blazin Herb The Diamond High Crew Blazin herb ...   \n",
       "1  The Honey Pot Cannabis and Medical Marijuana p...   \n",
       "2  Amante Organics - Licensed Certified Organic C...   \n",
       "3  Cannafly Cannafly Marijuana, cannabis, medical...   \n",
       "4  Grøn Ventures We are backing businesses and br...   \n",
       "\n",
       "                                               nouns  \\\n",
       "0  [('Blazin', 0, 6, 'PROPN'), ('Herb', 7, 11, 'P...   \n",
       "1  [('Honey', 4, 9, 'PROPN'), ('Pot', 10, 13, 'PR...   \n",
       "2  [('Amante', 0, 6, 'PROPN'), ('Organics', 7, 15...   \n",
       "3  [('Cannafly', 0, 8, 'PROPN'), ('Cannafly', 9, ...   \n",
       "4  [('Grøn', 0, 4, 'PROPN'), ('Ventures', 5, 13, ...   \n",
       "\n",
       "                                           compounds  \\\n",
       "0  [('Blazin Herb', 0, 11, 'COMPOUND'), ('Diamond...   \n",
       "1  [('Honey Pot Cannabis', 4, 22, 'COMPOUND'), ('...   \n",
       "2  [('Amante Organics -', 0, 17, 'COMPOUND'), ('O...   \n",
       "3  [('marijuana legalization', 70, 92, 'COMPOUND'...   \n",
       "4  [('Grøn Ventures', 0, 13, 'COMPOUND'), ('marke...   \n",
       "\n",
       "                                          comp_nouns  \\\n",
       "0  {'Read', 'Picks', 'DIAMOND', 'bud', 'THC', 'So...   \n",
       "1  {'appetite', 'Stress', 'Muscle', 'Hepatitis C'...   \n",
       "2  {'nations', 'Rights Reserved', \"a'mante\", 'Lic...   \n",
       "3  {'chilliwack', 'Connoisseurs', 'THC', 'industr...   \n",
       "4  {'marijuana', 'Beach', 'Newport', 'ventures', ...   \n",
       "\n",
       "                                     flat_comp_nouns  \\\n",
       "0  {'Read', 'Picks', 'DIAMOND', 'bud', 'THC', 'So...   \n",
       "1  {'appetite', 'Stress', 'Muscle', 'Hepatitis C'...   \n",
       "2  {'nations', 'Rights Reserved', \"a'mante\", 'Lic...   \n",
       "3  {'chilliwack', 'Connoisseurs', 'THC', 'industr...   \n",
       "4  {'marijuana', 'Beach', 'Newport', 'ventures', ...   \n",
       "\n",
       "                                    clean_comp_nouns  \n",
       "0  read picks diamond bud thc social sleep club r...  \n",
       "1  appetite stress muscle hepatitis c hamilton hi...  \n",
       "2  nation rights reserved amante licensed np head...  \n",
       "3  chilliwack connoisseurs thc industry death bub...  \n",
       "4  marijuana beach newport venture ct ventures ma...  "
      ]
     },
     "execution_count": 3,
     "metadata": {},
     "output_type": "execute_result"
    }
   ],
   "source": [
    "df.head()"
   ]
  },
  {
   "cell_type": "code",
   "execution_count": 4,
   "metadata": {},
   "outputs": [
    {
     "data": {
      "text/plain": [
       "category\n",
       "bu    11731\n",
       "dr     1595\n",
       "ed     3894\n",
       "mk     8775\n",
       "os     6789\n",
       "sp     2535\n",
       "sx     6557\n",
       "dtype: int64"
      ]
     },
     "execution_count": 4,
     "metadata": {},
     "output_type": "execute_result"
    }
   ],
   "source": [
    "df.groupby(df.category).size()"
   ]
  },
  {
   "cell_type": "code",
   "execution_count": 5,
   "metadata": {},
   "outputs": [
    {
     "data": {
      "text/plain": [
       "((29302,), (8386,), (4188,))"
      ]
     },
     "execution_count": 5,
     "metadata": {},
     "output_type": "execute_result"
    }
   ],
   "source": [
    "from sklearn.model_selection import train_test_split\n",
    "#get 10% holdout set\n",
    "train_corpus, holdout_corpus, train_label, holdout_label = train_test_split(df['clean_comp_nouns'], \n",
    "                                                                           df['category'],\n",
    "                                                                           test_size=.10,random_state=1234)\n",
    "\n",
    "#get 80% train and 20% test sets\n",
    "train_corpus, test_corpus, train_label, test_label = train_test_split(train_corpus,\n",
    "                                                                      train_label,\n",
    "                                                                      test_size=.2225,random_state=1234) #.9 * .2225 = .20\n",
    "\n",
    "train_corpus.shape, test_corpus.shape, holdout_corpus.shape"
   ]
  },
  {
   "cell_type": "code",
   "execution_count": 6,
   "metadata": {},
   "outputs": [
    {
     "name": "stdout",
     "output_type": "stream",
     "text": [
      "TFIDF model:> Train features shape: (29302, 344693) Test features shape: (8386, 344693) Holdout features shape: (4188, 344693)\n"
     ]
    }
   ],
   "source": [
    "from sklearn.feature_extraction.text import TfidfVectorizer\n",
    "\n",
    "#build BOW features on train corpus\n",
    "tv = TfidfVectorizer(use_idf=True, min_df=0.0,max_df=1.0, norm=\"l2\",smooth_idf=True)\n",
    "tv_train_features = tv.fit_transform(train_corpus)\n",
    "#transform test corpus into features\n",
    "tv_test_features = tv.transform(test_corpus)\n",
    "#transform holdout corpus into features\n",
    "tv_holdout_features = tv.transform(holdout_corpus)\n",
    "\n",
    "print('TFIDF model:> Train features shape:',tv_train_features.shape,'Test features shape:',tv_test_features.shape,'Holdout features shape:',tv_holdout_features.shape)"
   ]
  },
  {
   "cell_type": "code",
   "execution_count": 7,
   "metadata": {},
   "outputs": [
    {
     "data": {
      "text/plain": [
       "(29302, 1500)"
      ]
     },
     "execution_count": 7,
     "metadata": {},
     "output_type": "execute_result"
    }
   ],
   "source": [
    "#Let's find the top important features and analyze them\n",
    "\n",
    "from sklearn.feature_selection import SelectKBest\n",
    "from sklearn.feature_selection import chi2\n",
    "X_opt=SelectKBest(chi2, k=1500)\n",
    "tv_train_features_trimmed = X_opt.fit_transform(tv_train_features, train_label)\n",
    "tv_train_features_trimmed.shape"
   ]
  },
  {
   "cell_type": "code",
   "execution_count": 8,
   "metadata": {},
   "outputs": [
    {
     "data": {
      "text/html": [
       "<div>\n",
       "<style scoped>\n",
       "    .dataframe tbody tr th:only-of-type {\n",
       "        vertical-align: middle;\n",
       "    }\n",
       "\n",
       "    .dataframe tbody tr th {\n",
       "        vertical-align: top;\n",
       "    }\n",
       "\n",
       "    .dataframe thead th {\n",
       "        text-align: right;\n",
       "    }\n",
       "</style>\n",
       "<table border=\"1\" class=\"dataframe\">\n",
       "  <thead>\n",
       "    <tr style=\"text-align: right;\">\n",
       "      <th></th>\n",
       "      <th>Features</th>\n",
       "      <th>Important</th>\n",
       "    </tr>\n",
       "  </thead>\n",
       "  <tbody>\n",
       "    <tr>\n",
       "      <th>1118</th>\n",
       "      <td>abroad</td>\n",
       "      <td>True</td>\n",
       "    </tr>\n",
       "    <tr>\n",
       "      <th>1331</th>\n",
       "      <td>academic</td>\n",
       "      <td>True</td>\n",
       "    </tr>\n",
       "    <tr>\n",
       "      <th>1345</th>\n",
       "      <td>academics</td>\n",
       "      <td>True</td>\n",
       "    </tr>\n",
       "    <tr>\n",
       "      <th>1352</th>\n",
       "      <td>academy</td>\n",
       "      <td>True</td>\n",
       "    </tr>\n",
       "    <tr>\n",
       "      <th>1558</th>\n",
       "      <td>accessories</td>\n",
       "      <td>True</td>\n",
       "    </tr>\n",
       "    <tr>\n",
       "      <th>...</th>\n",
       "      <td>...</td>\n",
       "      <td>...</td>\n",
       "    </tr>\n",
       "    <tr>\n",
       "      <th>341278</th>\n",
       "      <td>young</td>\n",
       "      <td>True</td>\n",
       "    </tr>\n",
       "    <tr>\n",
       "      <th>341545</th>\n",
       "      <td>youth</td>\n",
       "      <td>True</td>\n",
       "    </tr>\n",
       "    <tr>\n",
       "      <th>342144</th>\n",
       "      <td>zaden</td>\n",
       "      <td>True</td>\n",
       "    </tr>\n",
       "    <tr>\n",
       "      <th>342324</th>\n",
       "      <td>zambeza</td>\n",
       "      <td>True</td>\n",
       "    </tr>\n",
       "    <tr>\n",
       "      <th>342346</th>\n",
       "      <td>zamnesia</td>\n",
       "      <td>True</td>\n",
       "    </tr>\n",
       "  </tbody>\n",
       "</table>\n",
       "<p>1500 rows × 2 columns</p>\n",
       "</div>"
      ],
      "text/plain": [
       "           Features  Important\n",
       "1118         abroad       True\n",
       "1331       academic       True\n",
       "1345      academics       True\n",
       "1352        academy       True\n",
       "1558    accessories       True\n",
       "...             ...        ...\n",
       "341278        young       True\n",
       "341545        youth       True\n",
       "342144        zaden       True\n",
       "342324      zambeza       True\n",
       "342346     zamnesia       True\n",
       "\n",
       "[1500 rows x 2 columns]"
      ]
     },
     "execution_count": 8,
     "metadata": {},
     "output_type": "execute_result"
    }
   ],
   "source": [
    "#create a data frame that includes all features and whether or not they are deemed important by feature_selection\n",
    "feat_imp = pd.DataFrame(list(zip(tv.get_feature_names(),X_opt.get_support().tolist())),columns = ['Features','Important'])\n",
    "feat_imp[feat_imp.Important == True]"
   ]
  },
  {
   "cell_type": "code",
   "execution_count": 9,
   "metadata": {},
   "outputs": [],
   "source": [
    "#Now we can grab the important features so that we can select only the important features from the sparse matrix created by TfidfVectorizer\n",
    "imp_Feats_array = np.array(feat_imp[feat_imp.Important == True].index)"
   ]
  },
  {
   "cell_type": "code",
   "execution_count": 10,
   "metadata": {},
   "outputs": [
    {
     "name": "stdout",
     "output_type": "stream",
     "text": [
      "TFIDF model:> Train features shape: (29302, 1500) Test features shape: (8386, 1500) Holdout features shape: (4188, 1500)\n"
     ]
    }
   ],
   "source": [
    "#Now we can pull only the important features out of the original train, test, and holdout matrices\n",
    "tv_train_features_sub = tv_train_features[:,imp_Feats_array]\n",
    "tv_test_features_sub = tv_test_features[:,imp_Feats_array]\n",
    "tv_holdout_features_sub = tv_holdout_features[:,imp_Feats_array]\n",
    "\n",
    "#Examine the new shapes of the sub-selected features\n",
    "print('TFIDF model:> Train features shape:',tv_train_features_sub.shape,'Test features shape:',tv_test_features_sub.shape,'Holdout features shape:',tv_holdout_features_sub.shape)"
   ]
  },
  {
   "cell_type": "code",
   "execution_count": 28,
   "metadata": {},
   "outputs": [
    {
     "data": {
      "text/plain": [
       "SGDClassifier(class_weight={'dr': 8, 'sx': 10}, loss='log', random_state=1234)"
      ]
     },
     "execution_count": 28,
     "metadata": {},
     "output_type": "execute_result"
    }
   ],
   "source": [
    "from sklearn.linear_model import SGDClassifier\n",
    "\n",
    "clf = SGDClassifier(loss='log',penalty='l2',class_weight={'dr':8,'sx':10},random_state=1234)\n",
    "clf.fit(tv_train_features_sub,train_label)"
   ]
  },
  {
   "cell_type": "code",
   "execution_count": 29,
   "metadata": {},
   "outputs": [
    {
     "name": "stdout",
     "output_type": "stream",
     "text": [
      "CV Accuracy (5-fold): [0.81 0.81 0.82 0.82 0.82]\n",
      "Mean CV Accuracy: 0.816941097891832\n"
     ]
    }
   ],
   "source": [
    "svm_tfidf_cv_scores = cross_val_score(clf,tv_train_features_sub,train_label,cv=5)\n",
    "svm_tfidf_cv_mean_score = np.mean(svm_tfidf_cv_scores)\n",
    "print('CV Accuracy (5-fold):',svm_tfidf_cv_scores)\n",
    "print('Mean CV Accuracy:',svm_tfidf_cv_mean_score)"
   ]
  },
  {
   "cell_type": "code",
   "execution_count": 30,
   "metadata": {},
   "outputs": [
    {
     "name": "stdout",
     "output_type": "stream",
     "text": [
      "Test Accuracy: 0.8248270927736704\n"
     ]
    }
   ],
   "source": [
    "svm_tfidf_test_score = clf.score(tv_test_features_sub,test_label)\n",
    "print('Test Accuracy:',svm_tfidf_test_score)"
   ]
  },
  {
   "cell_type": "code",
   "execution_count": 31,
   "metadata": {},
   "outputs": [
    {
     "name": "stdout",
     "output_type": "stream",
     "text": [
      "Accuracy: 0.8248\n",
      "Precision: 0.8299\n",
      "Recall: 0.8248\n",
      "F1 Score: 0.8239\n"
     ]
    }
   ],
   "source": [
    "import model_evaluation_utils as meu\n",
    "svm_predictions = clf.predict(tv_test_features_sub)\n",
    "meu.get_metrics(true_labels=test_label,predicted_labels=svm_predictions)"
   ]
  },
  {
   "cell_type": "code",
   "execution_count": 32,
   "metadata": {},
   "outputs": [
    {
     "name": "stdout",
     "output_type": "stream",
     "text": [
      "              precision    recall  f1-score   support\n",
      "\n",
      "          os       0.83      0.74      0.78      1393\n",
      "          sx       0.93      1.00      0.96      1345\n",
      "          dr       0.97      0.91      0.94       307\n",
      "          bu       0.77      0.89      0.83      2355\n",
      "          mk       0.71      0.71      0.71      1709\n",
      "          sp       0.96      0.76      0.85       494\n",
      "          ed       0.95      0.75      0.84       783\n",
      "\n",
      "    accuracy                           0.82      8386\n",
      "   macro avg       0.87      0.82      0.84      8386\n",
      "weighted avg       0.83      0.82      0.82      8386\n",
      "\n"
     ]
    }
   ],
   "source": [
    "unique_classes = list(set(test_label))\n",
    "meu.display_classification_report(true_labels=test_label,predicted_labels=svm_predictions,classes=unique_classes)"
   ]
  },
  {
   "cell_type": "code",
   "execution_count": 33,
   "metadata": {},
   "outputs": [
    {
     "name": "stdout",
     "output_type": "stream",
     "text": [
      "Confusion matrix, without normalization\n",
      "[[1034   14    4    6  188   24  123]\n",
      " [   8  586    0    6   58   17  108]\n",
      " [  11    0  279    0    5    8    4]\n",
      " [  15    6    0  376   49   23   25]\n",
      " [ 114    8    2    3 1207   24  351]\n",
      " [   0    0    0    0    2 1342    1]\n",
      " [  64    6    2    1  184    5 2093]]\n"
     ]
    },
    {
     "data": {
      "image/png": "[encoded data removed]",
      "text/plain": [
       "<Figure size 432x288 with 2 Axes>"
      ]
     },
     "metadata": {
      "needs_background": "light"
     },
     "output_type": "display_data"
    }
   ],
   "source": [
    "from sklearn.metrics import confusion_matrix\n",
    "cnf_matrix = confusion_matrix(test_label,svm_predictions,labels=['os','ed','dr','sp','mk','sx','bu'])\n",
    "np.set_printoptions(precision=2)\n",
    "\n",
    "# Plot non-normalized confusion matrix\n",
    "plt.figure()\n",
    "mr.plot_confusion_matrix(cnf_matrix, classes=['os','ed','dr','sp','mk','sx','bu'],\n",
    "                      title='Confusion matrix, TFIDF on Clean Chunked')"
   ]
  },
  {
   "cell_type": "code",
   "execution_count": 34,
   "metadata": {},
   "outputs": [
    {
     "data": {
      "image/png": "[encoded data removed]",
      "text/plain": [
       "<Figure size 1296x648 with 1 Axes>"
      ]
     },
     "metadata": {
      "needs_background": "light"
     },
     "output_type": "display_data"
    }
   ],
   "source": [
    "y_proba = clf.predict_proba(tv_test_features_sub)\n",
    "\n",
    "labels_dict = dict(zip(df.category,df.category))\n",
    "target_names = sorted(list(labels_dict.values()))\n",
    "\n",
    "mr.plot_roc_curve(labels=test_label, predictions=y_proba, x_lim=[0.0,0.5], y_lim=[0.5,1.0], target_names=target_names)"
   ]
  }
 ],
 "metadata": {
  "kernelspec": {
   "display_name": "Python 3",
   "language": "python",
   "name": "python3"
  },
  "language_info": {
   "codemirror_mode": {
    "name": "ipython",
    "version": 3
   },
   "file_extension": ".py",
   "mimetype": "text/x-python",
   "name": "python",
   "nbconvert_exporter": "python",
   "pygments_lexer": "ipython3",
   "version": "3.8.5"
  }
 },
 "nbformat": 4,
 "nbformat_minor": 4
}
