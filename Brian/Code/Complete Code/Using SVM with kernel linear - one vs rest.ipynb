{
 "cells": [
  {
   "cell_type": "code",
   "execution_count": 1,
   "metadata": {},
   "outputs": [],
   "source": [
    "import numpy as np\n",
    "import pandas as pd\n",
    "from sklearn.model_selection import cross_val_score\n",
    "import matplotlib.pyplot as plt\n",
    "import warnings\n",
    "import model_report as mr\n",
    "import pickle\n",
    "from sklearn import svm\n",
    "from sklearn.multiclass import OneVsRestClassifier\n",
    "warnings.filterwarnings('ignore')\n",
    "%matplotlib inline"
   ]
  },
  {
   "cell_type": "code",
   "execution_count": 2,
   "metadata": {},
   "outputs": [],
   "source": [
    "df_test = pd.read_csv('C:\\\\Users\\\\blgai\\\\OneDrive\\\\Documents\\\\School\\\\SMU\\\\Courses\\\\Fall 2021\\\\Capstone A\\Data\\\\test_comp_nouns_v1.csv')"
   ]
  },
  {
   "cell_type": "code",
   "execution_count": 3,
   "metadata": {},
   "outputs": [],
   "source": [
    "#load data... this data is the optimal 4100 features we identified\n",
    "X_train = pickle.load(open('tv_train_features_sub.pkl','rb'))\n",
    "X_test = pickle.load(open('tv_test_features_sub.pkl','rb'))\n",
    "#X_holdout = pickle.load(open('tv_holdout_features_sub.pkl','rb'))\n",
    "\n",
    "#load labels\n",
    "y_train = pickle.load(open('train_label.pkl','rb'))\n",
    "y_test = pickle.load(open('test_label.pkl','rb'))\n",
    "#y_holdout = pickle.load(open('holdout_label.pkl','rb'))\n",
    "\n",
    "#save TFIDFVectorizer to disk\n",
    "#pickle.dump(tv,open('TFIDFVectorizer.pkl','wb'))"
   ]
  },
  {
   "cell_type": "code",
   "execution_count": 4,
   "metadata": {},
   "outputs": [
    {
     "data": {
      "text/plain": [
       "OneVsRestClassifier(estimator=SVC(kernel='linear', probability=True,\n",
       "                                  random_state=1234))"
      ]
     },
     "execution_count": 4,
     "metadata": {},
     "output_type": "execute_result"
    }
   ],
   "source": [
    "clf = svm.SVC(kernel='linear', probability=True, C=1.0,random_state=1234)\n",
    "ovr = OneVsRestClassifier(clf)\n",
    "ovr.fit(X_train,y_train)"
   ]
  },
  {
   "cell_type": "code",
   "execution_count": 5,
   "metadata": {},
   "outputs": [
    {
     "name": "stdout",
     "output_type": "stream",
     "text": [
      "Test Accuracy: 0.8677557834486048\n"
     ]
    }
   ],
   "source": [
    "ovr_test_score = ovr.score(X_test,y_test)\n",
    "print('Test Accuracy:',ovr_test_score)"
   ]
  },
  {
   "cell_type": "code",
   "execution_count": 6,
   "metadata": {},
   "outputs": [
    {
     "name": "stdout",
     "output_type": "stream",
     "text": [
      "Accuracy: 0.8678\n",
      "Precision: 0.8682\n",
      "Recall: 0.8678\n",
      "F1 Score: 0.8678\n"
     ]
    }
   ],
   "source": [
    "import model_evaluation_utils as meu\n",
    "ovr_predictions = ovr.predict(X_test)\n",
    "meu.get_metrics(true_labels=y_test,predicted_labels=ovr_predictions)"
   ]
  },
  {
   "cell_type": "code",
   "execution_count": 7,
   "metadata": {},
   "outputs": [
    {
     "name": "stdout",
     "output_type": "stream",
     "text": [
      "              precision    recall  f1-score   support\n",
      "\n",
      "          ed       0.91      0.89      0.90       783\n",
      "          bu       0.85      0.88      0.86      2355\n",
      "          dr       0.98      0.94      0.96       307\n",
      "          sx       0.99      0.99      0.99      1345\n",
      "          mk       0.77      0.78      0.77      1709\n",
      "          os       0.85      0.80      0.82      1393\n",
      "          sp       0.89      0.90      0.90       494\n",
      "\n",
      "    accuracy                           0.87      8386\n",
      "   macro avg       0.89      0.88      0.89      8386\n",
      "weighted avg       0.87      0.87      0.87      8386\n",
      "\n"
     ]
    }
   ],
   "source": [
    "unique_classes = list(set(y_test))\n",
    "meu.display_classification_report(true_labels=y_test,predicted_labels=ovr_predictions,classes=unique_classes)"
   ]
  },
  {
   "cell_type": "code",
   "execution_count": 8,
   "metadata": {},
   "outputs": [
    {
     "name": "stdout",
     "output_type": "stream",
     "text": [
      "Confusion matrix, without normalization\n",
      "[[1120   19    3   14  144    3   90]\n",
      " [   8  694    0   10   17    0   54]\n",
      " [   9    1  288    0    3    2    4]\n",
      " [  11    6    0  445   25    3    4]\n",
      " [ 109   24    0   24 1327    3  222]\n",
      " [   3    0    0    1    4 1334    3]\n",
      " [  65   17    2    5  196    1 2069]]\n"
     ]
    },
    {
     "data": {
      "image/png": "[encoded data removed]",
      "text/plain": [
       "<Figure size 432x288 with 2 Axes>"
      ]
     },
     "metadata": {
      "needs_background": "light"
     },
     "output_type": "display_data"
    }
   ],
   "source": [
    "from sklearn.metrics import confusion_matrix\n",
    "cnf_matrix = confusion_matrix(y_test,ovr_predictions,labels=['os','ed','dr','sp','mk','sx','bu'])\n",
    "mr.plot_confusion_matrix(cnf_matrix, classes=['os','ed','dr','sp','mk','sx','bu'],\n",
    "                      title='Confusion matrix, One vs Rest - TFIDF on Clean Chunked')"
   ]
  },
  {
   "cell_type": "code",
   "execution_count": 9,
   "metadata": {},
   "outputs": [],
   "source": [
    "df_test_results = pd.DataFrame(list(zip(df_test['clean_comp_nouns'],y_test,ovr_predictions)),columns = ['terms','category','predicted_label'])\n",
    "df_test_results['match'] = np.where(df_test_results['category']==df_test_results['predicted_label'],1,0)"
   ]
  },
  {
   "cell_type": "code",
   "execution_count": 10,
   "metadata": {},
   "outputs": [
    {
     "data": {
      "text/plain": [
       "{'totalSamples': 8386,\n",
       " 'overallAccuracy': 0.8677557834486048,\n",
       " 'byCategory': {'sx': {'totalSamples': 1345, 'accuracy': 0.9918215613382899},\n",
       "  'dr': {'totalSamples': 307, 'accuracy': 0.9381107491856677},\n",
       "  'sp': {'totalSamples': 494, 'accuracy': 0.9008097165991903},\n",
       "  'ed': {'totalSamples': 783, 'accuracy': 0.8863346104725415},\n",
       "  'bu': {'totalSamples': 2355, 'accuracy': 0.8785562632696391},\n",
       "  'os': {'totalSamples': 1393, 'accuracy': 0.8040201005025126},\n",
       "  'mk': {'totalSamples': 1709, 'accuracy': 0.7764774722059684}}}"
      ]
     },
     "execution_count": 10,
     "metadata": {},
     "output_type": "execute_result"
    }
   ],
   "source": [
    "rpt = mr.generate_report(df_test_results)\n",
    "rpt"
   ]
  },
  {
   "cell_type": "code",
   "execution_count": 11,
   "metadata": {},
   "outputs": [],
   "source": [
    "#save model file\n",
    "filename = 'ovr_comp_nouns_v1.sav'\n",
    "pickle.dump(ovr,open(filename,'wb'))"
   ]
  }
 ],
 "metadata": {
  "kernelspec": {
   "display_name": "Python 3",
   "language": "python",
   "name": "python3"
  },
  "language_info": {
   "codemirror_mode": {
    "name": "ipython",
    "version": 3
   },
   "file_extension": ".py",
   "mimetype": "text/x-python",
   "name": "python",
   "nbconvert_exporter": "python",
   "pygments_lexer": "ipython3",
   "version": "3.8.5"
  }
 },
 "nbformat": 4,
 "nbformat_minor": 4
}
